{
  "cells": [
    {
      "cell_type": "markdown",
      "metadata": {
        "id": "AT9gLMONFs-8"
      },
      "source": [
        "# **Environment Setup**"
      ]
    },
    {
      "cell_type": "code",
      "execution_count": 3,
      "metadata": {
        "colab": {
          "base_uri": "https://localhost:8080/"
        },
        "id": "VuRdvnsgFxWx",
        "outputId": "5d48d26f-7caa-4e75-f8e4-82a85198c2c2"
      },
      "outputs": [
        {
          "name": "stdout",
          "output_type": "stream",
          "text": [
            "Requirement already satisfied: openai in /usr/local/lib/python3.10/dist-packages (1.54.5)\n",
            "Collecting openai\n",
            "  Downloading openai-1.57.4-py3-none-any.whl.metadata (24 kB)\n",
            "Requirement already satisfied: anyio<5,>=3.5.0 in /usr/local/lib/python3.10/dist-packages (from openai) (3.7.1)\n",
            "Requirement already satisfied: distro<2,>=1.7.0 in /usr/local/lib/python3.10/dist-packages (from openai) (1.9.0)\n",
            "Requirement already satisfied: httpx<1,>=0.23.0 in /usr/local/lib/python3.10/dist-packages (from openai) (0.28.1)\n",
            "Requirement already satisfied: jiter<1,>=0.4.0 in /usr/local/lib/python3.10/dist-packages (from openai) (0.8.2)\n",
            "Requirement already satisfied: pydantic<3,>=1.9.0 in /usr/local/lib/python3.10/dist-packages (from openai) (2.10.3)\n",
            "Requirement already satisfied: sniffio in /usr/local/lib/python3.10/dist-packages (from openai) (1.3.1)\n",
            "Requirement already satisfied: tqdm>4 in /usr/local/lib/python3.10/dist-packages (from openai) (4.66.6)\n",
            "Requirement already satisfied: typing-extensions<5,>=4.11 in /usr/local/lib/python3.10/dist-packages (from openai) (4.12.2)\n",
            "Requirement already satisfied: idna>=2.8 in /usr/local/lib/python3.10/dist-packages (from anyio<5,>=3.5.0->openai) (3.10)\n",
            "Requirement already satisfied: exceptiongroup in /usr/local/lib/python3.10/dist-packages (from anyio<5,>=3.5.0->openai) (1.2.2)\n",
            "Requirement already satisfied: certifi in /usr/local/lib/python3.10/dist-packages (from httpx<1,>=0.23.0->openai) (2024.8.30)\n",
            "Requirement already satisfied: httpcore==1.* in /usr/local/lib/python3.10/dist-packages (from httpx<1,>=0.23.0->openai) (1.0.7)\n",
            "Requirement already satisfied: h11<0.15,>=0.13 in /usr/local/lib/python3.10/dist-packages (from httpcore==1.*->httpx<1,>=0.23.0->openai) (0.14.0)\n",
            "Requirement already satisfied: annotated-types>=0.6.0 in /usr/local/lib/python3.10/dist-packages (from pydantic<3,>=1.9.0->openai) (0.7.0)\n",
            "Requirement already satisfied: pydantic-core==2.27.1 in /usr/local/lib/python3.10/dist-packages (from pydantic<3,>=1.9.0->openai) (2.27.1)\n",
            "Downloading openai-1.57.4-py3-none-any.whl (390 kB)\n",
            "\u001b[2K   \u001b[90m━━━━━━━━━━━━━━━━━━━━━━━━━━━━━━━━━━━━━━━━\u001b[0m \u001b[32m390.3/390.3 kB\u001b[0m \u001b[31m10.9 MB/s\u001b[0m eta \u001b[36m0:00:00\u001b[0m\n",
            "\u001b[?25hInstalling collected packages: openai\n",
            "  Attempting uninstall: openai\n",
            "    Found existing installation: openai 1.54.5\n",
            "    Uninstalling openai-1.54.5:\n",
            "      Successfully uninstalled openai-1.54.5\n",
            "Successfully installed openai-1.57.4\n"
          ]
        }
      ],
      "source": [
        "!pip install --upgrade openai"
      ]
    },
    {
      "cell_type": "code",
      "execution_count": 2,
      "metadata": {
        "colab": {
          "base_uri": "https://localhost:8080/"
        },
        "id": "kvZGsjowGMCq",
        "outputId": "3ac1bcb6-2090-4c2e-fcad-2a95e73fbbb4"
      },
      "outputs": [
        {
          "name": "stdout",
          "output_type": "stream",
          "text": [
            "Collecting datasets\n",
            "  Downloading datasets-3.2.0-py3-none-any.whl.metadata (20 kB)\n",
            "Requirement already satisfied: filelock in /usr/local/lib/python3.10/dist-packages (from datasets) (3.16.1)\n",
            "Requirement already satisfied: numpy>=1.17 in /usr/local/lib/python3.10/dist-packages (from datasets) (1.26.4)\n",
            "Requirement already satisfied: pyarrow>=15.0.0 in /usr/local/lib/python3.10/dist-packages (from datasets) (17.0.0)\n",
            "Collecting dill<0.3.9,>=0.3.0 (from datasets)\n",
            "  Downloading dill-0.3.8-py3-none-any.whl.metadata (10 kB)\n",
            "Requirement already satisfied: pandas in /usr/local/lib/python3.10/dist-packages (from datasets) (2.2.2)\n",
            "Requirement already satisfied: requests>=2.32.2 in /usr/local/lib/python3.10/dist-packages (from datasets) (2.32.3)\n",
            "Requirement already satisfied: tqdm>=4.66.3 in /usr/local/lib/python3.10/dist-packages (from datasets) (4.66.6)\n",
            "Collecting xxhash (from datasets)\n",
            "  Downloading xxhash-3.5.0-cp310-cp310-manylinux_2_17_x86_64.manylinux2014_x86_64.whl.metadata (12 kB)\n",
            "Collecting multiprocess<0.70.17 (from datasets)\n",
            "  Downloading multiprocess-0.70.16-py310-none-any.whl.metadata (7.2 kB)\n",
            "Collecting fsspec<=2024.9.0,>=2023.1.0 (from fsspec[http]<=2024.9.0,>=2023.1.0->datasets)\n",
            "  Downloading fsspec-2024.9.0-py3-none-any.whl.metadata (11 kB)\n",
            "Requirement already satisfied: aiohttp in /usr/local/lib/python3.10/dist-packages (from datasets) (3.11.10)\n",
            "Requirement already satisfied: huggingface-hub>=0.23.0 in /usr/local/lib/python3.10/dist-packages (from datasets) (0.26.5)\n",
            "Requirement already satisfied: packaging in /usr/local/lib/python3.10/dist-packages (from datasets) (24.2)\n",
            "Requirement already satisfied: pyyaml>=5.1 in /usr/local/lib/python3.10/dist-packages (from datasets) (6.0.2)\n",
            "Requirement already satisfied: aiohappyeyeballs>=2.3.0 in /usr/local/lib/python3.10/dist-packages (from aiohttp->datasets) (2.4.4)\n",
            "Requirement already satisfied: aiosignal>=1.1.2 in /usr/local/lib/python3.10/dist-packages (from aiohttp->datasets) (1.3.1)\n",
            "Requirement already satisfied: async-timeout<6.0,>=4.0 in /usr/local/lib/python3.10/dist-packages (from aiohttp->datasets) (4.0.3)\n",
            "Requirement already satisfied: attrs>=17.3.0 in /usr/local/lib/python3.10/dist-packages (from aiohttp->datasets) (24.2.0)\n",
            "Requirement already satisfied: frozenlist>=1.1.1 in /usr/local/lib/python3.10/dist-packages (from aiohttp->datasets) (1.5.0)\n",
            "Requirement already satisfied: multidict<7.0,>=4.5 in /usr/local/lib/python3.10/dist-packages (from aiohttp->datasets) (6.1.0)\n",
            "Requirement already satisfied: propcache>=0.2.0 in /usr/local/lib/python3.10/dist-packages (from aiohttp->datasets) (0.2.1)\n",
            "Requirement already satisfied: yarl<2.0,>=1.17.0 in /usr/local/lib/python3.10/dist-packages (from aiohttp->datasets) (1.18.3)\n",
            "Requirement already satisfied: typing-extensions>=3.7.4.3 in /usr/local/lib/python3.10/dist-packages (from huggingface-hub>=0.23.0->datasets) (4.12.2)\n",
            "Requirement already satisfied: charset-normalizer<4,>=2 in /usr/local/lib/python3.10/dist-packages (from requests>=2.32.2->datasets) (3.4.0)\n",
            "Requirement already satisfied: idna<4,>=2.5 in /usr/local/lib/python3.10/dist-packages (from requests>=2.32.2->datasets) (3.10)\n",
            "Requirement already satisfied: urllib3<3,>=1.21.1 in /usr/local/lib/python3.10/dist-packages (from requests>=2.32.2->datasets) (2.2.3)\n",
            "Requirement already satisfied: certifi>=2017.4.17 in /usr/local/lib/python3.10/dist-packages (from requests>=2.32.2->datasets) (2024.8.30)\n",
            "Requirement already satisfied: python-dateutil>=2.8.2 in /usr/local/lib/python3.10/dist-packages (from pandas->datasets) (2.8.2)\n",
            "Requirement already satisfied: pytz>=2020.1 in /usr/local/lib/python3.10/dist-packages (from pandas->datasets) (2024.2)\n",
            "Requirement already satisfied: tzdata>=2022.7 in /usr/local/lib/python3.10/dist-packages (from pandas->datasets) (2024.2)\n",
            "Requirement already satisfied: six>=1.5 in /usr/local/lib/python3.10/dist-packages (from python-dateutil>=2.8.2->pandas->datasets) (1.17.0)\n",
            "Downloading datasets-3.2.0-py3-none-any.whl (480 kB)\n",
            "\u001b[2K   \u001b[90m━━━━━━━━━━━━━━━━━━━━━━━━━━━━━━━━━━━━━━━━\u001b[0m \u001b[32m480.6/480.6 kB\u001b[0m \u001b[31m4.4 MB/s\u001b[0m eta \u001b[36m0:00:00\u001b[0m\n",
            "\u001b[?25hDownloading dill-0.3.8-py3-none-any.whl (116 kB)\n",
            "\u001b[2K   \u001b[90m━━━━━━━━━━━━━━━━━━━━━━━━━━━━━━━━━━━━━━━━\u001b[0m \u001b[32m116.3/116.3 kB\u001b[0m \u001b[31m5.7 MB/s\u001b[0m eta \u001b[36m0:00:00\u001b[0m\n",
            "\u001b[?25hDownloading fsspec-2024.9.0-py3-none-any.whl (179 kB)\n",
            "\u001b[2K   \u001b[90m━━━━━━━━━━━━━━━━━━━━━━━━━━━━━━━━━━━━━━━━\u001b[0m \u001b[32m179.3/179.3 kB\u001b[0m \u001b[31m6.7 MB/s\u001b[0m eta \u001b[36m0:00:00\u001b[0m\n",
            "\u001b[?25hDownloading multiprocess-0.70.16-py310-none-any.whl (134 kB)\n",
            "\u001b[2K   \u001b[90m━━━━━━━━━━━━━━━━━━━━━━━━━━━━━━━━━━━━━━━━\u001b[0m \u001b[32m134.8/134.8 kB\u001b[0m \u001b[31m10.3 MB/s\u001b[0m eta \u001b[36m0:00:00\u001b[0m\n",
            "\u001b[?25hDownloading xxhash-3.5.0-cp310-cp310-manylinux_2_17_x86_64.manylinux2014_x86_64.whl (194 kB)\n",
            "\u001b[2K   \u001b[90m━━━━━━━━━━━━━━━━━━━━━━━━━━━━━━━━━━━━━━━━\u001b[0m \u001b[32m194.1/194.1 kB\u001b[0m \u001b[31m9.0 MB/s\u001b[0m eta \u001b[36m0:00:00\u001b[0m\n",
            "\u001b[?25hInstalling collected packages: xxhash, fsspec, dill, multiprocess, datasets\n",
            "  Attempting uninstall: fsspec\n",
            "    Found existing installation: fsspec 2024.10.0\n",
            "    Uninstalling fsspec-2024.10.0:\n",
            "      Successfully uninstalled fsspec-2024.10.0\n",
            "\u001b[31mERROR: pip's dependency resolver does not currently take into account all the packages that are installed. This behaviour is the source of the following dependency conflicts.\n",
            "gcsfs 2024.10.0 requires fsspec==2024.10.0, but you have fsspec 2024.9.0 which is incompatible.\u001b[0m\u001b[31m\n",
            "\u001b[0mSuccessfully installed datasets-3.2.0 dill-0.3.8 fsspec-2024.9.0 multiprocess-0.70.16 xxhash-3.5.0\n"
          ]
        }
      ],
      "source": [
        "!pip install datasets"
      ]
    },
    {
      "cell_type": "code",
      "execution_count": 4,
      "metadata": {
        "colab": {
          "base_uri": "https://localhost:8080/"
        },
        "id": "aaBDGgfjGP2z",
        "outputId": "2f3c926d-ddad-4d15-f5d5-3b1abe16ba60"
      },
      "outputs": [
        {
          "name": "stdout",
          "output_type": "stream",
          "text": [
            "Collecting jsonlines\n",
            "  Downloading jsonlines-4.0.0-py3-none-any.whl.metadata (1.6 kB)\n",
            "Requirement already satisfied: attrs>=19.2.0 in /usr/local/lib/python3.10/dist-packages (from jsonlines) (24.2.0)\n",
            "Downloading jsonlines-4.0.0-py3-none-any.whl (8.7 kB)\n",
            "Installing collected packages: jsonlines\n",
            "Successfully installed jsonlines-4.0.0\n"
          ]
        }
      ],
      "source": [
        "!pip install jsonlines"
      ]
    },
    {
      "cell_type": "code",
      "execution_count": 5,
      "metadata": {
        "id": "KQXr8LXNGUwZ"
      },
      "outputs": [],
      "source": [
        "import pandas as pd\n",
        "import json\n",
        "import re\n",
        "from datasets import load_dataset\n",
        "import random\n",
        "import openai\n",
        "import os\n",
        "from sklearn.model_selection import train_test_split\n",
        "import jsonlines\n",
        "from sklearn.metrics.pairwise import cosine_similarity\n",
        "from sklearn.metrics import accuracy_score, f1_score\n",
        "from sentence_transformers import SentenceTransformer\n",
        "from nltk.translate.bleu_score import sentence_bleu, SmoothingFunction\n",
        "from nltk.tokenize import word_tokenize\n",
        "import numpy as np\n"
      ]
    },
    {
      "cell_type": "code",
      "execution_count": 7,
      "metadata": {
        "id": "_xGhEsqHWheQ"
      },
      "outputs": [],
      "source": [
        "#import os\n",
        "os.environ[\"OPENAI_API_KEY\"]  # Replace with actual API key\n",
        "\n",
        "from openai import OpenAI\n",
        "client = OpenAI(api_key=os.getenv(\"OPENAI_API_KEY\"))"
      ]
    },
    {
      "cell_type": "markdown",
      "metadata": {
        "id": "AKlkc_ftHTD4"
      },
      "source": [
        "# **1. Load Dataset : MedQuad**"
      ]
    },
    {
      "cell_type": "code",
      "execution_count": 6,
      "metadata": {
        "colab": {
          "base_uri": "https://localhost:8080/",
          "height": 217,
          "referenced_widgets": [
            "347429d7ec6b4e48bd301061d03aaf90",
            "e00e44a7448f44e6aa4a2d8183bd2b53",
            "94c12c8cb83940419e509597bc4310cd",
            "aaa2d914b9ae4a889d59a491e04e843d",
            "efbc61df6dc74841ab2d967cdf4bbd71",
            "5b584e3319844eb1b76d480f73510127",
            "a8cd998d26ab4eabbde2c6d28a797757",
            "4df9acda3f82444a95b616b39cf0ba8e",
            "5888542bd0584ed781581603b8e2d307",
            "645117a3c5bd4efbb3c4d0cfd78cbf95",
            "f1288703a8654f0da66c0d66ee94688c",
            "8933d1e8129e49878a852dc181925f3c",
            "5f19ae566520419aafa7151c633fe5f8",
            "d1f88b500bc7426baaae9ff68530228b",
            "02d948c0e01d4de6b5f3c17212d7782b",
            "bc02b3400bca4faca6a3884004734dca",
            "525ba31e734a4667954b9d0c1d8bf2ec",
            "94a7ceb9c1ed4461b1cd88fe8ad4bb27",
            "3befe0ff4a3147a29df1ffe2eb04549c",
            "9db96c3e02284f5098d8d78fdf3ba9aa",
            "d0339a8a65024fcdab22d00c725d8cbe",
            "c4f77c3817da4962aab560f80efc66b6",
            "1f6dabdccc2748c5b0252a5ec0114486",
            "a5d19954f29d4be6a5b97fc33c6b2189",
            "7753ff89f8004af093212a278d350f06",
            "f92ecbfb6a21426690820b0322ae4b4d",
            "61bb9ce8b3ca4df7974ccd51ce9db512",
            "01f1445f03d04e2a90a147e073921dea",
            "434c8f93d3cd45a68ca634d828c636d9",
            "bfa6aa83e6b841eeb0738fec610dfc1c",
            "e9d50fdd22754b67abe4999a3a1b91e3",
            "d6b9f5fdcdc6427585118dbba44c2f71",
            "2dec30fc69de421f838251752653adbf"
          ]
        },
        "id": "Nh6-RhAOHNE5",
        "outputId": "561a070d-56aa-4fb5-9760-74207c43da29"
      },
      "outputs": [
        {
          "name": "stderr",
          "output_type": "stream",
          "text": [
            "/usr/local/lib/python3.10/dist-packages/huggingface_hub/utils/_auth.py:94: UserWarning: \n",
            "The secret `HF_TOKEN` does not exist in your Colab secrets.\n",
            "To authenticate with the Hugging Face Hub, create a token in your settings tab (https://huggingface.co/settings/tokens), set it as secret in your Google Colab and restart your session.\n",
            "You will be able to reuse this secret in all of your notebooks.\n",
            "Please note that authentication is recommended but still optional to access public models or datasets.\n",
            "  warnings.warn(\n"
          ]
        },
        {
          "data": {
            "application/vnd.jupyter.widget-view+json": {
              "model_id": "347429d7ec6b4e48bd301061d03aaf90",
              "version_major": 2,
              "version_minor": 0
            },
            "text/plain": [
              "README.md:   0%|          | 0.00/233 [00:00<?, ?B/s]"
            ]
          },
          "metadata": {},
          "output_type": "display_data"
        },
        {
          "data": {
            "application/vnd.jupyter.widget-view+json": {
              "model_id": "8933d1e8129e49878a852dc181925f3c",
              "version_major": 2,
              "version_minor": 0
            },
            "text/plain": [
              "medDataset_processed.csv:   0%|          | 0.00/22.5M [00:00<?, ?B/s]"
            ]
          },
          "metadata": {},
          "output_type": "display_data"
        },
        {
          "data": {
            "application/vnd.jupyter.widget-view+json": {
              "model_id": "1f6dabdccc2748c5b0252a5ec0114486",
              "version_major": 2,
              "version_minor": 0
            },
            "text/plain": [
              "Generating train split:   0%|          | 0/16407 [00:00<?, ? examples/s]"
            ]
          },
          "metadata": {},
          "output_type": "display_data"
        }
      ],
      "source": [
        "# Load only the 'train' split\n",
        "medquad_dataset = load_dataset(\"keivalya/MedQuad-MedicalQnADataset\", split=\"train\")\n",
        "\n",
        "# Convert to DataFrame\n",
        "medquad_df = pd.DataFrame(medquad_dataset)"
      ]
    },
    {
      "cell_type": "code",
      "execution_count": 7,
      "metadata": {
        "colab": {
          "base_uri": "https://localhost:8080/"
        },
        "id": "MGcBlNSispek",
        "outputId": "650e6a32-36f7-4550-8743-cb653745cf23"
      },
      "outputs": [
        {
          "name": "stdout",
          "output_type": "stream",
          "text": [
            "qtype\n",
            "information        4535\n",
            "symptoms           2748\n",
            "treatment          2442\n",
            "inheritance        1446\n",
            "frequency          1120\n",
            "genetic changes    1087\n",
            "causes              727\n",
            "exams and tests     653\n",
            "research            395\n",
            "outlook             361\n",
            "susceptibility      324\n",
            "considerations      235\n",
            "prevention          210\n",
            "stages               77\n",
            "complications        46\n",
            "support groups        1\n",
            "Name: count, dtype: int64\n"
          ]
        }
      ],
      "source": [
        "unique_qtype_counts = medquad_df['qtype'].value_counts()\n",
        "\n",
        "# Print the counts\n",
        "print(unique_qtype_counts)"
      ]
    },
    {
      "cell_type": "markdown",
      "metadata": {
        "id": "yQ-R5nyoOyK3"
      },
      "source": [
        "# **2. Data Cleaning and Preprocessing**"
      ]
    },
    {
      "cell_type": "markdown",
      "metadata": {
        "id": "jcZbzhXCLFbt"
      },
      "source": [
        "**Check NULL values, if any drop them**"
      ]
    },
    {
      "cell_type": "code",
      "execution_count": 9,
      "metadata": {
        "colab": {
          "base_uri": "https://localhost:8080/"
        },
        "id": "kiJrKK5rHo3f",
        "outputId": "9c8cf9a5-a091-4b94-ba80-94adf71cc92e"
      },
      "outputs": [
        {
          "name": "stdout",
          "output_type": "stream",
          "text": [
            "qtype       0\n",
            "Question    0\n",
            "Answer      0\n",
            "dtype: int64\n"
          ]
        }
      ],
      "source": [
        "# Check for null values in each column\n",
        "null_counts = medquad_df.isnull().sum()\n",
        "\n",
        "# Print the null counts\n",
        "print(null_counts)"
      ]
    },
    {
      "cell_type": "markdown",
      "metadata": {
        "id": "dlMdDcF2LZCv"
      },
      "source": [
        "**Check DUPLICATE values, if any drop them**"
      ]
    },
    {
      "cell_type": "code",
      "execution_count": 10,
      "metadata": {
        "colab": {
          "base_uri": "https://localhost:8080/"
        },
        "id": "FDqeXOoBKqTJ",
        "outputId": "f98ded1c-71a0-4482-d9b1-0851fd1f7902"
      },
      "outputs": [
        {
          "name": "stdout",
          "output_type": "stream",
          "text": [
            "Number of duplicates: 48\n"
          ]
        }
      ],
      "source": [
        "# Check for duplicates based on all columns\n",
        "duplicates = medquad_df.duplicated()\n",
        "\n",
        "# Print the number of duplicates\n",
        "print(f\"Number of duplicates: {duplicates.sum()}\")"
      ]
    },
    {
      "cell_type": "code",
      "execution_count": 11,
      "metadata": {
        "id": "ly7GavkaKulY"
      },
      "outputs": [],
      "source": [
        "# Drop duplicate rows, keeping only the first occurrence\n",
        "medquad_df = medquad_df.drop_duplicates(keep='first')\n",
        "\n",
        "# Reset the index\n",
        "medquad_df = medquad_df.reset_index(drop=True)"
      ]
    },
    {
      "cell_type": "code",
      "execution_count": 12,
      "metadata": {
        "colab": {
          "base_uri": "https://localhost:8080/",
          "height": 424
        },
        "id": "hEEZCuVFMKC9",
        "outputId": "6ccbfde2-86d0-4bc6-8c07-9e64c3c1b135"
      },
      "outputs": [
        {
          "data": {
            "application/vnd.google.colaboratory.intrinsic+json": {
              "summary": "{\n  \"name\": \"medquad_df\",\n  \"rows\": 16359,\n  \"fields\": [\n    {\n      \"column\": \"qtype\",\n      \"properties\": {\n        \"dtype\": \"category\",\n        \"num_unique_values\": 16,\n        \"samples\": [\n          \"susceptibility\",\n          \"symptoms\",\n          \"information\"\n        ],\n        \"semantic_type\": \"\",\n        \"description\": \"\"\n      }\n    },\n    {\n      \"column\": \"Question\",\n      \"properties\": {\n        \"dtype\": \"string\",\n        \"num_unique_values\": 14979,\n        \"samples\": [\n          \"What are the symptoms of Danon disease ?\",\n          \"What is (are) Dowling-Degos disease ?\",\n          \"What are the genetic changes related to Pearson marrow-pancreas syndrome ?\"\n        ],\n        \"semantic_type\": \"\",\n        \"description\": \"\"\n      }\n    },\n    {\n      \"column\": \"Answer\",\n      \"properties\": {\n        \"dtype\": \"string\",\n        \"num_unique_values\": 15817,\n        \"samples\": [\n          \"These resources address the diagnosis or management of glycogen storage disease type III:  - Gene Review: Gene Review: Glycogen Storage Disease Type III  - Genetic Testing Registry: Glycogen storage disease type III   These resources from MedlinePlus offer information about the diagnosis and management of various health conditions:  - Diagnostic Tests  - Drug Therapy  - Surgery and Rehabilitation  - Genetic Counseling   - Palliative Care\",\n          \"Diagnostic Challenges\\n  \\nFor doctors, diagnosing chronic fatigue syndrome (CFS) can be complicated by a number of factors:\\n  \\n   - There's no lab test or biomarker for CFS.\\n   - Fatigue and other symptoms of CFS are common to many illnesses.\\n   - For some CFS patients, it may not be obvious to doctors that they are ill.\\n   - The illness has a pattern of remission and relapse.\\n   - Symptoms vary from person to person in type, number, and severity.\\n  \\n  \\nThese factors have contributed to a low diagnosis rate. Of the one to four million Americans who have CFS, less than 20% have been diagnosed.\\n  Exams and Screening Tests for CFS\\n  \\nBecause there is no blood test, brain scan, or other lab test to diagnose CFS, the doctor should first rule out other possible causes.\\n  \\nIf a patient has had 6 or more consecutive months of severe fatigue that is reported to be unrelieved by sufficient bed rest and that is accompanied by nonspecific symptoms, including flu-like symptoms, generalized pain, and memory problems, the doctor should consider the possibility that the patient may have CFS. Further exams and tests are needed before a diagnosis can be made:\\n  \\n   - A detailed medical history will be needed and should include a review of medications that could be causing the fatigue and symptoms\\n   - A thorough physical and mental status examination will also be needed\\n   - A battery of laboratory screening tests will be needed to help identify or rule out other possible causes of the symptoms that could be treated\\n   - The doctor may also order additional tests to follow up on results of the initial screening tests\\n  \\n  \\nA CFS diagnosis requires that the patient has been fatigued for 6 months or more and has 4 of the 8 symptoms for CFS for 6 months or more. If, however, the patient has been fatigued for 6 months or more but does not have four of the eight symptoms, the diagnosis may be idiopathic fatigue.\\n  \\nThe complete process for diagnosing CFS can be found here.\\n  \\nAdditional information for healthcare professionals on use of tests can be found here.\",\n          \"Eating, diet, and nutrition have not been shown to play a role in causing or preventing simple kidney cysts.\"\n        ],\n        \"semantic_type\": \"\",\n        \"description\": \"\"\n      }\n    }\n  ]\n}",
              "type": "dataframe",
              "variable_name": "medquad_df"
            },
            "text/html": [
              "\n",
              "  <div id=\"df-67b4db9b-ece8-4fc3-b011-486b1c47cffc\" class=\"colab-df-container\">\n",
              "    <div>\n",
              "<style scoped>\n",
              "    .dataframe tbody tr th:only-of-type {\n",
              "        vertical-align: middle;\n",
              "    }\n",
              "\n",
              "    .dataframe tbody tr th {\n",
              "        vertical-align: top;\n",
              "    }\n",
              "\n",
              "    .dataframe thead th {\n",
              "        text-align: right;\n",
              "    }\n",
              "</style>\n",
              "<table border=\"1\" class=\"dataframe\">\n",
              "  <thead>\n",
              "    <tr style=\"text-align: right;\">\n",
              "      <th></th>\n",
              "      <th>qtype</th>\n",
              "      <th>Question</th>\n",
              "      <th>Answer</th>\n",
              "    </tr>\n",
              "  </thead>\n",
              "  <tbody>\n",
              "    <tr>\n",
              "      <th>0</th>\n",
              "      <td>susceptibility</td>\n",
              "      <td>Who is at risk for Lymphocytic Choriomeningiti...</td>\n",
              "      <td>LCMV infections can occur after exposure to fr...</td>\n",
              "    </tr>\n",
              "    <tr>\n",
              "      <th>1</th>\n",
              "      <td>symptoms</td>\n",
              "      <td>What are the symptoms of Lymphocytic Choriomen...</td>\n",
              "      <td>LCMV is most commonly recognized as causing ne...</td>\n",
              "    </tr>\n",
              "    <tr>\n",
              "      <th>2</th>\n",
              "      <td>susceptibility</td>\n",
              "      <td>Who is at risk for Lymphocytic Choriomeningiti...</td>\n",
              "      <td>Individuals of all ages who come into contact ...</td>\n",
              "    </tr>\n",
              "    <tr>\n",
              "      <th>3</th>\n",
              "      <td>exams and tests</td>\n",
              "      <td>How to diagnose Lymphocytic Choriomeningitis (...</td>\n",
              "      <td>During the first phase of the disease, the mos...</td>\n",
              "    </tr>\n",
              "    <tr>\n",
              "      <th>4</th>\n",
              "      <td>treatment</td>\n",
              "      <td>What are the treatments for Lymphocytic Chorio...</td>\n",
              "      <td>Aseptic meningitis, encephalitis, or meningoen...</td>\n",
              "    </tr>\n",
              "    <tr>\n",
              "      <th>...</th>\n",
              "      <td>...</td>\n",
              "      <td>...</td>\n",
              "      <td>...</td>\n",
              "    </tr>\n",
              "    <tr>\n",
              "      <th>16354</th>\n",
              "      <td>symptoms</td>\n",
              "      <td>What are the symptoms of Familial visceral myo...</td>\n",
              "      <td>What are the signs and symptoms of Familial vi...</td>\n",
              "    </tr>\n",
              "    <tr>\n",
              "      <th>16355</th>\n",
              "      <td>information</td>\n",
              "      <td>What is (are) Pseudopelade of Brocq ?</td>\n",
              "      <td>Pseudopelade of Brocq (PBB) is a slowly progre...</td>\n",
              "    </tr>\n",
              "    <tr>\n",
              "      <th>16356</th>\n",
              "      <td>symptoms</td>\n",
              "      <td>What are the symptoms of Pseudopelade of Brocq ?</td>\n",
              "      <td>What are the signs and symptoms of Pseudopelad...</td>\n",
              "    </tr>\n",
              "    <tr>\n",
              "      <th>16357</th>\n",
              "      <td>treatment</td>\n",
              "      <td>What are the treatments for Pseudopelade of Br...</td>\n",
              "      <td>Is there treatment or a cure for pseudopelade ...</td>\n",
              "    </tr>\n",
              "    <tr>\n",
              "      <th>16358</th>\n",
              "      <td>information</td>\n",
              "      <td>What is (are) Desmoplastic small round cell tu...</td>\n",
              "      <td>Desmoplastic small round cell tumors (DSRCT), ...</td>\n",
              "    </tr>\n",
              "  </tbody>\n",
              "</table>\n",
              "<p>16359 rows × 3 columns</p>\n",
              "</div>\n",
              "    <div class=\"colab-df-buttons\">\n",
              "\n",
              "  <div class=\"colab-df-container\">\n",
              "    <button class=\"colab-df-convert\" onclick=\"convertToInteractive('df-67b4db9b-ece8-4fc3-b011-486b1c47cffc')\"\n",
              "            title=\"Convert this dataframe to an interactive table.\"\n",
              "            style=\"display:none;\">\n",
              "\n",
              "  <svg xmlns=\"http://www.w3.org/2000/svg\" height=\"24px\" viewBox=\"0 -960 960 960\">\n",
              "    <path d=\"M120-120v-720h720v720H120Zm60-500h600v-160H180v160Zm220 220h160v-160H400v160Zm0 220h160v-160H400v160ZM180-400h160v-160H180v160Zm440 0h160v-160H620v160ZM180-180h160v-160H180v160Zm440 0h160v-160H620v160Z\"/>\n",
              "  </svg>\n",
              "    </button>\n",
              "\n",
              "  <style>\n",
              "    .colab-df-container {\n",
              "      display:flex;\n",
              "      gap: 12px;\n",
              "    }\n",
              "\n",
              "    .colab-df-convert {\n",
              "      background-color: #E8F0FE;\n",
              "      border: none;\n",
              "      border-radius: 50%;\n",
              "      cursor: pointer;\n",
              "      display: none;\n",
              "      fill: #1967D2;\n",
              "      height: 32px;\n",
              "      padding: 0 0 0 0;\n",
              "      width: 32px;\n",
              "    }\n",
              "\n",
              "    .colab-df-convert:hover {\n",
              "      background-color: #E2EBFA;\n",
              "      box-shadow: 0px 1px 2px rgba(60, 64, 67, 0.3), 0px 1px 3px 1px rgba(60, 64, 67, 0.15);\n",
              "      fill: #174EA6;\n",
              "    }\n",
              "\n",
              "    .colab-df-buttons div {\n",
              "      margin-bottom: 4px;\n",
              "    }\n",
              "\n",
              "    [theme=dark] .colab-df-convert {\n",
              "      background-color: #3B4455;\n",
              "      fill: #D2E3FC;\n",
              "    }\n",
              "\n",
              "    [theme=dark] .colab-df-convert:hover {\n",
              "      background-color: #434B5C;\n",
              "      box-shadow: 0px 1px 3px 1px rgba(0, 0, 0, 0.15);\n",
              "      filter: drop-shadow(0px 1px 2px rgba(0, 0, 0, 0.3));\n",
              "      fill: #FFFFFF;\n",
              "    }\n",
              "  </style>\n",
              "\n",
              "    <script>\n",
              "      const buttonEl =\n",
              "        document.querySelector('#df-67b4db9b-ece8-4fc3-b011-486b1c47cffc button.colab-df-convert');\n",
              "      buttonEl.style.display =\n",
              "        google.colab.kernel.accessAllowed ? 'block' : 'none';\n",
              "\n",
              "      async function convertToInteractive(key) {\n",
              "        const element = document.querySelector('#df-67b4db9b-ece8-4fc3-b011-486b1c47cffc');\n",
              "        const dataTable =\n",
              "          await google.colab.kernel.invokeFunction('convertToInteractive',\n",
              "                                                    [key], {});\n",
              "        if (!dataTable) return;\n",
              "\n",
              "        const docLinkHtml = 'Like what you see? Visit the ' +\n",
              "          '<a target=\"_blank\" href=https://colab.research.google.com/notebooks/data_table.ipynb>data table notebook</a>'\n",
              "          + ' to learn more about interactive tables.';\n",
              "        element.innerHTML = '';\n",
              "        dataTable['output_type'] = 'display_data';\n",
              "        await google.colab.output.renderOutput(dataTable, element);\n",
              "        const docLink = document.createElement('div');\n",
              "        docLink.innerHTML = docLinkHtml;\n",
              "        element.appendChild(docLink);\n",
              "      }\n",
              "    </script>\n",
              "  </div>\n",
              "\n",
              "\n",
              "<div id=\"df-cb2697f1-f1c8-4414-bb4c-90f25edf6c54\">\n",
              "  <button class=\"colab-df-quickchart\" onclick=\"quickchart('df-cb2697f1-f1c8-4414-bb4c-90f25edf6c54')\"\n",
              "            title=\"Suggest charts\"\n",
              "            style=\"display:none;\">\n",
              "\n",
              "<svg xmlns=\"http://www.w3.org/2000/svg\" height=\"24px\"viewBox=\"0 0 24 24\"\n",
              "     width=\"24px\">\n",
              "    <g>\n",
              "        <path d=\"M19 3H5c-1.1 0-2 .9-2 2v14c0 1.1.9 2 2 2h14c1.1 0 2-.9 2-2V5c0-1.1-.9-2-2-2zM9 17H7v-7h2v7zm4 0h-2V7h2v10zm4 0h-2v-4h2v4z\"/>\n",
              "    </g>\n",
              "</svg>\n",
              "  </button>\n",
              "\n",
              "<style>\n",
              "  .colab-df-quickchart {\n",
              "      --bg-color: #E8F0FE;\n",
              "      --fill-color: #1967D2;\n",
              "      --hover-bg-color: #E2EBFA;\n",
              "      --hover-fill-color: #174EA6;\n",
              "      --disabled-fill-color: #AAA;\n",
              "      --disabled-bg-color: #DDD;\n",
              "  }\n",
              "\n",
              "  [theme=dark] .colab-df-quickchart {\n",
              "      --bg-color: #3B4455;\n",
              "      --fill-color: #D2E3FC;\n",
              "      --hover-bg-color: #434B5C;\n",
              "      --hover-fill-color: #FFFFFF;\n",
              "      --disabled-bg-color: #3B4455;\n",
              "      --disabled-fill-color: #666;\n",
              "  }\n",
              "\n",
              "  .colab-df-quickchart {\n",
              "    background-color: var(--bg-color);\n",
              "    border: none;\n",
              "    border-radius: 50%;\n",
              "    cursor: pointer;\n",
              "    display: none;\n",
              "    fill: var(--fill-color);\n",
              "    height: 32px;\n",
              "    padding: 0;\n",
              "    width: 32px;\n",
              "  }\n",
              "\n",
              "  .colab-df-quickchart:hover {\n",
              "    background-color: var(--hover-bg-color);\n",
              "    box-shadow: 0 1px 2px rgba(60, 64, 67, 0.3), 0 1px 3px 1px rgba(60, 64, 67, 0.15);\n",
              "    fill: var(--button-hover-fill-color);\n",
              "  }\n",
              "\n",
              "  .colab-df-quickchart-complete:disabled,\n",
              "  .colab-df-quickchart-complete:disabled:hover {\n",
              "    background-color: var(--disabled-bg-color);\n",
              "    fill: var(--disabled-fill-color);\n",
              "    box-shadow: none;\n",
              "  }\n",
              "\n",
              "  .colab-df-spinner {\n",
              "    border: 2px solid var(--fill-color);\n",
              "    border-color: transparent;\n",
              "    border-bottom-color: var(--fill-color);\n",
              "    animation:\n",
              "      spin 1s steps(1) infinite;\n",
              "  }\n",
              "\n",
              "  @keyframes spin {\n",
              "    0% {\n",
              "      border-color: transparent;\n",
              "      border-bottom-color: var(--fill-color);\n",
              "      border-left-color: var(--fill-color);\n",
              "    }\n",
              "    20% {\n",
              "      border-color: transparent;\n",
              "      border-left-color: var(--fill-color);\n",
              "      border-top-color: var(--fill-color);\n",
              "    }\n",
              "    30% {\n",
              "      border-color: transparent;\n",
              "      border-left-color: var(--fill-color);\n",
              "      border-top-color: var(--fill-color);\n",
              "      border-right-color: var(--fill-color);\n",
              "    }\n",
              "    40% {\n",
              "      border-color: transparent;\n",
              "      border-right-color: var(--fill-color);\n",
              "      border-top-color: var(--fill-color);\n",
              "    }\n",
              "    60% {\n",
              "      border-color: transparent;\n",
              "      border-right-color: var(--fill-color);\n",
              "    }\n",
              "    80% {\n",
              "      border-color: transparent;\n",
              "      border-right-color: var(--fill-color);\n",
              "      border-bottom-color: var(--fill-color);\n",
              "    }\n",
              "    90% {\n",
              "      border-color: transparent;\n",
              "      border-bottom-color: var(--fill-color);\n",
              "    }\n",
              "  }\n",
              "</style>\n",
              "\n",
              "  <script>\n",
              "    async function quickchart(key) {\n",
              "      const quickchartButtonEl =\n",
              "        document.querySelector('#' + key + ' button');\n",
              "      quickchartButtonEl.disabled = true;  // To prevent multiple clicks.\n",
              "      quickchartButtonEl.classList.add('colab-df-spinner');\n",
              "      try {\n",
              "        const charts = await google.colab.kernel.invokeFunction(\n",
              "            'suggestCharts', [key], {});\n",
              "      } catch (error) {\n",
              "        console.error('Error during call to suggestCharts:', error);\n",
              "      }\n",
              "      quickchartButtonEl.classList.remove('colab-df-spinner');\n",
              "      quickchartButtonEl.classList.add('colab-df-quickchart-complete');\n",
              "    }\n",
              "    (() => {\n",
              "      let quickchartButtonEl =\n",
              "        document.querySelector('#df-cb2697f1-f1c8-4414-bb4c-90f25edf6c54 button');\n",
              "      quickchartButtonEl.style.display =\n",
              "        google.colab.kernel.accessAllowed ? 'block' : 'none';\n",
              "    })();\n",
              "  </script>\n",
              "</div>\n",
              "\n",
              "  <div id=\"id_b2a10458-7589-4673-8f9e-a18f6ab34dc3\">\n",
              "    <style>\n",
              "      .colab-df-generate {\n",
              "        background-color: #E8F0FE;\n",
              "        border: none;\n",
              "        border-radius: 50%;\n",
              "        cursor: pointer;\n",
              "        display: none;\n",
              "        fill: #1967D2;\n",
              "        height: 32px;\n",
              "        padding: 0 0 0 0;\n",
              "        width: 32px;\n",
              "      }\n",
              "\n",
              "      .colab-df-generate:hover {\n",
              "        background-color: #E2EBFA;\n",
              "        box-shadow: 0px 1px 2px rgba(60, 64, 67, 0.3), 0px 1px 3px 1px rgba(60, 64, 67, 0.15);\n",
              "        fill: #174EA6;\n",
              "      }\n",
              "\n",
              "      [theme=dark] .colab-df-generate {\n",
              "        background-color: #3B4455;\n",
              "        fill: #D2E3FC;\n",
              "      }\n",
              "\n",
              "      [theme=dark] .colab-df-generate:hover {\n",
              "        background-color: #434B5C;\n",
              "        box-shadow: 0px 1px 3px 1px rgba(0, 0, 0, 0.15);\n",
              "        filter: drop-shadow(0px 1px 2px rgba(0, 0, 0, 0.3));\n",
              "        fill: #FFFFFF;\n",
              "      }\n",
              "    </style>\n",
              "    <button class=\"colab-df-generate\" onclick=\"generateWithVariable('medquad_df')\"\n",
              "            title=\"Generate code using this dataframe.\"\n",
              "            style=\"display:none;\">\n",
              "\n",
              "  <svg xmlns=\"http://www.w3.org/2000/svg\" height=\"24px\"viewBox=\"0 0 24 24\"\n",
              "       width=\"24px\">\n",
              "    <path d=\"M7,19H8.4L18.45,9,17,7.55,7,17.6ZM5,21V16.75L18.45,3.32a2,2,0,0,1,2.83,0l1.4,1.43a1.91,1.91,0,0,1,.58,1.4,1.91,1.91,0,0,1-.58,1.4L9.25,21ZM18.45,9,17,7.55Zm-12,3A5.31,5.31,0,0,0,4.9,8.1,5.31,5.31,0,0,0,1,6.5,5.31,5.31,0,0,0,4.9,4.9,5.31,5.31,0,0,0,6.5,1,5.31,5.31,0,0,0,8.1,4.9,5.31,5.31,0,0,0,12,6.5,5.46,5.46,0,0,0,6.5,12Z\"/>\n",
              "  </svg>\n",
              "    </button>\n",
              "    <script>\n",
              "      (() => {\n",
              "      const buttonEl =\n",
              "        document.querySelector('#id_b2a10458-7589-4673-8f9e-a18f6ab34dc3 button.colab-df-generate');\n",
              "      buttonEl.style.display =\n",
              "        google.colab.kernel.accessAllowed ? 'block' : 'none';\n",
              "\n",
              "      buttonEl.onclick = () => {\n",
              "        google.colab.notebook.generateWithVariable('medquad_df');\n",
              "      }\n",
              "      })();\n",
              "    </script>\n",
              "  </div>\n",
              "\n",
              "    </div>\n",
              "  </div>\n"
            ],
            "text/plain": [
              "                 qtype                                           Question  \\\n",
              "0       susceptibility  Who is at risk for Lymphocytic Choriomeningiti...   \n",
              "1             symptoms  What are the symptoms of Lymphocytic Choriomen...   \n",
              "2       susceptibility  Who is at risk for Lymphocytic Choriomeningiti...   \n",
              "3      exams and tests  How to diagnose Lymphocytic Choriomeningitis (...   \n",
              "4            treatment  What are the treatments for Lymphocytic Chorio...   \n",
              "...                ...                                                ...   \n",
              "16354         symptoms  What are the symptoms of Familial visceral myo...   \n",
              "16355      information              What is (are) Pseudopelade of Brocq ?   \n",
              "16356         symptoms   What are the symptoms of Pseudopelade of Brocq ?   \n",
              "16357        treatment  What are the treatments for Pseudopelade of Br...   \n",
              "16358      information  What is (are) Desmoplastic small round cell tu...   \n",
              "\n",
              "                                                  Answer  \n",
              "0      LCMV infections can occur after exposure to fr...  \n",
              "1      LCMV is most commonly recognized as causing ne...  \n",
              "2      Individuals of all ages who come into contact ...  \n",
              "3      During the first phase of the disease, the mos...  \n",
              "4      Aseptic meningitis, encephalitis, or meningoen...  \n",
              "...                                                  ...  \n",
              "16354  What are the signs and symptoms of Familial vi...  \n",
              "16355  Pseudopelade of Brocq (PBB) is a slowly progre...  \n",
              "16356  What are the signs and symptoms of Pseudopelad...  \n",
              "16357  Is there treatment or a cure for pseudopelade ...  \n",
              "16358  Desmoplastic small round cell tumors (DSRCT), ...  \n",
              "\n",
              "[16359 rows x 3 columns]"
            ]
          },
          "execution_count": 12,
          "metadata": {},
          "output_type": "execute_result"
        }
      ],
      "source": [
        "medquad_df"
      ]
    },
    {
      "cell_type": "markdown",
      "metadata": {
        "id": "05wUWwVDMSoL"
      },
      "source": [
        "## **Selecting a random sample size of 1000 for the project**"
      ]
    },
    {
      "cell_type": "code",
      "execution_count": 13,
      "metadata": {
        "id": "FZ7ZgqDgN5qB"
      },
      "outputs": [],
      "source": [
        "# Sample 1000 records randomly from the DataFrame\n",
        "medquad_1000_sample_df = medquad_df.sample(n=1000, random_state=42).reset_index(drop=True)"
      ]
    },
    {
      "cell_type": "code",
      "execution_count": 14,
      "metadata": {
        "colab": {
          "base_uri": "https://localhost:8080/",
          "height": 3346
        },
        "id": "Uid0VFM2N8h-",
        "outputId": "b3aeebd2-5e29-4419-8eed-a3bcdb4cdce2"
      },
      "outputs": [
        {
          "data": {
            "application/vnd.google.colaboratory.intrinsic+json": {
              "summary": "{\n  \"name\": \"medquad_1000_sample_df\",\n  \"rows\": 1000,\n  \"fields\": [\n    {\n      \"column\": \"qtype\",\n      \"properties\": {\n        \"dtype\": \"category\",\n        \"num_unique_values\": 15,\n        \"samples\": [\n          \"susceptibility\",\n          \"outlook\",\n          \"exams and tests\"\n        ],\n        \"semantic_type\": \"\",\n        \"description\": \"\"\n      }\n    },\n    {\n      \"column\": \"Question\",\n      \"properties\": {\n        \"dtype\": \"string\",\n        \"num_unique_values\": 988,\n        \"samples\": [\n          \"What to do for Ectopic Kidney ?\",\n          \"What is (are) otospondylomegaepiphyseal dysplasia ?\",\n          \"What are the symptoms of Renal tubular acidosis, distal, type 3 ?\"\n        ],\n        \"semantic_type\": \"\",\n        \"description\": \"\"\n      }\n    },\n    {\n      \"column\": \"Answer\",\n      \"properties\": {\n        \"dtype\": \"string\",\n        \"num_unique_values\": 973,\n        \"samples\": [\n          \"Tuberous sclerosis complex has an autosomal dominant pattern of inheritance, which means one copy of the altered gene in each cell is sufficient to increase the risk of developing tumors and other problems with development. In about one-third of cases, an affected person inherits an altered TSC1 or TSC2 gene from a parent who has the disorder. The remaining two-thirds of people with tuberous sclerosis complex are born with new mutations in the TSC1 or TSC2 gene. These cases, which are described as sporadic, occur in people with no history of tuberous sclerosis complex in their family. TSC1 mutations appear to be more common in familial cases of tuberous sclerosis complex, while mutations in the TSC2 gene occur more frequently in sporadic cases.\",\n          \"The Centers for Disease Control and Prevention (CDC) monitors the frequency of Y. enterocolitica infections through the foodborne disease active surveillance network (FoodNet). In addition, CDC conducts investigations of outbreaks of yersiniosis to control them and to learn more about how to prevent these infections. CDC has collaborated in an educational campaign to increase public awareness about prevention of Y. enterocolitica infections. The U.S. Food and Drug Administration inspects imported foods and milk pasteurization plants and promotes better food preparation techniques in restaurants and food processing plants. The U.S. Department of Agriculture monitors the health of food animals and is responsible for the quality of slaughtered and processed meat. The U.S. Environmental Protection Agency regulates and monitors the safety of our drinking water supplies.\",\n          \"- Acromegaly is a hormonal disorder that results from too much growth hormone (GH) in the body.  - In most people with acromegaly, a benign tumor of the pituitary gland produces excess GH.  - Common features of acromegaly include abnormal growth of the hands and feet; bone growth in the face that leads to a protruding lower jaw and brow and an enlarged nasal bone; joint aches; thick, coarse, oily skin; and enlarged lips, nose, and tongue.  - Acromegaly can cause sleep apnea, fatigue and weakness, headaches, impaired vision, menstrual abnormalities in women, and erectile dysfunction in men.  - Acromegaly is diagnosed through a blood test. Magnetic resonance imaging (MRI) of the pituitary is then used to locate and detect the size of the tumor causing GH overproduction.  - The first line of treatment is usually surgical removal of the tumor. Medication or radiation may be used instead of or in addition to surgery.\"\n        ],\n        \"semantic_type\": \"\",\n        \"description\": \"\"\n      }\n    }\n  ]\n}",
              "type": "dataframe",
              "variable_name": "medquad_1000_sample_df"
            },
            "text/html": [
              "\n",
              "  <div id=\"df-888c4fbe-4e58-4541-a734-665e5997138c\" class=\"colab-df-container\">\n",
              "    <div>\n",
              "<style scoped>\n",
              "    .dataframe tbody tr th:only-of-type {\n",
              "        vertical-align: middle;\n",
              "    }\n",
              "\n",
              "    .dataframe tbody tr th {\n",
              "        vertical-align: top;\n",
              "    }\n",
              "\n",
              "    .dataframe thead th {\n",
              "        text-align: right;\n",
              "    }\n",
              "</style>\n",
              "<table border=\"1\" class=\"dataframe\">\n",
              "  <thead>\n",
              "    <tr style=\"text-align: right;\">\n",
              "      <th></th>\n",
              "      <th>qtype</th>\n",
              "      <th>Question</th>\n",
              "      <th>Answer</th>\n",
              "    </tr>\n",
              "  </thead>\n",
              "  <tbody>\n",
              "    <tr>\n",
              "      <th>0</th>\n",
              "      <td>exams and tests</td>\n",
              "      <td>How to diagnose Childhood Liver Cancer ?</td>\n",
              "      <td>Tests that examine the liver and the blood are...</td>\n",
              "    </tr>\n",
              "    <tr>\n",
              "      <th>1</th>\n",
              "      <td>information</td>\n",
              "      <td>What is (are) Familial esophageal achalasia ?</td>\n",
              "      <td>Familial esophageal achalasia refers to a clus...</td>\n",
              "    </tr>\n",
              "    <tr>\n",
              "      <th>2</th>\n",
              "      <td>frequency</td>\n",
              "      <td>How many people are affected by leukocyte adhe...</td>\n",
              "      <td>Leukocyte adhesion deficiency type 1 is estima...</td>\n",
              "    </tr>\n",
              "    <tr>\n",
              "      <th>3</th>\n",
              "      <td>information</td>\n",
              "      <td>What is (are) Food Allergy ?</td>\n",
              "      <td>Food allergy is an abnormal response to a food...</td>\n",
              "    </tr>\n",
              "    <tr>\n",
              "      <th>4</th>\n",
              "      <td>research</td>\n",
              "      <td>what research (or clinical trials) is being do...</td>\n",
              "      <td>The mission of the National Institute of Neuro...</td>\n",
              "    </tr>\n",
              "    <tr>\n",
              "      <th>...</th>\n",
              "      <td>...</td>\n",
              "      <td>...</td>\n",
              "      <td>...</td>\n",
              "    </tr>\n",
              "    <tr>\n",
              "      <th>995</th>\n",
              "      <td>symptoms</td>\n",
              "      <td>What are the symptoms of Hyperlipoproteinemia ...</td>\n",
              "      <td>What are the signs and symptoms of Hyperlipopr...</td>\n",
              "    </tr>\n",
              "    <tr>\n",
              "      <th>996</th>\n",
              "      <td>frequency</td>\n",
              "      <td>How many people are affected by Tourette syndr...</td>\n",
              "      <td>Although the exact incidence of Tourette syndr...</td>\n",
              "    </tr>\n",
              "    <tr>\n",
              "      <th>997</th>\n",
              "      <td>treatment</td>\n",
              "      <td>What are the treatments for Dementia ?</td>\n",
              "      <td>Drugs to specifically treat Alzheimers disease...</td>\n",
              "    </tr>\n",
              "    <tr>\n",
              "      <th>998</th>\n",
              "      <td>treatment</td>\n",
              "      <td>What are the treatments for retinitis pigmento...</td>\n",
              "      <td>These resources address the diagnosis or manag...</td>\n",
              "    </tr>\n",
              "    <tr>\n",
              "      <th>999</th>\n",
              "      <td>genetic changes</td>\n",
              "      <td>What are the genetic changes related to Langer...</td>\n",
              "      <td>Somatic mutations in the BRAF gene have been i...</td>\n",
              "    </tr>\n",
              "  </tbody>\n",
              "</table>\n",
              "<p>1000 rows × 3 columns</p>\n",
              "</div>\n",
              "    <div class=\"colab-df-buttons\">\n",
              "\n",
              "  <div class=\"colab-df-container\">\n",
              "    <button class=\"colab-df-convert\" onclick=\"convertToInteractive('df-888c4fbe-4e58-4541-a734-665e5997138c')\"\n",
              "            title=\"Convert this dataframe to an interactive table.\"\n",
              "            style=\"display:none;\">\n",
              "\n",
              "  <svg xmlns=\"http://www.w3.org/2000/svg\" height=\"24px\" viewBox=\"0 -960 960 960\">\n",
              "    <path d=\"M120-120v-720h720v720H120Zm60-500h600v-160H180v160Zm220 220h160v-160H400v160Zm0 220h160v-160H400v160ZM180-400h160v-160H180v160Zm440 0h160v-160H620v160ZM180-180h160v-160H180v160Zm440 0h160v-160H620v160Z\"/>\n",
              "  </svg>\n",
              "    </button>\n",
              "\n",
              "  <style>\n",
              "    .colab-df-container {\n",
              "      display:flex;\n",
              "      gap: 12px;\n",
              "    }\n",
              "\n",
              "    .colab-df-convert {\n",
              "      background-color: #E8F0FE;\n",
              "      border: none;\n",
              "      border-radius: 50%;\n",
              "      cursor: pointer;\n",
              "      display: none;\n",
              "      fill: #1967D2;\n",
              "      height: 32px;\n",
              "      padding: 0 0 0 0;\n",
              "      width: 32px;\n",
              "    }\n",
              "\n",
              "    .colab-df-convert:hover {\n",
              "      background-color: #E2EBFA;\n",
              "      box-shadow: 0px 1px 2px rgba(60, 64, 67, 0.3), 0px 1px 3px 1px rgba(60, 64, 67, 0.15);\n",
              "      fill: #174EA6;\n",
              "    }\n",
              "\n",
              "    .colab-df-buttons div {\n",
              "      margin-bottom: 4px;\n",
              "    }\n",
              "\n",
              "    [theme=dark] .colab-df-convert {\n",
              "      background-color: #3B4455;\n",
              "      fill: #D2E3FC;\n",
              "    }\n",
              "\n",
              "    [theme=dark] .colab-df-convert:hover {\n",
              "      background-color: #434B5C;\n",
              "      box-shadow: 0px 1px 3px 1px rgba(0, 0, 0, 0.15);\n",
              "      filter: drop-shadow(0px 1px 2px rgba(0, 0, 0, 0.3));\n",
              "      fill: #FFFFFF;\n",
              "    }\n",
              "  </style>\n",
              "\n",
              "    <script>\n",
              "      const buttonEl =\n",
              "        document.querySelector('#df-888c4fbe-4e58-4541-a734-665e5997138c button.colab-df-convert');\n",
              "      buttonEl.style.display =\n",
              "        google.colab.kernel.accessAllowed ? 'block' : 'none';\n",
              "\n",
              "      async function convertToInteractive(key) {\n",
              "        const element = document.querySelector('#df-888c4fbe-4e58-4541-a734-665e5997138c');\n",
              "        const dataTable =\n",
              "          await google.colab.kernel.invokeFunction('convertToInteractive',\n",
              "                                                    [key], {});\n",
              "        if (!dataTable) return;\n",
              "\n",
              "        const docLinkHtml = 'Like what you see? Visit the ' +\n",
              "          '<a target=\"_blank\" href=https://colab.research.google.com/notebooks/data_table.ipynb>data table notebook</a>'\n",
              "          + ' to learn more about interactive tables.';\n",
              "        element.innerHTML = '';\n",
              "        dataTable['output_type'] = 'display_data';\n",
              "        await google.colab.output.renderOutput(dataTable, element);\n",
              "        const docLink = document.createElement('div');\n",
              "        docLink.innerHTML = docLinkHtml;\n",
              "        element.appendChild(docLink);\n",
              "      }\n",
              "    </script>\n",
              "  </div>\n",
              "\n",
              "\n",
              "<div id=\"df-36fd25d2-63ec-47b7-a91f-6745c1b9e028\">\n",
              "  <button class=\"colab-df-quickchart\" onclick=\"quickchart('df-36fd25d2-63ec-47b7-a91f-6745c1b9e028')\"\n",
              "            title=\"Suggest charts\"\n",
              "            style=\"display:none;\">\n",
              "\n",
              "<svg xmlns=\"http://www.w3.org/2000/svg\" height=\"24px\"viewBox=\"0 0 24 24\"\n",
              "     width=\"24px\">\n",
              "    <g>\n",
              "        <path d=\"M19 3H5c-1.1 0-2 .9-2 2v14c0 1.1.9 2 2 2h14c1.1 0 2-.9 2-2V5c0-1.1-.9-2-2-2zM9 17H7v-7h2v7zm4 0h-2V7h2v10zm4 0h-2v-4h2v4z\"/>\n",
              "    </g>\n",
              "</svg>\n",
              "  </button>\n",
              "\n",
              "<style>\n",
              "  .colab-df-quickchart {\n",
              "      --bg-color: #E8F0FE;\n",
              "      --fill-color: #1967D2;\n",
              "      --hover-bg-color: #E2EBFA;\n",
              "      --hover-fill-color: #174EA6;\n",
              "      --disabled-fill-color: #AAA;\n",
              "      --disabled-bg-color: #DDD;\n",
              "  }\n",
              "\n",
              "  [theme=dark] .colab-df-quickchart {\n",
              "      --bg-color: #3B4455;\n",
              "      --fill-color: #D2E3FC;\n",
              "      --hover-bg-color: #434B5C;\n",
              "      --hover-fill-color: #FFFFFF;\n",
              "      --disabled-bg-color: #3B4455;\n",
              "      --disabled-fill-color: #666;\n",
              "  }\n",
              "\n",
              "  .colab-df-quickchart {\n",
              "    background-color: var(--bg-color);\n",
              "    border: none;\n",
              "    border-radius: 50%;\n",
              "    cursor: pointer;\n",
              "    display: none;\n",
              "    fill: var(--fill-color);\n",
              "    height: 32px;\n",
              "    padding: 0;\n",
              "    width: 32px;\n",
              "  }\n",
              "\n",
              "  .colab-df-quickchart:hover {\n",
              "    background-color: var(--hover-bg-color);\n",
              "    box-shadow: 0 1px 2px rgba(60, 64, 67, 0.3), 0 1px 3px 1px rgba(60, 64, 67, 0.15);\n",
              "    fill: var(--button-hover-fill-color);\n",
              "  }\n",
              "\n",
              "  .colab-df-quickchart-complete:disabled,\n",
              "  .colab-df-quickchart-complete:disabled:hover {\n",
              "    background-color: var(--disabled-bg-color);\n",
              "    fill: var(--disabled-fill-color);\n",
              "    box-shadow: none;\n",
              "  }\n",
              "\n",
              "  .colab-df-spinner {\n",
              "    border: 2px solid var(--fill-color);\n",
              "    border-color: transparent;\n",
              "    border-bottom-color: var(--fill-color);\n",
              "    animation:\n",
              "      spin 1s steps(1) infinite;\n",
              "  }\n",
              "\n",
              "  @keyframes spin {\n",
              "    0% {\n",
              "      border-color: transparent;\n",
              "      border-bottom-color: var(--fill-color);\n",
              "      border-left-color: var(--fill-color);\n",
              "    }\n",
              "    20% {\n",
              "      border-color: transparent;\n",
              "      border-left-color: var(--fill-color);\n",
              "      border-top-color: var(--fill-color);\n",
              "    }\n",
              "    30% {\n",
              "      border-color: transparent;\n",
              "      border-left-color: var(--fill-color);\n",
              "      border-top-color: var(--fill-color);\n",
              "      border-right-color: var(--fill-color);\n",
              "    }\n",
              "    40% {\n",
              "      border-color: transparent;\n",
              "      border-right-color: var(--fill-color);\n",
              "      border-top-color: var(--fill-color);\n",
              "    }\n",
              "    60% {\n",
              "      border-color: transparent;\n",
              "      border-right-color: var(--fill-color);\n",
              "    }\n",
              "    80% {\n",
              "      border-color: transparent;\n",
              "      border-right-color: var(--fill-color);\n",
              "      border-bottom-color: var(--fill-color);\n",
              "    }\n",
              "    90% {\n",
              "      border-color: transparent;\n",
              "      border-bottom-color: var(--fill-color);\n",
              "    }\n",
              "  }\n",
              "</style>\n",
              "\n",
              "  <script>\n",
              "    async function quickchart(key) {\n",
              "      const quickchartButtonEl =\n",
              "        document.querySelector('#' + key + ' button');\n",
              "      quickchartButtonEl.disabled = true;  // To prevent multiple clicks.\n",
              "      quickchartButtonEl.classList.add('colab-df-spinner');\n",
              "      try {\n",
              "        const charts = await google.colab.kernel.invokeFunction(\n",
              "            'suggestCharts', [key], {});\n",
              "      } catch (error) {\n",
              "        console.error('Error during call to suggestCharts:', error);\n",
              "      }\n",
              "      quickchartButtonEl.classList.remove('colab-df-spinner');\n",
              "      quickchartButtonEl.classList.add('colab-df-quickchart-complete');\n",
              "    }\n",
              "    (() => {\n",
              "      let quickchartButtonEl =\n",
              "        document.querySelector('#df-36fd25d2-63ec-47b7-a91f-6745c1b9e028 button');\n",
              "      quickchartButtonEl.style.display =\n",
              "        google.colab.kernel.accessAllowed ? 'block' : 'none';\n",
              "    })();\n",
              "  </script>\n",
              "</div>\n",
              "\n",
              "  <div id=\"id_1bc2feca-3c4e-4914-90b5-eefbdfb48f1f\">\n",
              "    <style>\n",
              "      .colab-df-generate {\n",
              "        background-color: #E8F0FE;\n",
              "        border: none;\n",
              "        border-radius: 50%;\n",
              "        cursor: pointer;\n",
              "        display: none;\n",
              "        fill: #1967D2;\n",
              "        height: 32px;\n",
              "        padding: 0 0 0 0;\n",
              "        width: 32px;\n",
              "      }\n",
              "\n",
              "      .colab-df-generate:hover {\n",
              "        background-color: #E2EBFA;\n",
              "        box-shadow: 0px 1px 2px rgba(60, 64, 67, 0.3), 0px 1px 3px 1px rgba(60, 64, 67, 0.15);\n",
              "        fill: #174EA6;\n",
              "      }\n",
              "\n",
              "      [theme=dark] .colab-df-generate {\n",
              "        background-color: #3B4455;\n",
              "        fill: #D2E3FC;\n",
              "      }\n",
              "\n",
              "      [theme=dark] .colab-df-generate:hover {\n",
              "        background-color: #434B5C;\n",
              "        box-shadow: 0px 1px 3px 1px rgba(0, 0, 0, 0.15);\n",
              "        filter: drop-shadow(0px 1px 2px rgba(0, 0, 0, 0.3));\n",
              "        fill: #FFFFFF;\n",
              "      }\n",
              "    </style>\n",
              "    <button class=\"colab-df-generate\" onclick=\"generateWithVariable('medquad_1000_sample_df')\"\n",
              "            title=\"Generate code using this dataframe.\"\n",
              "            style=\"display:none;\">\n",
              "\n",
              "  <svg xmlns=\"http://www.w3.org/2000/svg\" height=\"24px\"viewBox=\"0 0 24 24\"\n",
              "       width=\"24px\">\n",
              "    <path d=\"M7,19H8.4L18.45,9,17,7.55,7,17.6ZM5,21V16.75L18.45,3.32a2,2,0,0,1,2.83,0l1.4,1.43a1.91,1.91,0,0,1,.58,1.4,1.91,1.91,0,0,1-.58,1.4L9.25,21ZM18.45,9,17,7.55Zm-12,3A5.31,5.31,0,0,0,4.9,8.1,5.31,5.31,0,0,0,1,6.5,5.31,5.31,0,0,0,4.9,4.9,5.31,5.31,0,0,0,6.5,1,5.31,5.31,0,0,0,8.1,4.9,5.31,5.31,0,0,0,12,6.5,5.46,5.46,0,0,0,6.5,12Z\"/>\n",
              "  </svg>\n",
              "    </button>\n",
              "    <script>\n",
              "      (() => {\n",
              "      const buttonEl =\n",
              "        document.querySelector('#id_1bc2feca-3c4e-4914-90b5-eefbdfb48f1f button.colab-df-generate');\n",
              "      buttonEl.style.display =\n",
              "        google.colab.kernel.accessAllowed ? 'block' : 'none';\n",
              "\n",
              "      buttonEl.onclick = () => {\n",
              "        google.colab.notebook.generateWithVariable('medquad_1000_sample_df');\n",
              "      }\n",
              "      })();\n",
              "    </script>\n",
              "  </div>\n",
              "\n",
              "    </div>\n",
              "  </div>\n"
            ],
            "text/plain": [
              "               qtype                                           Question  \\\n",
              "0    exams and tests           How to diagnose Childhood Liver Cancer ?   \n",
              "1        information      What is (are) Familial esophageal achalasia ?   \n",
              "2          frequency  How many people are affected by leukocyte adhe...   \n",
              "3        information                       What is (are) Food Allergy ?   \n",
              "4           research  what research (or clinical trials) is being do...   \n",
              "..               ...                                                ...   \n",
              "995         symptoms  What are the symptoms of Hyperlipoproteinemia ...   \n",
              "996        frequency  How many people are affected by Tourette syndr...   \n",
              "997        treatment             What are the treatments for Dementia ?   \n",
              "998        treatment  What are the treatments for retinitis pigmento...   \n",
              "999  genetic changes  What are the genetic changes related to Langer...   \n",
              "\n",
              "                                                Answer  \n",
              "0    Tests that examine the liver and the blood are...  \n",
              "1    Familial esophageal achalasia refers to a clus...  \n",
              "2    Leukocyte adhesion deficiency type 1 is estima...  \n",
              "3    Food allergy is an abnormal response to a food...  \n",
              "4    The mission of the National Institute of Neuro...  \n",
              "..                                                 ...  \n",
              "995  What are the signs and symptoms of Hyperlipopr...  \n",
              "996  Although the exact incidence of Tourette syndr...  \n",
              "997  Drugs to specifically treat Alzheimers disease...  \n",
              "998  These resources address the diagnosis or manag...  \n",
              "999  Somatic mutations in the BRAF gene have been i...  \n",
              "\n",
              "[1000 rows x 3 columns]"
            ]
          },
          "execution_count": 14,
          "metadata": {},
          "output_type": "execute_result"
        }
      ],
      "source": [
        "medquad_1000_sample_df"
      ]
    },
    {
      "cell_type": "markdown",
      "metadata": {
        "id": "tsAzEX2aOpMI"
      },
      "source": [
        "## **Defining system prompt and converting data to gpt_4o_mini format, then saving as jsonl file \"medquad_gpt4o_mini_formatted_data.json\"**"
      ]
    },
    {
      "cell_type": "markdown",
      "metadata": {
        "id": "MDLTiHEzTIa1"
      },
      "source": [
        "\"You are a knowledgeable and empathetic virtual medical assistant trained to provide accurate, concise, and evidence-based responses to medical queries. Your primary goal is to assist users with their health-related questions, guide them toward better understanding of medical conditions, and suggest actions they may take based on their concerns. Always include a disclaimer that the information is not a substitute for professional medical advice. Avoid providing definitive diagnoses or treatment plans and encourage users to consult a licensed healthcare provider for personalized care.\""
      ]
    },
    {
      "cell_type": "code",
      "execution_count": 15,
      "metadata": {
        "id": "f9jNJ8Uwxekk"
      },
      "outputs": [],
      "source": [
        "# Define the system prompt\n",
        "system_prompt = (\n",
        "    \"You are a knowledgeable and empathetic virtual medical assistant trained to provide accurate, concise, and evidence-based responses to medical queries. Your primary goal is to assist users with their health-related questions, guide them toward better understanding of medical conditions, and suggest actions they may take based on their concerns. Always include a disclaimer that the information is not a substitute for professional medical advice. Avoid providing definitive diagnoses or treatment plans and encourage users to consult a licensed healthcare provider for personalized care.\"\n",
        ")"
      ]
    },
    {
      "cell_type": "code",
      "execution_count": 16,
      "metadata": {
        "colab": {
          "base_uri": "https://localhost:8080/"
        },
        "id": "voiH1EB4ORkX",
        "outputId": "c96a6353-d26d-46fe-c04b-8b41c810217a"
      },
      "outputs": [
        {
          "name": "stdout",
          "output_type": "stream",
          "text": [
            "Data converted to GPT-4o-mini format and saved as medquad_gpt4o_mini_formatted_data.jsonl.\n"
          ]
        }
      ],
      "source": [
        "# Define the system prompt\n",
        "system_prompt = (\n",
        "    \"You are a knowledgeable and empathetic virtual medical assistant trained to provide accurate, concise, and evidence-based responses to medical queries. Your primary goal is to assist users with their health-related questions, guide them toward better understanding of medical conditions, and suggest actions they may take based on their concerns. Always include a disclaimer that the information is not a substitute for professional medical advice. Avoid providing definitive diagnoses or treatment plans and encourage users to consult a licensed healthcare provider for personalized care.\"\n",
        ")\n",
        "\n",
        "# Function to convert DataFrame into GPT-4o-mini format\n",
        "def convert_to_gpt4o_format(df):\n",
        "    gpt4o_format_data = []\n",
        "    for _, row in df.iterrows():\n",
        "        gpt4o_format_data.append({\n",
        "            \"messages\": [\n",
        "                {\n",
        "                    \"role\": \"system\",\n",
        "                    \"content\": system_prompt\n",
        "                },\n",
        "                {\n",
        "                    \"role\": \"user\",\n",
        "                    \"content\": row[\"Question\"]  # User question from the DataFrame\n",
        "                },\n",
        "                {\n",
        "                    \"role\": \"assistant\",\n",
        "                    \"content\": row[\"Answer\"]  # Assistant response from the DataFrame\n",
        "                }\n",
        "            ]\n",
        "        })\n",
        "    return gpt4o_format_data\n",
        "\n",
        "# Convert the medquad_1000_sample_df into GPT-4o-mini format\n",
        "medquad_gpt4o_mini_formatted_data = convert_to_gpt4o_format(medquad_1000_sample_df)\n",
        "\n",
        "# Save to JSONL file for inspection or later use\n",
        "with jsonlines.open(\"medquad_gpt4o_mini_formatted_data.jsonl\", \"w\") as writer:\n",
        "    writer.write_all(medquad_gpt4o_mini_formatted_data)\n",
        "\n",
        "print(\"Data converted to GPT-4o-mini format and saved as medquad_gpt4o_mini_formatted_data.jsonl.\")"
      ]
    },
    {
      "cell_type": "markdown",
      "metadata": {
        "id": "3Iw6VO6STkeq"
      },
      "source": [
        "### **Splitting the data \"medquad_gpt4o_mini_formatted_data.json\" into train_data 80%, test_data 10%, validation_data 10% and saved them as jsonl files**"
      ]
    },
    {
      "cell_type": "code",
      "execution_count": 17,
      "metadata": {
        "colab": {
          "base_uri": "https://localhost:8080/"
        },
        "id": "-Lmja0gkToNb",
        "outputId": "157c247a-0834-436a-b380-e209e39b34f1"
      },
      "outputs": [
        {
          "name": "stdout",
          "output_type": "stream",
          "text": [
            "Number of records in Training Set: 800\n",
            "Number of records in Validation Set: 100\n",
            "Number of records in Test Set: 100\n",
            "Data split into training, validation, and testing sets and saved as JSONL files.\n"
          ]
        }
      ],
      "source": [
        "# Split the data into train (80%), validation (10%), and test (10%) sets\n",
        "train_data, temp_data = train_test_split(medquad_gpt4o_mini_formatted_data, test_size=0.2, random_state=42)\n",
        "validation_data, test_data = train_test_split(temp_data, test_size=0.5, random_state=42)\n",
        "\n",
        "# Check the number of data points in each split\n",
        "print(f\"Number of records in Training Set: {len(train_data)}\")\n",
        "print(f\"Number of records in Validation Set: {len(validation_data)}\")\n",
        "print(f\"Number of records in Test Set: {len(test_data)}\")\n",
        "\n",
        "# Save the splits into separate JSONL files\n",
        "with jsonlines.open(\"train_data.jsonl\", \"w\") as writer:\n",
        "    writer.write_all(train_data)\n",
        "\n",
        "with jsonlines.open(\"validation_data.jsonl\", \"w\") as writer:\n",
        "    writer.write_all(validation_data)\n",
        "\n",
        "with jsonlines.open(\"test_data.jsonl\", \"w\") as writer:\n",
        "    writer.write_all(test_data)\n",
        "\n",
        "print(\"Data split into training, validation, and testing sets and saved as JSONL files.\")"
      ]
    },
    {
      "cell_type": "code",
      "execution_count": 18,
      "metadata": {
        "colab": {
          "base_uri": "https://localhost:8080/"
        },
        "id": "VoklkwXBUDfW",
        "outputId": "c48facd9-b13a-4bfd-d6b3-03b94050cbdf"
      },
      "outputs": [
        {
          "name": "stdout",
          "output_type": "stream",
          "text": [
            "[{'messages': [{'role': 'system', 'content': 'You are a knowledgeable and empathetic virtual medical assistant trained to provide accurate, concise, and evidence-based responses to medical queries. Your primary goal is to assist users with their health-related questions, guide them toward better understanding of medical conditions, and suggest actions they may take based on their concerns. Always include a disclaimer that the information is not a substitute for professional medical advice. Avoid providing definitive diagnoses or treatment plans and encourage users to consult a licensed healthcare provider for personalized care.'}, {'role': 'user', 'content': 'What is (are) Stroke ?'}, {'role': 'assistant', 'content': 'There are two kinds of stroke. The most common kind of stroke is called ischemic stroke. It accounts for approximately 80 percent of all strokes. An ischemic stroke is caused by a blood clot that blocks or plugs a blood vessel in the brain. The other kind of stroke is called hemorrhagic stroke. A hemorrhagic stroke is caused by a blood vessel that breaks and bleeds into the brain.'}]}]\n"
          ]
        }
      ],
      "source": [
        "print(train_data[:1])"
      ]
    },
    {
      "cell_type": "code",
      "execution_count": 19,
      "metadata": {
        "colab": {
          "base_uri": "https://localhost:8080/"
        },
        "id": "nKYG24wLUJuN",
        "outputId": "f95c8143-f081-4d24-f1b6-b2c2e0537278"
      },
      "outputs": [
        {
          "name": "stdout",
          "output_type": "stream",
          "text": [
            "[{'messages': [{'role': 'system', 'content': 'You are a knowledgeable and empathetic virtual medical assistant trained to provide accurate, concise, and evidence-based responses to medical queries. Your primary goal is to assist users with their health-related questions, guide them toward better understanding of medical conditions, and suggest actions they may take based on their concerns. Always include a disclaimer that the information is not a substitute for professional medical advice. Avoid providing definitive diagnoses or treatment plans and encourage users to consult a licensed healthcare provider for personalized care.'}, {'role': 'user', 'content': 'What are the symptoms of Dyssegmental dysplasia Silverman-Handmaker type ?'}, {'role': 'assistant', 'content': 'What are the signs and symptoms of Dyssegmental dysplasia Silverman-Handmaker type? The Human Phenotype Ontology provides the following list of signs and symptoms for Dyssegmental dysplasia Silverman-Handmaker type. If the information is available, the table below includes how often the symptom is seen in people with this condition. You can use the MedlinePlus Medical Dictionary to look up the definitions for these medical terms. Signs and Symptoms Approximate number of patients (when available) Abnormal form of the vertebral bodies 90% Abnormality of pelvic girdle bone morphology 90% Abnormality of the metaphyses 90% Blue sclerae 90% Bowing of the long bones 90% Limitation of joint mobility 90% Micromelia 90% Narrow chest 90% Short stature 90% Atria septal defect 50% Cleft palate 50% Depressed nasal ridge 50% Respiratory insufficiency 50% Umbilical hernia 50% Abnormality of the abdominal wall - Anisospondyly - Autosomal recessive inheritance - Cryptorchidism - Disproportionate short-limb short stature - Flat face - Malar flattening - Narrow mouth - Neonatal death - Overgrowth - Posteriorly rotated ears - Pulmonary hypoplasia - Skull defect - Talipes equinovarus - Thoracic hypoplasia - Wide nasal bridge - The Human Phenotype Ontology (HPO) has collected information on how often a sign or symptom occurs in a condition. Much of this information comes from Orphanet, a European rare disease database. The frequency of a sign or symptom is usually listed as a rough estimate of the percentage of patients who have that feature. The frequency may also be listed as a fraction. The first number of the fraction is how many people had the symptom, and the second number is the total number of people who were examined in one study. For example, a frequency of 25/25 means that in a study of 25 people all patients were found to have that symptom. Because these frequencies are based on a specific study, the fractions may be different if another group of patients are examined. Sometimes, no information on frequency is available. In these cases, the sign or symptom may be rare or common.'}]}]\n"
          ]
        }
      ],
      "source": [
        "print(validation_data[:1])"
      ]
    },
    {
      "cell_type": "code",
      "execution_count": 20,
      "metadata": {
        "colab": {
          "base_uri": "https://localhost:8080/"
        },
        "id": "MWvTDhfGUM-6",
        "outputId": "381828d8-d9b6-44a2-c719-649de2591511"
      },
      "outputs": [
        {
          "name": "stdout",
          "output_type": "stream",
          "text": [
            "[{'messages': [{'role': 'system', 'content': 'You are a knowledgeable and empathetic virtual medical assistant trained to provide accurate, concise, and evidence-based responses to medical queries. Your primary goal is to assist users with their health-related questions, guide them toward better understanding of medical conditions, and suggest actions they may take based on their concerns. Always include a disclaimer that the information is not a substitute for professional medical advice. Avoid providing definitive diagnoses or treatment plans and encourage users to consult a licensed healthcare provider for personalized care.'}, {'role': 'user', 'content': 'What is (are) Unverricht-Lundborg disease ?'}, {'role': 'assistant', 'content': 'Unverricht-Lundborg disease is an inherited form of progressive myoclonus epilepsy that is characterized by episodes of involuntary muscle jerking or twitching (myoclonus) that increase in frequency and severity over time. Episodes of myoclonus may be brought on by physical exertion, stress, light, or other stimuli. Affected individuals usually begin showing signs and symptoms of the disorder between the ages of 6 and 15. Over time, the myoclonic episodes may become severe enough to interfere with walking and other everyday activities. Other features include seizures involving loss of consciousness, muscle rigidity, and convulsions (tonic-clonic or grand mal seizures). Like the myoclonic episodes, these may increase in frequency over several years but may be controlled with treatment. After several years of progression, the frequency of seizures may stabilize or decrease. Unverricht-Lundborg disease is caused by mutation in the CSTB gene. It is inherited in an autosomal recessive pattern.'}]}]\n"
          ]
        }
      ],
      "source": [
        "print(test_data[:1])"
      ]
    },
    {
      "cell_type": "code",
      "execution_count": 21,
      "metadata": {
        "colab": {
          "base_uri": "https://localhost:8080/"
        },
        "id": "EypsxyTCUP-c",
        "outputId": "6ea39d3b-4f3a-4509-fbab-35d5e21c4504"
      },
      "outputs": [
        {
          "name": "stdout",
          "output_type": "stream",
          "text": [
            "[{'messages': [{'role': 'system', 'content': 'You are a knowledgeable and empathetic virtual medical assistant trained to provide accurate, concise, and evidence-based responses to medical queries. Your primary goal is to assist users with their health-related questions, guide them toward better understanding of medical conditions, and suggest actions they may take based on their concerns. Always include a disclaimer that the information is not a substitute for professional medical advice. Avoid providing definitive diagnoses or treatment plans and encourage users to consult a licensed healthcare provider for personalized care.'}, {'role': 'user', 'content': 'What is (are) Unverricht-Lundborg disease ?'}, {'role': 'assistant', 'content': 'Unverricht-Lundborg disease is an inherited form of progressive myoclonus epilepsy that is characterized by episodes of involuntary muscle jerking or twitching (myoclonus) that increase in frequency and severity over time. Episodes of myoclonus may be brought on by physical exertion, stress, light, or other stimuli. Affected individuals usually begin showing signs and symptoms of the disorder between the ages of 6 and 15. Over time, the myoclonic episodes may become severe enough to interfere with walking and other everyday activities. Other features include seizures involving loss of consciousness, muscle rigidity, and convulsions (tonic-clonic or grand mal seizures). Like the myoclonic episodes, these may increase in frequency over several years but may be controlled with treatment. After several years of progression, the frequency of seizures may stabilize or decrease. Unverricht-Lundborg disease is caused by mutation in the CSTB gene. It is inherited in an autosomal recessive pattern.'}]}, {'messages': [{'role': 'system', 'content': 'You are a knowledgeable and empathetic virtual medical assistant trained to provide accurate, concise, and evidence-based responses to medical queries. Your primary goal is to assist users with their health-related questions, guide them toward better understanding of medical conditions, and suggest actions they may take based on their concerns. Always include a disclaimer that the information is not a substitute for professional medical advice. Avoid providing definitive diagnoses or treatment plans and encourage users to consult a licensed healthcare provider for personalized care.'}, {'role': 'user', 'content': 'What are the symptoms of Pyruvate carboxylase deficiency ?'}, {'role': 'assistant', 'content': 'What are the signs and symptoms of Pyruvate carboxylase deficiency? The Human Phenotype Ontology provides the following list of signs and symptoms for Pyruvate carboxylase deficiency. If the information is available, the table below includes how often the symptom is seen in people with this condition. You can use the MedlinePlus Medical Dictionary to look up the definitions for these medical terms. Signs and Symptoms Approximate number of patients (when available) Autosomal recessive inheritance - Clonus - Congenital onset - Hepatomegaly - Hyperalaninemia - Hypoglycemia - Increased serum lactate - Increased serum pyruvate - Intellectual disability - Lactic acidosis - Muscular hypotonia - Neuronal loss in the cerebral cortex - Periventricular leukomalacia - Proximal renal tubular acidosis - Seizures - The Human Phenotype Ontology (HPO) has collected information on how often a sign or symptom occurs in a condition. Much of this information comes from Orphanet, a European rare disease database. The frequency of a sign or symptom is usually listed as a rough estimate of the percentage of patients who have that feature. The frequency may also be listed as a fraction. The first number of the fraction is how many people had the symptom, and the second number is the total number of people who were examined in one study. For example, a frequency of 25/25 means that in a study of 25 people all patients were found to have that symptom. Because these frequencies are based on a specific study, the fractions may be different if another group of patients are examined. Sometimes, no information on frequency is available. In these cases, the sign or symptom may be rare or common.'}]}, {'messages': [{'role': 'system', 'content': 'You are a knowledgeable and empathetic virtual medical assistant trained to provide accurate, concise, and evidence-based responses to medical queries. Your primary goal is to assist users with their health-related questions, guide them toward better understanding of medical conditions, and suggest actions they may take based on their concerns. Always include a disclaimer that the information is not a substitute for professional medical advice. Avoid providing definitive diagnoses or treatment plans and encourage users to consult a licensed healthcare provider for personalized care.'}, {'role': 'user', 'content': 'What are the symptoms of Hypochromic microcytic anemia with iron overload ?'}, {'role': 'assistant', 'content': 'What are the signs and symptoms of Hypochromic microcytic anemia with iron overload? The Human Phenotype Ontology provides the following list of signs and symptoms for Hypochromic microcytic anemia with iron overload. If the information is available, the table below includes how often the symptom is seen in people with this condition. You can use the MedlinePlus Medical Dictionary to look up the definitions for these medical terms. Signs and Symptoms Approximate number of patients (when available) Abnormality of metabolism/homeostasis - Abnormality of the liver - Anemia - Autosomal recessive inheritance - The Human Phenotype Ontology (HPO) has collected information on how often a sign or symptom occurs in a condition. Much of this information comes from Orphanet, a European rare disease database. The frequency of a sign or symptom is usually listed as a rough estimate of the percentage of patients who have that feature. The frequency may also be listed as a fraction. The first number of the fraction is how many people had the symptom, and the second number is the total number of people who were examined in one study. For example, a frequency of 25/25 means that in a study of 25 people all patients were found to have that symptom. Because these frequencies are based on a specific study, the fractions may be different if another group of patients are examined. Sometimes, no information on frequency is available. In these cases, the sign or symptom may be rare or common.'}]}, {'messages': [{'role': 'system', 'content': 'You are a knowledgeable and empathetic virtual medical assistant trained to provide accurate, concise, and evidence-based responses to medical queries. Your primary goal is to assist users with their health-related questions, guide them toward better understanding of medical conditions, and suggest actions they may take based on their concerns. Always include a disclaimer that the information is not a substitute for professional medical advice. Avoid providing definitive diagnoses or treatment plans and encourage users to consult a licensed healthcare provider for personalized care.'}, {'role': 'user', 'content': 'What are the treatments for Patulous Eustachian Tube ?'}, {'role': 'assistant', 'content': 'How might patulous eustacian tube be treated? While no standard treatment has been found to work for every patient, there are several options that have been used to successfully manage the symptoms in a number of cases. Patients are often advised to recline or lower the head between the knees when symptoms occur. They may also be advised to avoid diuretics and/or increase weight. Medications which have been shown to work in some patients include nasal sprays containing anticholinergics, estrogen, diluted hydrochloric acid, chlorobutanol, or benzyl alcohol. Surgical treatment may be indicated in some cases. Information detailing treatment options can be accessed through Medscape Reference.'}]}, {'messages': [{'role': 'system', 'content': 'You are a knowledgeable and empathetic virtual medical assistant trained to provide accurate, concise, and evidence-based responses to medical queries. Your primary goal is to assist users with their health-related questions, guide them toward better understanding of medical conditions, and suggest actions they may take based on their concerns. Always include a disclaimer that the information is not a substitute for professional medical advice. Avoid providing definitive diagnoses or treatment plans and encourage users to consult a licensed healthcare provider for personalized care.'}, {'role': 'user', 'content': 'What are the symptoms of Budd-Chiari syndrome ?'}, {'role': 'assistant', 'content': 'What are the signs and symptoms of Budd-Chiari syndrome? The Human Phenotype Ontology provides the following list of signs and symptoms for Budd-Chiari syndrome. If the information is available, the table below includes how often the symptom is seen in people with this condition. You can use the MedlinePlus Medical Dictionary to look up the definitions for these medical terms. Signs and Symptoms Approximate number of patients (when available) Ascites 90% Portal hypertension 90% Splenomegaly 90% Abdominal pain 50% Abnormality of temperature regulation 50% Cirrhosis 50% Elevated hepatic transaminases 50% Esophageal varix 50% Hepatomegaly 50% Acute hepatic failure 7.5% Biliary tract abnormality 7.5% Gastrointestinal hemorrhage 7.5% Gastrointestinal infarctions 7.5% Intestinal obstruction 7.5% Malabsorption 7.5% Peritonitis 7.5% Weight loss 7.5% Budd-Chiari syndrome - Hepatocellular carcinoma - The Human Phenotype Ontology (HPO) has collected information on how often a sign or symptom occurs in a condition. Much of this information comes from Orphanet, a European rare disease database. The frequency of a sign or symptom is usually listed as a rough estimate of the percentage of patients who have that feature. The frequency may also be listed as a fraction. The first number of the fraction is how many people had the symptom, and the second number is the total number of people who were examined in one study. For example, a frequency of 25/25 means that in a study of 25 people all patients were found to have that symptom. Because these frequencies are based on a specific study, the fractions may be different if another group of patients are examined. Sometimes, no information on frequency is available. In these cases, the sign or symptom may be rare or common.'}]}]\n"
          ]
        }
      ],
      "source": [
        "print(test_data[:5])"
      ]
    },
    {
      "cell_type": "markdown",
      "metadata": {
        "id": "sLTshE5FU3rM"
      },
      "source": [
        "# **1. ZERO SHOT LEARNING**"
      ]
    },
    {
      "cell_type": "code",
      "execution_count": 22,
      "metadata": {
        "colab": {
          "base_uri": "https://localhost:8080/"
        },
        "id": "MBFNyzyjUUtz",
        "outputId": "6f57d81f-6cdd-4a59-9876-2bcf1081aa29"
      },
      "outputs": [
        {
          "name": "stdout",
          "output_type": "stream",
          "text": [
            "COVID-19 symptoms can vary widely among individuals, but some of the most commonly reported symptoms include:\n",
            "\n",
            "1. **Fever or chills**\n",
            "2. **Cough**\n",
            "3. **Shortness of breath or difficulty breathing**\n",
            "4. **Fatigue**\n",
            "5. **Muscle or body aches**\n",
            "6. **Headache**\n",
            "7. **New loss of taste or smell**\n",
            "8. **Sore throat**\n",
            "9. **Congestion or runny nose**\n",
            "10. **Nausea or vomiting**\n",
            "11. **Diarrhea**\n",
            "\n",
            "Symptoms typically appear 2-14 days after exposure to the virus. It's important to note that some individuals may experience mild symptoms while others may have severe complications. If you or someone you know is experiencing difficulty breathing, persistent chest pain, confusion, or bluish lips or face, seek emergency medical care immediately.\n",
            "\n",
            "Please remember that this information is not a substitute for professional medical advice. If you have concerns about COVID-19 or your health, consult a licensed healthcare provider for personalized guidance.\n"
          ]
        }
      ],
      "source": [
        "# Zero-shot prompt 1\n",
        "system_prompt = (\n",
        "    \"You are a knowledgeable and empathetic virtual medical assistant trained to provide accurate, concise, and evidence-based responses to medical queries. Your primary goal is to assist users with their health-related questions, guide them toward better understanding of medical conditions, and suggest actions they may take based on their concerns. Always include a disclaimer that the information is not a substitute for professional medical advice. Avoid providing definitive diagnoses or treatment plans and encourage users to consult a licensed healthcare provider for personalized care.\"\n",
        ")\n",
        "# Test a query\n",
        "query = \"What are the symptoms of COVID-19?\"\n",
        "\n",
        "client = OpenAI()\n",
        "response = client.chat.completions.create(\n",
        "  model=\"gpt-4o-mini\",\n",
        "  messages=[{\"role\": \"system\", \"content\": system_prompt},\n",
        "        {\"role\": \"user\", \"content\": query}\n",
        "    ])\n",
        "\n",
        "\n",
        "print(response.choices[0].message.content.strip())"
      ]
    },
    {
      "cell_type": "code",
      "execution_count": 23,
      "metadata": {
        "colab": {
          "base_uri": "https://localhost:8080/"
        },
        "id": "zYRc7OVMVy69",
        "outputId": "885b832c-fe9c-43db-e6c8-dd114b47b962"
      },
      "outputs": [
        {
          "name": "stdout",
          "output_type": "stream",
          "text": [
            "Cold and flu are both respiratory illnesses, but they are caused by different viruses and typically present with some varying symptoms. Here’s a brief overview of the symptoms for each:\n",
            "\n",
            "### Common Cold Symptoms:\n",
            "- **Runny or stuffy nose**\n",
            "- **Sneezing**\n",
            "- **Sore throat**\n",
            "- **Cough**\n",
            "- **Mild headache**\n",
            "- **Fatigue**\n",
            "- **Slight body aches**\n",
            "- **Low-grade fever (sometimes)**\n",
            "\n",
            "### Influenza (Flu) Symptoms:\n",
            "- **High fever (often sudden onset)**\n",
            "- **Chills**\n",
            "- **Headache**\n",
            "- **Severe body aches and fatigue**\n",
            "- **Dry cough**\n",
            "- **Sore throat**\n",
            "- **Runny or stuffy nose**\n",
            "- **Nausea or vomiting (more common in children)**\n",
            "\n",
            "Both illnesses can share some symptoms, making it difficult to distinguish between them based purely on symptoms. The flu tends to be more severe and sudden compared to a cold, which typically develops gradually.\n",
            "\n",
            "If you are experiencing symptoms and are unsure about their severity or duration, it's important to consult a healthcare provider. They can offer personalized advice and care tailored to your specific situation.\n",
            "\n",
            "**Disclaimer:** The information provided is not a substitute for professional medical advice. Always consult a licensed healthcare provider for diagnosis and treatment tailored to your individual needs.\n"
          ]
        }
      ],
      "source": [
        "# Zero-shot prompt 2\n",
        "system_prompt = (\n",
        "    \"You are a knowledgeable and empathetic virtual medical assistant trained to provide accurate, concise, and evidence-based responses to medical queries. Your primary goal is to assist users with their health-related questions, guide them toward better understanding of medical conditions, and suggest actions they may take based on their concerns. Always include a disclaimer that the information is not a substitute for professional medical advice. Avoid providing definitive diagnoses or treatment plans and encourage users to consult a licensed healthcare provider for personalized care.\"\n",
        ")\n",
        "\n",
        "# Test a query\n",
        "query = \"What are the symptoms of Cold and Flu?\"\n",
        "\n",
        "client = OpenAI()\n",
        "response = client.chat.completions.create(\n",
        "  model=\"gpt-4o-mini\",\n",
        "  messages=[{\"role\": \"system\", \"content\": system_prompt},\n",
        "        {\"role\": \"user\", \"content\": query}\n",
        "    ])\n",
        "\n",
        "\n",
        "print(response.choices[0].message.content.strip())"
      ]
    },
    {
      "cell_type": "code",
      "execution_count": 24,
      "metadata": {
        "colab": {
          "base_uri": "https://localhost:8080/"
        },
        "id": "zZ6APos1XliE",
        "outputId": "7bb973ba-e780-4b20-b555-b63803ce2662"
      },
      "outputs": [
        {
          "name": "stdout",
          "output_type": "stream",
          "text": [
            "Crouzonodermoskeletal syndrome is a rare genetic condition, and specific prevalence rates are not widely documented. Estimates suggest that it may occur in about 1 in 100,000 to 1 in 500,000 births. However, exact numbers can vary, and data on rare syndromes can be limited.\n",
            "\n",
            "If you have concerns or questions about this syndrome, whether for yourself or a loved one, it's important to consult with a healthcare professional who specializes in genetic conditions for more personalized information and guidance.\n",
            "\n",
            "*Please note that this information is not a substitute for professional medical advice.*\n"
          ]
        }
      ],
      "source": [
        "# Zero-shot prompt 3\n",
        "# Test a query\n",
        "query = \"How many people are affected by Crouzonodermoskeletal syndrome ?\"\n",
        "\n",
        "client = OpenAI()\n",
        "response = client.chat.completions.create(\n",
        "  model=\"gpt-4o-mini\",\n",
        "  messages=[{\"role\": \"system\", \"content\": system_prompt},\n",
        "        {\"role\": \"user\", \"content\": query}\n",
        "    ])\n",
        "\n",
        "\n",
        "print(response.choices[0].message.content.strip())"
      ]
    },
    {
      "cell_type": "markdown",
      "metadata": {
        "id": "QtL10c9Taaqu"
      },
      "source": [
        "**Actual Answer from the dataset:**. Crouzonodermoskeletal syndrome is rare; this condition is seen in about 1 person per million."
      ]
    },
    {
      "cell_type": "code",
      "execution_count": 25,
      "metadata": {
        "colab": {
          "base_uri": "https://localhost:8080/"
        },
        "id": "GyNqE5NBaJHr",
        "outputId": "37fdbd65-e642-4026-fb36-6beea9716fd5"
      },
      "outputs": [
        {
          "name": "stdout",
          "output_type": "stream",
          "text": [
            "Unverricht-Lundborg disease (ULD) is a rare genetic disorder characterized primarily by progressive myoclonic epilepsy (PME). It typically manifests in childhood or adolescence and is associated with neurological symptoms that can include:\n",
            "\n",
            "- Myoclonus: Sudden, involuntary muscle jerks.\n",
            "- Generalized seizures: These can vary in type and severity.\n",
            "- Ataxia: Problems with coordination and balance.\n",
            "- Cognitive decline: This may occur over time, affecting learning and memory.\n",
            "\n",
            "ULD is caused by mutations in the **C11orf73** gene, which affects the function of certain proteins involved in cellular processes. The condition is inherited in an autosomal recessive pattern, meaning both copies of the gene must be mutated for the disease to manifest.\n",
            "\n",
            "Management of Unverricht-Lundborg disease involves addressing symptoms, primarily through the use of antiepileptic medications to help control seizures and myoclonus. Physical therapy and supportive care may also be beneficial.\n",
            "\n",
            "Due to the complexity of ULD and its implications, it is essential for individuals suspected of having the condition to consult with a healthcare provider or a specialist in neurology or genetics for appropriate diagnosis and management.\n",
            "\n",
            "**Disclaimer**: This information is not a substitute for professional medical advice. If you have health concerns or questions about symptoms, please consult a licensed healthcare provider for personalized care.\n"
          ]
        }
      ],
      "source": [
        "# Zero-shot prompt 4\n",
        "# Test a query 4\n",
        "query = \"What is (are) Unverricht-Lundborg disease ?\"\n",
        "\n",
        "client = OpenAI()\n",
        "response = client.chat.completions.create(\n",
        "  model=\"gpt-4o-mini\",\n",
        "  messages=[{\"role\": \"system\", \"content\": system_prompt},\n",
        "        {\"role\": \"user\", \"content\": query}\n",
        "    ])\n",
        "\n",
        "\n",
        "print(response.choices[0].message.content.strip())"
      ]
    },
    {
      "cell_type": "markdown",
      "metadata": {
        "id": "-dU04xtbaZTr"
      },
      "source": [
        "**Actual answer from the dataset :** Unverricht-Lundborg disease is an inherited form of progressive myoclonus epilepsy that is characterized by episodes of involuntary muscle jerking or twitching (myoclonus) that increase in frequency and severity over time. Episodes of myoclonus may be brought on by physical exertion, stress, light, or other stimuli. Affected individuals usually begin showing signs and symptoms of the disorder between the ages of 6 and 15. Over time, the myoclonic episodes may become severe enough to interfere with walking and other everyday activities. Other features include seizures involving loss of consciousness, muscle rigidity, and convulsions (tonic-clonic or grand mal seizures). Like the myoclonic episodes, these may increase in frequency over several years but may be controlled with treatment. After several years of progression, the frequency of seizures may stabilize or decrease. Unverricht-Lundborg disease is caused by mutation in the CSTB gene. It is inherited in an autosomal recessive pattern."
      ]
    },
    {
      "cell_type": "markdown",
      "metadata": {
        "id": "9rjQr8XJfX-x"
      },
      "source": [
        "# **Zero Shot Evaluation Metrics**"
      ]
    },
    {
      "cell_type": "markdown",
      "metadata": {
        "id": "KWMZrI2PmII8"
      },
      "source": [
        "**1. Exact Match Accuracy**\n",
        "\n",
        "**2. BLEU Score**\n",
        "\n",
        "**3. Semantic Similarity**\n",
        "\n",
        "**4. Cosine Similarity**\n",
        "\n",
        "**5. Token-Level Accuracy**\n",
        "\n",
        "**6. Accuracy**\n",
        "\n",
        "**7. F1 Score**"
      ]
    },
    {
      "cell_type": "code",
      "execution_count": 60,
      "metadata": {
        "colab": {
          "base_uri": "https://localhost:8080/"
        },
        "id": "mi0jP9bZh5ZY",
        "outputId": "0fb221fe-67c1-4792-a2fd-6c928d2a569e"
      },
      "outputs": [
        {
          "name": "stdout",
          "output_type": "stream",
          "text": [
            "Query: What is (are) Unverricht-Lundborg disease?\n",
            "Exact Match Accuracy: 0\n",
            "BLEU Score: 0.05\n",
            "Semantic Similarity: 0.90\n",
            "Cosine Similarity: 0.90\n",
            "Token-Level Accuracy: 0.29\n",
            "Accuracy: 0.29\n",
            "F1 Score: 0.45\n",
            "Query: How many people are affected by Crouzonodermoskeletal syndrome?\n",
            "Exact Match Accuracy: 0\n",
            "BLEU Score: 0.01\n",
            "Semantic Similarity: 0.82\n",
            "Cosine Similarity: 0.82\n",
            "Token-Level Accuracy: 0.38\n",
            "Accuracy: 0.38\n",
            "F1 Score: 0.56\n"
          ]
        }
      ],
      "source": [
        "\n",
        "\n",
        "# Questions from the dataset\n",
        "queries = [\n",
        "    \"What is (are) Unverricht-Lundborg disease?\",\n",
        "    \"How many people are affected by Crouzonodermoskeletal syndrome?\"\n",
        "]\n",
        "\n",
        "expected_answers = [\n",
        "    \"Unverricht-Lundborg disease is an inherited form of progressive myoclonus epilepsy that is characterized by episodes of involuntary muscle jerking or twitching (myoclonus) that increase in frequency and severity over time. Episodes of myoclonus may be brought on by physical exertion, stress, light, or other stimuli. Affected individuals usually begin showing signs and symptoms of the disorder between the ages of 6 and 15. Over time, the myoclonic episodes may become severe enough to interfere with walking and other everyday activities. Other features include seizures involving loss of consciousness, muscle rigidity, and convulsions (tonic-clonic or grand mal seizures). Like the myoclonic episodes, these may increase in frequency over several years but may be controlled with treatment. After several years of progression, the frequency of seizures may stabilize or decrease. Unverricht-Lundborg disease is caused by mutation in the CSTB gene. It is inherited in an autosomal recessive pattern.\",\n",
        "    \"Crouzonodermoskeletal syndrome is rare; this condition is seen in about 1 person per million.\"\n",
        "]\n",
        "\n",
        "generated_answers = [\n",
        "    \"Unverricht-Lundborg disease, also known as EPM1 (Progressive Myoclonic Epilepsy type 1), is a rare genetic disorder characterized by progressive myoclonus, generalized tonic-clonic seizures, and neurological deterioration. It typically manifests in adolescence or early adulthood. The myoclonic jerks are sudden, brief involuntary muscle contractions, while the seizures can vary in type and severity. The condition is caused by mutations in the CSTB gene, which encodes for cystatin B, a protein that plays a role in neuronal function. This disorder is inherited in an autosomal recessive manner, meaning that both copies of the gene (one from each parent) must be mutated for a child to be affected. Symptoms may also include cognitive decline, ataxia (loss of coordination), and psychiatric disturbances. While there is currently no cure for Unverricht-Lundborg disease, treatments focus on managing symptoms, particularly seizure control, using antiepileptic medications. If you suspect you or someone you know may have this condition, or if there are concerning symptoms, it is important to consult a healthcare provider for an accurate diagnosis and appropriate management. **Disclaimer:** The information provided here is for educational purposes only and is not a substitute for professional medical advice. Always consult a licensed healthcare provider for personalized care and guidance.\",\n",
        "    \"Crouzonodermoskeletal syndrome is a rare genetic disorder characterized by craniosynostosis, skeletal malformations, and skin abnormalities. Due to its rarity, specific prevalence statistics can be challenging to find, but it is estimated to affect only a small number of individuals globally. As with many rare syndromes, the exact number of affected individuals can vary, and new cases can emerge as awareness and genetic testing improve. If you are looking for more detailed statistics or more information on this condition, consulting medical literature or a healthcare provider specializing in genetic disorders may be helpful. Please remember that this information is not a substitute for professional medical advice. Always consult with a licensed healthcare provider for personalized care and guidance.\"\n",
        "]\n",
        "\n",
        "# Initialize Sentence Transformer model\n",
        "model = SentenceTransformer('all-MiniLM-L6-v2')\n",
        "\n",
        "# Define evaluation functions\n",
        "def calculate_exact_match(expected, generated):\n",
        "    return int(expected.strip().lower() == generated.strip().lower())\n",
        "\n",
        "def calculate_bleu(expected, generated):\n",
        "    expected_tokens = expected.split()\n",
        "    generated_tokens = generated.split()\n",
        "    smoothing_function = SmoothingFunction().method1\n",
        "    return sentence_bleu([expected_tokens], generated_tokens, smoothing_function=smoothing_function)\n",
        "\n",
        "def calculate_semantic_similarity(expected, generated):\n",
        "    embeddings = model.encode([expected, generated])\n",
        "    return cosine_similarity([embeddings[0]], [embeddings[1]])[0][0]\n",
        "\n",
        "def calculate_token_level_accuracy(expected, generated):\n",
        "    expected_tokens = set(expected.split())\n",
        "    generated_tokens = set(generated.split())\n",
        "    overlap = expected_tokens & generated_tokens\n",
        "    return len(overlap) / len(expected_tokens)\n",
        "\n",
        "def calculate_accuracy_f1(expected_tokens, generated_tokens):\n",
        "    # Convert tokens to binary vector for classification metrics\n",
        "    expected_vector = [1 if token in expected_tokens else 0 for token in expected_tokens]\n",
        "    generated_vector = [1 if token in generated_tokens else 0 for token in expected_tokens]\n",
        "    accuracy = accuracy_score(expected_vector, generated_vector)\n",
        "    f1 = f1_score(expected_vector, generated_vector, zero_division=1)\n",
        "    return accuracy, f1\n",
        "\n",
        "\n",
        "\n",
        "# Evaluate all metrics\n",
        "results = []\n",
        "for query, expected, generated in zip(queries, expected_answers, generated_answers):\n",
        "    exact_match = calculate_exact_match(expected, generated)\n",
        "    bleu_score = calculate_bleu(expected, generated)\n",
        "    semantic_similarity = calculate_semantic_similarity(expected, generated)\n",
        "    token_level_accuracy = calculate_token_level_accuracy(expected, generated)\n",
        "\n",
        "    # Calculate Accuracy and F1 Score\n",
        "    expected_tokens = set(expected.split())\n",
        "    generated_tokens = set(generated.split())\n",
        "    accuracy, f1 = calculate_accuracy_f1(expected_tokens, generated_tokens)\n",
        "\n",
        "    results.append({\n",
        "        \"Query\": query,\n",
        "        \"Exact Match Accuracy\": exact_match,\n",
        "        \"BLEU Score\": bleu_score,\n",
        "        \"Semantic Similarity\": semantic_similarity,\n",
        "        \"Cosine Similarity\": semantic_similarity,  # Semantic similarity is the cosine similarity\n",
        "        \"Token-Level Accuracy\": token_level_accuracy,\n",
        "        \"Accuracy\": accuracy,\n",
        "        \"F1 Score\": f1\n",
        "    })\n",
        "\n",
        "# Print results\n",
        "for result in results:\n",
        "    print(f\"Query: {result['Query']}\")\n",
        "    print(f\"Exact Match Accuracy: {result['Exact Match Accuracy']}\")\n",
        "    print(f\"BLEU Score: {result['BLEU Score']:.2f}\")\n",
        "    print(f\"Semantic Similarity: {result['Semantic Similarity']:.2f}\")\n",
        "    print(f\"Cosine Similarity: {result['Cosine Similarity']:.2f}\")\n",
        "    print(f\"Token-Level Accuracy: {result['Token-Level Accuracy']:.2f}\")\n",
        "    print(f\"Accuracy: {result['Accuracy']:.2f}\")\n",
        "    print(f\"F1 Score: {result['F1 Score']:.2f}\")\n"
      ]
    },
    {
      "cell_type": "markdown",
      "metadata": {
        "id": "Oq3JJnykjo_m"
      },
      "source": [
        "# **2.ONE SHOT PROMT**"
      ]
    },
    {
      "cell_type": "code",
      "execution_count": 27,
      "metadata": {
        "colab": {
          "base_uri": "https://localhost:8080/"
        },
        "id": "twCcKANUjtGN",
        "outputId": "676c5b6e-dcdf-4305-8bf7-bbd1795eea18"
      },
      "outputs": [
        {
          "name": "stdout",
          "output_type": "stream",
          "text": [
            "To help prevent diabetes-related complications, particularly those affecting the nervous system (diabetic neuropathy), it's important to focus on several key areas of health management. Here are some strategies that can support nerve health in individuals with diabetes:\n",
            "\n",
            "1. **Blood Sugar Control**: \n",
            "   - Maintaining stable blood glucose levels is crucial. This can often be achieved through a combination of diet, exercise, and medication as prescribed by your healthcare provider.\n",
            "\n",
            "2. **Healthy Diet**:\n",
            "   - Eating a balanced diet rich in vegetables, fruits, whole grains, lean proteins, and healthy fats can help manage blood sugar levels. Limiting processed foods and sugars is also beneficial.\n",
            "\n",
            "3. **Regular Exercise**:\n",
            "   - Engaging in regular physical activity can improve insulin sensitivity, help control weight, and enhance blood flow, all of which are beneficial for nerve health.\n",
            "\n",
            "4. **Weight Management**:\n",
            "   - Maintaining a healthy weight can reduce the risk of developing complications related to diabetes. If overweight, even a modest reduction in weight can have positive effects.\n",
            "\n",
            "5. **Regular Monitoring**:\n",
            "   - Frequent monitoring of blood glucose levels, as advised by your healthcare provider, can help catch any fluctuations that could lead to complications.\n",
            "\n",
            "6. **Manage Blood Pressure and Cholesterol**: \n",
            "   - Keeping your blood pressure and cholesterol levels in check is important for overall cardiovascular health and can help prevent nerve damage.\n",
            "\n",
            "7. **Avoid Alcohol and Smoking**:\n",
            "   - Limiting or avoiding alcohol and quitting smoking can reduce the risk of nerve damage.\n",
            "\n",
            "8. **Regular Health Check-ups**:\n",
            "   - Routine visits to your healthcare provider for foot exams, eye exams, and other preventive screenings are vital to catch any complications early.\n",
            "\n",
            "9. **Medications and Supplements**: \n",
            "   - Some patients may benefit from medications prescribed to manage pain associated with neuropathy or supplements like alpha-lipoic acid, but these should always be discussed and guided by a healthcare professional.\n",
            "\n",
            "10. **Stress Management**: \n",
            "   - Practices such as mindfulness, yoga, and meditation can help reduce stress, which can, in turn, positively affect blood sugar levels and overall health.\n",
            "\n",
            "Always consult with a healthcare provider for personalized advice and treatment options tailored to your specific health needs. This information is not a substitute for professional medical advice.\n"
          ]
        }
      ],
      "source": [
        "# One shot prompt 1\n",
        "# Example Question and Answer\n",
        "question = \"What are the treatments for 21-hydroxylase deficiency?\"\n",
        "answer = \"The objectives for treating 21-hydroxylase deficiency differ with age. In childhood, the overall goal is to replace cortisol. Obtaining hormonal balance is important and patients growth velocity and bone age is monitored. Routine analysis of blood, urine, and/or saliva may also be necessary. Corrective surgery is frequently required for females born with abnormal genitalia. In late childhood and adolescence, maintaining hormonal balance is equally important. Overtreatment may result in obesity and delayed menarche/puberty, whereas under-replacement will result in sexual precocity. Also, it is important that teens and young adults with 21-hydroxylase deficiency be successfully transitioned to adult care facilities. Follow-up of adult patients should involve multidisciplinary clinics. Problems in adult women include fertility concerns, excessive hair growth, and menstrual irregularity; obesity and impact of short stature; sexual dysfunction and psychological problems. Counseling may be helpful. Adult males may develop enlargement of the testes and if so, should work with an endocrinologist familiar with the management of patients with this deficiency.\"\n",
        "\n",
        "# Query to test 1\n",
        "query = \"What are the treatments for Prevent diabetes problems: Keep your nervous system healthy ??\"\n",
        "\n",
        "client = openai.OpenAI()\n",
        "response = client.chat.completions.create(\n",
        "    model=\"gpt-4o-mini\",\n",
        "    messages=[\n",
        "        {\"role\": \"system\", \"content\": system_prompt},\n",
        "        {\"role\": \"user\", \"content\": question},\n",
        "        {\"role\": \"assistant\", \"content\": answer},\n",
        "        {\"role\": \"user\", \"content\": query}\n",
        "    ]\n",
        ")\n",
        "\n",
        "print(response.choices[0].message.content.strip())"
      ]
    },
    {
      "cell_type": "code",
      "execution_count": 28,
      "metadata": {
        "colab": {
          "base_uri": "https://localhost:8080/"
        },
        "id": "VTPLP14AnoRh",
        "outputId": "7373ad5e-1257-428f-d42a-e03e04c18e32"
      },
      "outputs": [
        {
          "name": "stdout",
          "output_type": "stream",
          "text": [
            "Gastrointestinal stromal tumors (GISTs) are a type of tumor found in the digestive tract, most often in the stomach or small intestine. Treatment for GISTs typically involves a combination of approaches, which can include:\n",
            "\n",
            "1. **Surgery**: If the tumor is localized and operable, surgical resection is usually the primary treatment. The goal is to remove the tumor along with a margin of healthy tissue.\n",
            "\n",
            "2. **Targeted Therapy**: Most GISTs have mutations in the KIT or PDGFRA genes, making them responsive to targeted therapies such as imatinib (Gleevec) and sunitinib (Sutent). These medications can help control tumor growth and are often used in cases where the tumor cannot be surgically removed or if it recurs after surgery.\n",
            "\n",
            "3. **Imatinib**: This is typically the first-line treatment for advanced GISTs. It can shrink tumors and slow their growth, improving symptoms and quality of life.\n",
            "\n",
            "4. **Sunitinib**: This may be used if the tumor becomes intolerant to imatinib or in cases where imatinib is no longer effective.\n",
            "\n",
            "5. **Clinical Trials**: Patients may consider participating in clinical trials for new treatments or combination therapies.\n",
            "\n",
            "6. **Supportive Care**: Managing symptoms and side effects from treatment, such as nausea or pain, is also an important aspect of overall care.\n",
            "\n",
            "It’s crucial for patients diagnosed with GISTs to work closely with a healthcare team, often including an oncologist familiar with sarcomas, to develop a personalized treatment plan based on the tumor's specific characteristics and the patient's overall health.\n",
            "\n",
            "As always, this information should not be considered a substitute for professional medical advice. It's important to consult a licensed healthcare provider for personalized advice and treatment options tailored to individual circumstances.\n"
          ]
        }
      ],
      "source": [
        "# One shot prompt 2\n",
        "# Example Question and Answer\n",
        "question = \"What are the treatments for 21-hydroxylase deficiency?\"\n",
        "answer = \"The objectives for treating 21-hydroxylase deficiency differ with age. In childhood, the overall goal is to replace cortisol. Obtaining hormonal balance is important and patients growth velocity and bone age is monitored. Routine analysis of blood, urine, and/or saliva may also be necessary. Corrective surgery is frequently required for females born with abnormal genitalia. In late childhood and adolescence, maintaining hormonal balance is equally important. Overtreatment may result in obesity and delayed menarche/puberty, whereas under-replacement will result in sexual precocity. Also, it is important that teens and young adults with 21-hydroxylase deficiency be successfully transitioned to adult care facilities. Follow-up of adult patients should involve multidisciplinary clinics. Problems in adult women include fertility concerns, excessive hair growth, and menstrual irregularity; obesity and impact of short stature; sexual dysfunction and psychological problems. Counseling may be helpful. Adult males may develop enlargement of the testes and if so, should work with an endocrinologist familiar with the management of patients with this deficiency.\"\n",
        "\n",
        "# Query to test 1\n",
        "query = \"What are the treatments for gastrointestinal stromal tumor ?\"\n",
        "\n",
        "client = openai.OpenAI()\n",
        "response = client.chat.completions.create(\n",
        "    model=\"gpt-4o-mini\",\n",
        "    messages=[\n",
        "        {\"role\": \"system\", \"content\": system_prompt},\n",
        "        {\"role\": \"user\", \"content\": question},\n",
        "        {\"role\": \"assistant\", \"content\": answer},\n",
        "        {\"role\": \"user\", \"content\": query}\n",
        "    ]\n",
        ")\n",
        "\n",
        "print(response.choices[0].message.content.strip())"
      ]
    },
    {
      "cell_type": "markdown",
      "metadata": {
        "id": "HvKRdKwdoFqI"
      },
      "source": [
        "**Expected Answer**: These resources address the diagnosis or management of gastrointestinal stromal tumor: - American Cancer Society: Treating Gastrointestinal Stromal Tumor (GIST) - Cancer.Net: Gastrointestinal Stromal Tumor--Diagnosis - Genetic Testing Registry: Gastrointestinal stromal tumor These resources from MedlinePlus offer information about the diagnosis and management of various health conditions: - Diagnostic Tests - Drug Therapy - Surgery and Rehabilitation - Genetic Counseling - Palliative Care"
      ]
    },
    {
      "cell_type": "markdown",
      "metadata": {
        "id": "Og2sbA9sTM67"
      },
      "source": [
        "## **One Shot Evaluation Metrics**\n",
        "\n",
        "**1. Exact Match Accuracy**\n",
        "\n",
        "**2. BLEU Score**\n",
        "\n",
        "**3. Semantic Similarity**\n",
        "\n",
        "**4. Cosine Similarity**\n",
        "\n",
        "**5. Token-Level Accuracy**\n",
        "\n",
        "**6. Accuracy**\n",
        "\n",
        "**7. F1 Score**"
      ]
    },
    {
      "cell_type": "code",
      "execution_count": 57,
      "metadata": {
        "colab": {
          "base_uri": "https://localhost:8080/"
        },
        "id": "QJ6TF__XsK9q",
        "outputId": "8ab9863a-0d31-4838-846b-8fa0d2ae6a59"
      },
      "outputs": [
        {
          "name": "stdout",
          "output_type": "stream",
          "text": [
            "Query: What are the treatments for gastrointestinal stromal tumor?\n",
            "Exact Match Accuracy: 0\n",
            "BLEU Score: 0.00\n",
            "Semantic Similarity: 0.56\n",
            "Cosine Similarity: 0.56\n",
            "Token-Level Accuracy: 0.18\n",
            "Accuracy: 0.04\n",
            "F1 Score: 0.07\n"
          ]
        }
      ],
      "source": [
        "\n",
        "\n",
        "# Example data\n",
        "query = \"What are the treatments for gastrointestinal stromal tumor?\"\n",
        "expected_answer = (\"These resources address the diagnosis or management of gastrointestinal stromal tumor: - American Cancer Society: Treating Gastrointestinal Stromal Tumor (GIST) - Cancer.Net: Gastrointestinal Stromal Tumor--Diagnosis - Genetic Testing Registry: Gastrointestinal stromal tumor These resources from MedlinePlus offer information about the diagnosis and management of various health conditions: - Diagnostic Tests - Drug Therapy - Surgery and Rehabilitation - Genetic Counseling - Palliative Care\")\n",
        "generated_answer = (\"Gastrointestinal stromal tumors (GISTs) are a type of tumor that occurs in the digestive tract, primarily in the stomach or small intestine. Treatment for GISTs typically involves a combination of approaches, which may include: 1. **Surgery**: The primary treatment for localized GISTs is surgical resection to remove the tumor, along with a margin of healthy tissue. This is often the best option if the tumor has not spread. 2. **Targeted Therapy**: For GISTs that cannot be completely removed by surgery, or for metastatic GISTs, targeted therapy is commonly used. The most effective medication is imatinib (Gleevec), which targets the mutated c-KIT protein that drives the growth of these tumors. Other targeted therapies may be used in cases where resistance to imatinib develops or when the tumor has specific mutations (e.g., sunitinib or regorafenib). 3. **Radiation Therapy**: Although not standard treatment for GISTs, radiation may be used in certain situations, such as to relieve symptoms or control local disease, particularly when surgery is not viable. 4. **Clinical Trials**: Patients may also consider participating in clinical trials, which can provide access to new therapies or combinations of treatments that are not yet widely available. 5. **Regular Follow-up**: After treatment, regular follow-up is essential to monitor for recurrence or progression of the disease. Each patient's treatment plan may vary based on the tumor's size, location, genetic characteristics, and the patient's overall health. It is crucial to consult with an oncologist who specializes in GISTs to determine the most appropriate treatment strategy. **Disclaimer**: The information provided is for educational purposes only and is not a substitute for professional medical advice. Always consult a licensed healthcare provider for personalized care.\")\n",
        "\n",
        "# Initialize Sentence Transformer model for embeddings\n",
        "model = SentenceTransformer('all-MiniLM-L6-v2')\n",
        "\n",
        "# Define evaluation functions\n",
        "def calculate_exact_match(expected, generated):\n",
        "    return int(expected.strip().lower() == generated.strip().lower())\n",
        "\n",
        "def calculate_bleu(expected, generated):\n",
        "    expected_tokens = expected.split()\n",
        "    generated_tokens = generated.split()\n",
        "    smoothing_function = SmoothingFunction().method1\n",
        "    return sentence_bleu([expected_tokens], generated_tokens, smoothing_function=smoothing_function)\n",
        "\n",
        "def calculate_semantic_similarity(expected, generated):\n",
        "    embeddings = model.encode([expected, generated])\n",
        "    return cosine_similarity([embeddings[0]], [embeddings[1]])[0][0]\n",
        "\n",
        "def calculate_cosine_similarity(expected, generated):\n",
        "    embeddings = model.encode([expected, generated])\n",
        "    return cosine_similarity([embeddings[0]], [embeddings[1]])[0][0]\n",
        "\n",
        "def calculate_token_level_accuracy(expected, generated):\n",
        "    expected_tokens = set(expected.split())\n",
        "    generated_tokens = set(generated.split())\n",
        "    overlap = expected_tokens & generated_tokens\n",
        "    return len(overlap) / len(expected_tokens)\n",
        "\n",
        "def calculate_accuracy_f1(expected, generated):\n",
        "    # Create sets for expected and generated tokens\n",
        "    expected_tokens = set(expected.split())\n",
        "    generated_tokens = set(generated.split())\n",
        "\n",
        "    # Create binary vectors for accuracy and F1 score calculation\n",
        "    all_tokens = expected_tokens | generated_tokens\n",
        "    expected_vector = [1 if token in expected_tokens else 0 for token in all_tokens]\n",
        "    generated_vector = [1 if token in generated_tokens else 0 for token in all_tokens]\n",
        "\n",
        "    accuracy = accuracy_score(expected_vector, generated_vector)\n",
        "    f1 = f1_score(expected_vector, generated_vector, zero_division=1)\n",
        "    return accuracy, f1\n",
        "\n",
        "# Evaluate metrics\n",
        "exact_match = calculate_exact_match(expected_answer, generated_answer)\n",
        "bleu_score = calculate_bleu(expected_answer, generated_answer)\n",
        "semantic_similarity = calculate_semantic_similarity(expected_answer, generated_answer)\n",
        "cosine_similarity = calculate_cosine_similarity(expected_answer, generated_answer)\n",
        "token_level_accuracy = calculate_token_level_accuracy(expected_answer, generated_answer)\n",
        "\n",
        "# Accuracy and F1 Score\n",
        "accuracy, f1 = calculate_accuracy_f1(expected_answer, generated_answer)\n",
        "\n",
        "# Print results\n",
        "print(f\"Query: {query}\")\n",
        "print(f\"Exact Match Accuracy: {exact_match}\")\n",
        "print(f\"BLEU Score: {bleu_score:.2f}\")\n",
        "print(f\"Semantic Similarity: {semantic_similarity:.2f}\")\n",
        "print(f\"Cosine Similarity: {cosine_similarity:.2f}\")\n",
        "print(f\"Token-Level Accuracy: {token_level_accuracy:.2f}\")\n",
        "print(f\"Accuracy: {accuracy:.2f}\")\n",
        "print(f\"F1 Score: {f1:.2f}\")"
      ]
    },
    {
      "cell_type": "markdown",
      "metadata": {
        "id": "rPY2187hwCf1"
      },
      "source": [
        "# **3. FEW SHOT PROMPT**"
      ]
    },
    {
      "cell_type": "code",
      "execution_count": 31,
      "metadata": {
        "colab": {
          "base_uri": "https://localhost:8080/"
        },
        "id": "XmZXj8fOwDA8",
        "outputId": "ef2fd0f8-a17f-4f6e-8c93-02c8f966b9ac"
      },
      "outputs": [
        {
          "name": "stdout",
          "output_type": "stream",
          "text": [
            "Attention-Deficit/Hyperactivity Disorder (ADHD) affects about 6-9% of children in the United States, which translates to roughly 4 to 5 million children. It can also persist into adulthood, affecting about 2.5% of adults. However, prevalence rates can vary based on factors such as age, diagnostic criteria, and geographical location. \n",
            "\n",
            "As always, please consult a healthcare professional for personalized information and advice.\n"
          ]
        }
      ],
      "source": [
        "# Examples\n",
        "examples = [\n",
        "    {\"question\": \"How many people are affected by Crouzonodermoskeletal syndrome?\", \"answer\": \"Today, many different types of medicines are available to control high blood pressure. These medicines work in different ways. Some lower blood pressure by removing extra fluid and salt from your body. Others affect blood pressure by slowing down the heartbeat, or by relaxing and widening blood vessels. Often, two or more drugs work better than one. Here are the types of medicines used to treat high blood pressure. - Diuretics (water or fluid Pills) flush excess sodium from your body, which reduces the amount of fluid in your blood and helps to lower your blood pressure. Diuretics are often used with other high blood pressure medicines, sometimes in one combined pill. - Beta Blockers help your heart beat slower and with less force. As a result, your heart pumps less blood through your blood vessels, which can help to lower your blood pressure. - Angiotensin-Converting Enzyme (ACE) Inhibitors. Angiotensin-II is a hormone that narrows blood vessels, increasing blood pressure. ACE converts Angiotensin I to Angiotensin II. ACE inhibitors block this process, which stops the production of Angiotensin II, lowering blood pressure. - Angiotensin II Receptor Blockers (ARBs) block angiotensin II hormone from binding with receptors in the blood vessels. When angiotensin II is blocked, the blood vessels do not constrict or narrow, which can lower your blood pressure. - Calcium Channel Blockers keep calcium from entering the muscle cells of your heart and blood vessels. This allows blood vessels to relax, which can lower your blood pressure. - Alpha Blockers reduce nerve impulses that tighten blood vessels. This allows blood to flow more freely, causing blood pressure to go down. - Alpha-Beta Blockers reduce nerve impulses the same way alpha blockers do. However, like beta blockers, they also slow the heartbeat. As a result, blood pressure goes down. - Central Acting Agents act in the brain to decrease nerve signals that narrow blood vessels, which can lower blood pressure. - Vasodilators relax the muscles in blood vessel walls, which can lower blood pressure. Diuretics (water or fluid Pills) flush excess sodium from your body, which reduces the amount of fluid in your blood and helps to lower your blood pressure. Diuretics are often used with other high blood pressure medicines, sometimes in one combined pill. Beta Blockers help your heart beat slower and with less force. As a result, your heart pumps less blood through your blood vessels, which can help to lower your blood pressure. Angiotensin-Converting Enzyme (ACE) Inhibitors. Angiotensin-II is a hormone that narrows blood vessels, increasing blood pressure. ACE converts Angiotensin I to Angiotensin II. ACE inhibitors block this process, which stops the production of Angiotensin II, lowering blood pressure. Angiotensin II Receptor Blockers (ARBs) block angiotensin II hormone from binding with receptors in the blood vessels. When angiotensin II is blocked, the blood vessels do not constrict or narrow, which can lower your blood pressure. Calcium Channel Blockers keep calcium from entering the muscle cells of your heart and blood vessels. This allows blood vessels to relax, which can lower your blood pressure. Alpha Blockers reduce nerve impulses that tighten blood vessels. This allows blood to flow more freely, causing blood pressure to go down. Alpha-Beta Blockers reduce nerve impulses the same way alpha blockers do. However, like beta blockers, they also slow the heartbeat. As a result, blood pressure goes down. Central Acting Agents act in the brain to decrease nerve signals that narrow blood vessels, which can lower blood pressure. Vasodilators relax the muscles in blood vessel walls, which can lower blood pressure.\"},\n",
        "    {\"question\": \"How many people are affected by Cystic Fibrosis?\", \"answer\": \"Cystic Fibrosis affects about 30,000 people in the United States.\"},\n",
        "    {\"question\": \"What is the prevalence of Down syndrome?\", \"answer\": \"Down syndrome affects about 1 in 700 babies born in the United States.\"},\n",
        "    {\"question\": \"How common is autism spectrum disorder?\", \"answer\": \"Autism spectrum disorder affects approximately 1 in 54 children in the United States.\"},\n",
        "    {\"question\": \"What is the prevalence of diabetes in the United States?\", \"answer\": \"Approximately 37 million Americans have diabetes.\"}\n",
        "]\n",
        "\n",
        "# Query to test\n",
        "query = \"How many people are affected by Attention-Deficit/Hyperactivity Disorder (ADHD)?\"\n",
        "\n",
        "messages = [{\"role\": \"system\", \"content\": system_prompt}]\n",
        "for example in examples:\n",
        "    messages.append({\"role\": \"user\", \"content\": example[\"question\"]})\n",
        "    messages.append({\"role\": \"assistant\", \"content\": example[\"answer\"]})\n",
        "messages.append({\"role\": \"user\", \"content\": query})\n",
        "\n",
        "\n",
        "client = openai.OpenAI()\n",
        "response = client.chat.completions.create(\n",
        "    model=\"gpt-4o-mini\",\n",
        "    messages=messages\n",
        ")\n",
        "\n",
        "print(response.choices[0].message.content.strip())"
      ]
    },
    {
      "cell_type": "code",
      "execution_count": 32,
      "metadata": {
        "colab": {
          "base_uri": "https://localhost:8080/"
        },
        "id": "cYsAHhkNxAt1",
        "outputId": "16dcc4c4-e576-4e81-cbbb-f1d52c0b4586"
      },
      "outputs": [
        {
          "name": "stdout",
          "output_type": "stream",
          "text": [
            "Attention-Deficit/Hyperactivity Disorder (ADHD) affects about 6-9% of children in the United States, based on various studies. This translates to approximately 4 to 6 million children diagnosed with the condition. In addition, ADHD can continue into adulthood, and approximately 4% of adults are estimated to have ADHD. Prevalence may vary based on factors such as age, sex, and the criteria used for diagnosis. \n",
            "\n",
            "As always, for personalized advice or concerns regarding ADHD, it's best to consult a healthcare professional.\n"
          ]
        }
      ],
      "source": [
        "\n",
        "# Few-shot prompt with multiple examples\n",
        "prompt = \"Given a medical question, provide a comprehensive and informative answer. If the question is ambiguous, ask clarifying questions. Always suggest consulting a healthcare professional for personalized advice.\"\n",
        "\n",
        "# Examples\n",
        "examples = [\n",
        "    {\"question\": \"How many people are affected by Crouzonodermoskeletal syndrome?\", \"answer\": \"Today, many different types of medicines are available to control high blood pressure. These medicines work in different ways. Some lower blood pressure by removing extra fluid and salt from your body. Others affect blood pressure by slowing down the heartbeat, or by relaxing and widening blood vessels. Often, two or more drugs work better than one. Here are the types of medicines used to treat high blood pressure. - Diuretics (water or fluid Pills) flush excess sodium from your body, which reduces the amount of fluid in your blood and helps to lower your blood pressure. Diuretics are often used with other high blood pressure medicines, sometimes in one combined pill. - Beta Blockers help your heart beat slower and with less force. As a result, your heart pumps less blood through your blood vessels, which can help to lower your blood pressure. - Angiotensin-Converting Enzyme (ACE) Inhibitors. Angiotensin-II is a hormone that narrows blood vessels, increasing blood pressure. ACE converts Angiotensin I to Angiotensin II. ACE inhibitors block this process, which stops the production of Angiotensin II, lowering blood pressure. - Angiotensin II Receptor Blockers (ARBs) block angiotensin II hormone from binding with receptors in the blood vessels. When angiotensin II is blocked, the blood vessels do not constrict or narrow, which can lower your blood pressure. - Calcium Channel Blockers keep calcium from entering the muscle cells of your heart and blood vessels. This allows blood vessels to relax, which can lower your blood pressure. - Alpha Blockers reduce nerve impulses that tighten blood vessels. This allows blood to flow more freely, causing blood pressure to go down. - Alpha-Beta Blockers reduce nerve impulses the same way alpha blockers do. However, like beta blockers, they also slow the heartbeat. As a result, blood pressure goes down. - Central Acting Agents act in the brain to decrease nerve signals that narrow blood vessels, which can lower blood pressure. - Vasodilators relax the muscles in blood vessel walls, which can lower blood pressure. Diuretics (water or fluid Pills) flush excess sodium from your body, which reduces the amount of fluid in your blood and helps to lower your blood pressure. Diuretics are often used with other high blood pressure medicines, sometimes in one combined pill. Beta Blockers help your heart beat slower and with less force. As a result, your heart pumps less blood through your blood vessels, which can help to lower your blood pressure. Angiotensin-Converting Enzyme (ACE) Inhibitors. Angiotensin-II is a hormone that narrows blood vessels, increasing blood pressure. ACE converts Angiotensin I to Angiotensin II. ACE inhibitors block this process, which stops the production of Angiotensin II, lowering blood pressure. Angiotensin II Receptor Blockers (ARBs) block angiotensin II hormone from binding with receptors in the blood vessels. When angiotensin II is blocked, the blood vessels do not constrict or narrow, which can lower your blood pressure. Calcium Channel Blockers keep calcium from entering the muscle cells of your heart and blood vessels. This allows blood vessels to relax, which can lower your blood pressure. Alpha Blockers reduce nerve impulses that tighten blood vessels. This allows blood to flow more freely, causing blood pressure to go down. Alpha-Beta Blockers reduce nerve impulses the same way alpha blockers do. However, like beta blockers, they also slow the heartbeat. As a result, blood pressure goes down. Central Acting Agents act in the brain to decrease nerve signals that narrow blood vessels, which can lower blood pressure. Vasodilators relax the muscles in blood vessel walls, which can lower blood pressure.\"},\n",
        "    {\"question\": \"How many people are affected by Cystic Fibrosis?\", \"answer\": \"Cystic Fibrosis affects about 30,000 people in the United States.\"},\n",
        "    {\"question\": \"What is the prevalence of Down syndrome?\", \"answer\": \"Down syndrome affects about 1 in 700 babies born in the United States.\"},\n",
        "    {\"question\": \"How common is autism spectrum disorder?\", \"answer\": \"Autism spectrum disorder affects approximately 1 in 54 children in the United States.\"},\n",
        "    {\"question\": \"What is the prevalence of diabetes in the United States?\", \"answer\": \"Approximately 37 million Americans have diabetes.\"}\n",
        "]\n",
        "\n",
        "# Query to test\n",
        "query = \"How many people are affected by Attention-Deficit/Hyperactivity Disorder (ADHD)?\"\n",
        "\n",
        "messages = [{\"role\": \"system\", \"content\": prompt}]\n",
        "for example in examples:\n",
        "    messages.append({\"role\": \"user\", \"content\": example[\"question\"]})\n",
        "    messages.append({\"role\": \"assistant\", \"content\": example[\"answer\"]})\n",
        "messages.append({\"role\": \"user\", \"content\": query})\n",
        "\n",
        "\n",
        "client = openai.OpenAI()\n",
        "response = client.chat.completions.create(\n",
        "    model=\"gpt-4o-mini\",\n",
        "    messages=messages\n",
        ")\n",
        "\n",
        "print(response.choices[0].message.content.strip())"
      ]
    },
    {
      "cell_type": "code",
      "execution_count": 34,
      "metadata": {
        "colab": {
          "base_uri": "https://localhost:8080/"
        },
        "id": "mzJemnetxTDd",
        "outputId": "8157dda1-2f1d-45be-fffa-fa499b783c7f"
      },
      "outputs": [
        {
          "name": "stdout",
          "output_type": "stream",
          "text": [
            "Treatments for gastrointestinal stromal tumors (GISTs) typically include surgery, targeted therapy, and sometimes chemotherapy or radiation. Surgery is often the primary treatment and aims to remove the tumor entirely, along with some surrounding healthy tissue. Targeted therapies, such as imatinib (Gleevec), are commonly used to treat GISTs, especially those that are advanced or cannot be surgically removed, as they specifically target the cancer cells. In some cases, additional therapies like chemotherapy or radiation may be considered, but they are less common as GISTs are generally resistant to these treatments. It's essential to consult with a healthcare professional for personalized treatment options and management.\n"
          ]
        }
      ],
      "source": [
        "# Few-shot prompt with multiple examples\n",
        "prompt = \"Given a medical question, provide to the point answer in a paragraph style. If the question is ambiguous, ask clarifying questions. Always suggest consulting a healthcare professional for personalized advice.\"\n",
        "\n",
        "\n",
        "# Examples\n",
        "examples = [\n",
        "    {\"question\": \"How many people are affected by Crouzonodermoskeletal syndrome?\", \"answer\": \"Today, many different types of medicines are available to control high blood pressure. These medicines work in different ways. Some lower blood pressure by removing extra fluid and salt from your body. Others affect blood pressure by slowing down the heartbeat, or by relaxing and widening blood vessels. Often, two or more drugs work better than one. Here are the types of medicines used to treat high blood pressure. - Diuretics (water or fluid Pills) flush excess sodium from your body, which reduces the amount of fluid in your blood and helps to lower your blood pressure. Diuretics are often used with other high blood pressure medicines, sometimes in one combined pill. - Beta Blockers help your heart beat slower and with less force. As a result, your heart pumps less blood through your blood vessels, which can help to lower your blood pressure. - Angiotensin-Converting Enzyme (ACE) Inhibitors. Angiotensin-II is a hormone that narrows blood vessels, increasing blood pressure. ACE converts Angiotensin I to Angiotensin II. ACE inhibitors block this process, which stops the production of Angiotensin II, lowering blood pressure. - Angiotensin II Receptor Blockers (ARBs) block angiotensin II hormone from binding with receptors in the blood vessels. When angiotensin II is blocked, the blood vessels do not constrict or narrow, which can lower your blood pressure. - Calcium Channel Blockers keep calcium from entering the muscle cells of your heart and blood vessels. This allows blood vessels to relax, which can lower your blood pressure. - Alpha Blockers reduce nerve impulses that tighten blood vessels. This allows blood to flow more freely, causing blood pressure to go down. - Alpha-Beta Blockers reduce nerve impulses the same way alpha blockers do. However, like beta blockers, they also slow the heartbeat. As a result, blood pressure goes down. - Central Acting Agents act in the brain to decrease nerve signals that narrow blood vessels, which can lower blood pressure. - Vasodilators relax the muscles in blood vessel walls, which can lower blood pressure. Diuretics (water or fluid Pills) flush excess sodium from your body, which reduces the amount of fluid in your blood and helps to lower your blood pressure. Diuretics are often used with other high blood pressure medicines, sometimes in one combined pill. Beta Blockers help your heart beat slower and with less force. As a result, your heart pumps less blood through your blood vessels, which can help to lower your blood pressure. Angiotensin-Converting Enzyme (ACE) Inhibitors. Angiotensin-II is a hormone that narrows blood vessels, increasing blood pressure. ACE converts Angiotensin I to Angiotensin II. ACE inhibitors block this process, which stops the production of Angiotensin II, lowering blood pressure. Angiotensin II Receptor Blockers (ARBs) block angiotensin II hormone from binding with receptors in the blood vessels. When angiotensin II is blocked, the blood vessels do not constrict or narrow, which can lower your blood pressure. Calcium Channel Blockers keep calcium from entering the muscle cells of your heart and blood vessels. This allows blood vessels to relax, which can lower your blood pressure. Alpha Blockers reduce nerve impulses that tighten blood vessels. This allows blood to flow more freely, causing blood pressure to go down. Alpha-Beta Blockers reduce nerve impulses the same way alpha blockers do. However, like beta blockers, they also slow the heartbeat. As a result, blood pressure goes down. Central Acting Agents act in the brain to decrease nerve signals that narrow blood vessels, which can lower blood pressure. Vasodilators relax the muscles in blood vessel walls, which can lower blood pressure.\"},\n",
        "    {\"question\": \"How many people are affected by Cystic Fibrosis?\", \"answer\": \"Cystic Fibrosis affects about 30,000 people in the United States.\"},\n",
        "    {\"question\": \"What is the prevalence of Down syndrome?\", \"answer\": \"Down syndrome affects about 1 in 700 babies born in the United States.\"},\n",
        "    {\"question\": \"How common is autism spectrum disorder?\", \"answer\": \"Autism spectrum disorder affects approximately 1 in 54 children in the United States.\"},\n",
        "    {\"question\": \"What is the prevalence of diabetes in the United States?\", \"answer\": \"Approximately 37 million Americans have diabetes.\"}\n",
        "]\n",
        "\n",
        "# Query to test\n",
        "query = \"What are the treatments for gastrointestinal stromal tumor?\"\n",
        "\n",
        "messages = [{\"role\": \"system\", \"content\":prompt}]\n",
        "for example in examples:\n",
        "    messages.append({\"role\": \"user\", \"content\": example[\"question\"]})\n",
        "    messages.append({\"role\": \"assistant\", \"content\": example[\"answer\"]})\n",
        "messages.append({\"role\": \"user\", \"content\": query})\n",
        "\n",
        "\n",
        "client = openai.OpenAI()\n",
        "response = client.chat.completions.create(\n",
        "    model=\"gpt-4o-mini\",\n",
        "    messages=messages\n",
        ")\n",
        "\n",
        "print(response.choices[0].message.content.strip())"
      ]
    },
    {
      "cell_type": "markdown",
      "metadata": {
        "id": "TnxtdKZn0BTx"
      },
      "source": [
        "**Query :** What are the treatments for gastrointestinal stromal tumor?\n",
        "\n",
        "**Expected answer :** These resources address the diagnosis or management of gastrointestinal stromal tumor: - American Cancer Society: Treating Gastrointestinal Stromal Tumor (GIST) - Cancer.Net: Gastrointestinal Stromal Tumor--Diagnosis - Genetic Testing Registry: Gastrointestinal stromal tumor These resources from MedlinePlus offer information about the diagnosis and management of various health conditions: - Diagnostic Tests - Drug Therapy - Surgery and Rehabilitation - Genetic Counseling - Palliative Care.\n",
        "\n",
        "**Generated Answer :** Treatments for gastrointestinal stromal tumors (GISTs) typically include surgery, targeted therapy, and sometimes chemotherapy or radiation. Surgery is often the primary treatment and aims to remove the tumor entirely, along with some surrounding healthy tissue. Targeted therapies, such as imatinib (Gleevec), are commonly used to treat GISTs, especially those that are advanced or cannot be surgically removed, as they specifically target the cancer cells. In some cases, additional therapies like chemotherapy or radiation may be considered, but they are less common as GISTs are generally resistant to these treatments. It's essential to consult with a healthcare professional for personalized treatment options and management."
      ]
    },
    {
      "cell_type": "markdown",
      "metadata": {
        "id": "PCZgpuhnTYjg"
      },
      "source": [
        "# **Few Shot Evaluation Metrics**\n",
        "\n",
        "**1. Exact Match Accuracy**\n",
        "\n",
        "**2. BLEU Score**\n",
        "\n",
        "**3. Semantic Similarity**\n",
        "\n",
        "**4. Cosine Similarity**\n",
        "\n",
        "**5. Token-Level Accuracy**\n",
        "\n",
        "**6. Accuracy**\n",
        "\n",
        "**7. F1 Score**"
      ]
    },
    {
      "cell_type": "code",
      "execution_count": 56,
      "metadata": {
        "colab": {
          "base_uri": "https://localhost:8080/"
        },
        "id": "Ys6QXemt0ZmD",
        "outputId": "748db498-4227-46f1-d6ec-a9e2dff5ba31"
      },
      "outputs": [
        {
          "name": "stdout",
          "output_type": "stream",
          "text": [
            "Query: What are the treatments for gastrointestinal stromal tumor?\n",
            "Exact Match Accuracy: 0\n",
            "BLEU Score: 0.01\n",
            "Semantic Similarity: 0.66\n",
            "Cosine Similarity: 0.66\n",
            "Token-Level Accuracy: 0.16\n",
            "Accuracy: 0.06\n",
            "F1 Score: 0.11\n"
          ]
        }
      ],
      "source": [
        "\n",
        "\n",
        "# Few-shot prompt example\n",
        "query = \"What are the treatments for gastrointestinal stromal tumor?\"\n",
        "\n",
        "expected_answer = (\"These resources address the diagnosis or management of gastrointestinal stromal tumor: - American Cancer Society: Treating Gastrointestinal Stromal Tumor (GIST) - Cancer.Net: Gastrointestinal Stromal Tumor--Diagnosis - Genetic Testing Registry: Gastrointestinal stromal tumor These resources from MedlinePlus offer information about the diagnosis and management of various health conditions: - Diagnostic Tests - Drug Therapy - Surgery and Rehabilitation - Genetic Counseling - Palliative Care.\")\n",
        "\n",
        "\n",
        "generated_answer = (\"Treatments for gastrointestinal stromal tumors (GISTs) typically include surgery, targeted therapy, and sometimes chemotherapy or radiation. Surgery is often the primary treatment and aims to remove the tumor entirely, along with some surrounding healthy tissue. Targeted therapies, such as imatinib (Gleevec), are commonly used to treat GISTs, especially those that are advanced or cannot be surgically removed, as they specifically target the cancer cells. In some cases, additional therapies like chemotherapy or radiation may be considered, but they are less common as GISTs are generally resistant to these treatments. It's essential to consult with a healthcare professional for personalized treatment options and management.\")\n",
        "\n",
        "# Initialize Sentence Transformer model for embeddings\n",
        "model = SentenceTransformer('all-MiniLM-L6-v2')\n",
        "\n",
        "# Define evaluation functions\n",
        "def calculate_exact_match(expected, generated):\n",
        "    return int(expected.strip().lower() == generated.strip().lower())\n",
        "\n",
        "def calculate_bleu(expected, generated):\n",
        "    expected_tokens = expected.split()\n",
        "    generated_tokens = generated.split()\n",
        "    smoothing_function = SmoothingFunction().method1\n",
        "    return sentence_bleu([expected_tokens], generated_tokens, smoothing_function=smoothing_function)\n",
        "\n",
        "def calculate_semantic_similarity(expected, generated):\n",
        "    embeddings = model.encode([expected, generated])\n",
        "    return cosine_similarity([embeddings[0]], [embeddings[1]])[0][0]\n",
        "\n",
        "def calculate_cosine_similarity(expected, generated):\n",
        "    embeddings = model.encode([expected, generated])\n",
        "    return cosine_similarity([embeddings[0]], [embeddings[1]])[0][0]\n",
        "\n",
        "def calculate_token_level_accuracy(expected, generated):\n",
        "    expected_tokens = set(expected.split())\n",
        "    generated_tokens = set(generated.split())\n",
        "    overlap = expected_tokens & generated_tokens\n",
        "    return len(overlap) / len(expected_tokens)\n",
        "\n",
        "def calculate_accuracy_f1(expected, generated):\n",
        "    # Create sets for expected and generated tokens\n",
        "    expected_tokens = set(expected.split())\n",
        "    generated_tokens = set(generated.split())\n",
        "\n",
        "    # Create binary vectors for accuracy and F1 score calculation\n",
        "    all_tokens = expected_tokens | generated_tokens\n",
        "    expected_vector = [1 if token in expected_tokens else 0 for token in all_tokens]\n",
        "    generated_vector = [1 if token in generated_tokens else 0 for token in all_tokens]\n",
        "\n",
        "    accuracy = accuracy_score(expected_vector, generated_vector)\n",
        "    f1 = f1_score(expected_vector, generated_vector, zero_division=1)\n",
        "    return accuracy, f1\n",
        "\n",
        "# Evaluate metrics\n",
        "exact_match = calculate_exact_match(expected_answer, generated_answer)\n",
        "bleu_score = calculate_bleu(expected_answer, generated_answer)\n",
        "semantic_similarity = calculate_semantic_similarity(expected_answer, generated_answer)\n",
        "cosine_similarity = calculate_cosine_similarity(expected_answer, generated_answer)\n",
        "token_level_accuracy = calculate_token_level_accuracy(expected_answer, generated_answer)\n",
        "\n",
        "# Accuracy and F1 Score\n",
        "accuracy, f1 = calculate_accuracy_f1(expected_answer, generated_answer)\n",
        "\n",
        "# Print results\n",
        "print(f\"Query: {query}\")\n",
        "print(f\"Exact Match Accuracy: {exact_match}\")\n",
        "print(f\"BLEU Score: {bleu_score:.2f}\")\n",
        "print(f\"Semantic Similarity: {semantic_similarity:.2f}\")\n",
        "print(f\"Cosine Similarity: {cosine_similarity:.2f}\")\n",
        "print(f\"Token-Level Accuracy: {token_level_accuracy:.2f}\")\n",
        "print(f\"Accuracy: {accuracy:.2f}\")\n",
        "print(f\"F1 Score: {f1:.2f}\")\n",
        "\n"
      ]
    },
    {
      "cell_type": "markdown",
      "metadata": {
        "id": "7sK936g33J6U"
      },
      "source": [
        "**Testing with a question from the 1000 sample dataset**"
      ]
    },
    {
      "cell_type": "code",
      "execution_count": 61,
      "metadata": {
        "colab": {
          "base_uri": "https://localhost:8080/"
        },
        "id": "g3bKVgBl1nkP",
        "outputId": "493e5870-c95d-4609-cb85-abe8d1e82a0b"
      },
      "outputs": [
        {
          "name": "stdout",
          "output_type": "stream",
          "text": [
            "Yersiniosis is an infection caused by the bacteria Yersinia enterocolitica, which can lead to gastrointestinal symptoms such as diarrhea (often bloody), abdominal pain, fever, and sometimes nausea and vomiting. It is typically transmitted through contaminated food, especially undercooked pork, or through unpasteurized milk and contaminated water. In some cases, it can also cause a more severe illness resembling appendicitis, known as appendicitis-like syndrome. If you suspect an infection or experience severe symptoms, it is important to consult a healthcare professional for proper diagnosis and treatment.\n"
          ]
        }
      ],
      "source": [
        "# Few-shot prompt with multiple examples\n",
        "prompt = \"Given a medical question, provide informative answer in a paragraph style. If the question is ambiguous, ask clarifying questions. Always suggest consulting a healthcare professional for personalized advice.\"\n",
        "\n",
        "# Examples\n",
        "examples = [\n",
        "    {\"question\": \"What are the treatments for High Blood Pressure?\", \"answer\": \"Treatment includes lifestyle changes such as a healthy diet, regular exercise, and medications like ACE inhibitors, beta-blockers, or diuretics.\"},\n",
        "    {\"question\": \"What are the treatments for 21-hydroxylase deficiency?\", \"answer\": \"The objectives for treating 21-hydroxylase deficiency differ with age. In childhood, the goal is to replace cortisol, monitor growth, and balance hormones. In adulthood, multidisciplinary care and counseling are critical for addressing fertility, psychological, and hormonal concerns.\"},\n",
        "    {\"question\": \"How many people are affected by glutaric acidemia type I?\", \"answer\": \"Glutaric acidemia type I occurs in approximately 1 in every 30,000 to 40,000 individuals. It is more common in specific populations, such as the Amish and Ojibwa communities.\"},\n",
        "    {\"question\": \"How is HPS diagnosed and treated for Hantavirus?\", \"answer\": \"Diagnosing HPS involves evaluating symptoms like fever, fatigue, and respiratory issues, often linked to rodent exposure. Treatment includes intensive care with oxygen therapy to manage respiratory distress.\"},\n",
        "    {\"question\": \"What is the prevalence of diabetes in the United States?\", \"answer\": \"Approximately 37 million Americans have diabetes.\"},\n",
        "    {\"question\": \"What are the symptoms of Microscopic Colitis?\", \"answer\": \"Symptoms include chronic, watery, nonbloody diarrhea, abdominal pain, urgency, and weight loss. Symptoms may come and go and often improve without treatment.\"}\n",
        "]\n",
        "\n",
        "# Query to test\n",
        "query = \"what is yersiniosis for Yersinia ?\"\n",
        "\n",
        "messages = [{\"role\": \"system\", \"content\": prompt}]\n",
        "for example in examples:\n",
        "    messages.append({\"role\": \"user\", \"content\": example[\"question\"]})\n",
        "    messages.append({\"role\": \"assistant\", \"content\": example[\"answer\"]})\n",
        "messages.append({\"role\": \"user\", \"content\": query})\n",
        "\n",
        "\n",
        "client = openai.OpenAI()\n",
        "response = client.chat.completions.create(\n",
        "    model=\"gpt-4o-mini\",\n",
        "    messages=messages\n",
        ")\n",
        "\n",
        "print(response.choices[0].message.content.strip())"
      ]
    },
    {
      "cell_type": "markdown",
      "metadata": {
        "id": "tmW5rjzo2JCJ"
      },
      "source": [
        "**Dataset Query** : what is yersiniosis for Yersinia ?\n",
        "\n",
        "**Expected Answer** : Yersiniosis is an infectious disease caused by a bacterium of the genus Yersinia. In the United States, most human illness is caused by one species, Y. enterocolitica. Infection with Y. enterocolitica can cause a variety of symptoms depending on the age of the person infected. Infection with Y. enterocolitica occurs most often in young children. Common symptoms in children are fever, abdominal pain, and diarrhea, which is often bloody. Symptoms typically develop 4 to 7 days after exposure and may last 1 to 3 weeks or longer. In older children and adults, right-sided abdominal pain and fever may be the predominant symptoms, and may be confused with appendicitis. In a small proportion of cases, complications such as skin rash, joint pains, or spread of bacteria to the bloodstream can occur.\n",
        "\n",
        "**Generated Answer** :Yersiniosis is an infectious disease caused by the bacterium Yersinia enterocolitica, primarily affecting the gastrointestinal system. It typically presents with symptoms such as diarrhea (which can be bloody), abdominal pain, fever, and sometimes nausea and vomiting. The infection can be contracted through consuming contaminated food, particularly undercooked pork, unpasteurized milk, or contaminated water. In some cases, especially in children, yersiniosis can mimic appendicitis due to abdominal symptoms. If you suspect you have yersiniosis or have any concerns about foodborne illnesses, it is essential to consult a healthcare professional for diagnosis and appropriate treatment."
      ]
    },
    {
      "cell_type": "markdown",
      "metadata": {
        "id": "PmE6OtILSTmM"
      },
      "source": [
        "### **Evaluation 2**"
      ]
    },
    {
      "cell_type": "code",
      "execution_count": 62,
      "metadata": {
        "colab": {
          "base_uri": "https://localhost:8080/"
        },
        "id": "NiTuvy892x7G",
        "outputId": "9ed633b9-2533-4cac-cc72-0be4fe28366a"
      },
      "outputs": [
        {
          "name": "stdout",
          "output_type": "stream",
          "text": [
            "Query: what is yersiniosis for Yersinia ?\n",
            "Exact Match Accuracy: 0\n",
            "BLEU Score: 0.06\n",
            "Semantic Similarity: 0.88\n",
            "Cosine Similarity: 0.88\n",
            "Token-Level Accuracy: 0.29\n",
            "Accuracy: 0.18\n",
            "F1 Score: 0.31\n"
          ]
        }
      ],
      "source": [
        "\n",
        "\n",
        "\n",
        "# Few-shot prompt example\n",
        "query = \"what is yersiniosis for Yersinia ?\"\n",
        "\n",
        "expected_answer = (\"Yersiniosis is an infectious disease caused by a bacterium of the genus Yersinia. In the United States, most human illness is caused by one species, Y. enterocolitica. Infection with Y. enterocolitica can cause a variety of symptoms depending on the age of the person infected. Infection with Y. enterocolitica occurs most often in young children. Common symptoms in children are fever, abdominal pain, and diarrhea, which is often bloody. Symptoms typically develop 4 to 7 days after exposure and may last 1 to 3 weeks or longer. In older children and adults, right-sided abdominal pain and fever may be the predominant symptoms, and may be confused with appendicitis. In a small proportion of cases, complications such as skin rash, joint pains, or spread of bacteria to the bloodstream can occur.\")\n",
        "generated_answer = (\"Yersiniosis is an infectious disease caused by the bacterium Yersinia enterocolitica, primarily affecting the gastrointestinal system. It typically presents with symptoms such as diarrhea (which can be bloody), abdominal pain, fever, and sometimes nausea and vomiting. The infection can be contracted through consuming contaminated food, particularly undercooked pork, unpasteurized milk, or contaminated water. In some cases, especially in children, yersiniosis can mimic appendicitis due to abdominal symptoms. If you suspect you have yersiniosis or have any concerns about foodborne illnesses, it is essential to consult a healthcare professional for diagnosis and appropriate treatment.\")\n",
        "# Initialize Sentence Transformer model for embeddings\n",
        "model = SentenceTransformer('all-MiniLM-L6-v2')\n",
        "\n",
        "# Define evaluation functions\n",
        "def calculate_exact_match(expected, generated):\n",
        "    return int(expected.strip().lower() == generated.strip().lower())\n",
        "\n",
        "def calculate_bleu(expected, generated):\n",
        "    expected_tokens = expected.split()\n",
        "    generated_tokens = generated.split()\n",
        "    smoothing_function = SmoothingFunction().method1\n",
        "    return sentence_bleu([expected_tokens], generated_tokens, smoothing_function=smoothing_function)\n",
        "\n",
        "def calculate_semantic_similarity(expected, generated):\n",
        "    embeddings = model.encode([expected, generated])\n",
        "    return cosine_similarity([embeddings[0]], [embeddings[1]])[0][0]\n",
        "\n",
        "def calculate_cosine_similarity(expected, generated):\n",
        "    # Similar to semantic similarity but added explicitly for clarification\n",
        "    embeddings = model.encode([expected, generated])\n",
        "    return cosine_similarity([embeddings[0]], [embeddings[1]])[0][0]\n",
        "\n",
        "def calculate_token_level_accuracy(expected, generated):\n",
        "    expected_tokens = set(expected.split())\n",
        "    generated_tokens = set(generated.split())\n",
        "    overlap = expected_tokens & generated_tokens\n",
        "    return len(overlap) / len(expected_tokens)\n",
        "\n",
        "def calculate_accuracy_f1(expected, generated):\n",
        "    # Create sets for expected and generated tokens\n",
        "    expected_tokens = set(expected.split())\n",
        "    generated_tokens = set(generated.split())\n",
        "\n",
        "    # Create binary vectors for accuracy and F1 score calculation\n",
        "    all_tokens = expected_tokens | generated_tokens\n",
        "    expected_vector = [1 if token in expected_tokens else 0 for token in all_tokens]\n",
        "    generated_vector = [1 if token in generated_tokens else 0 for token in all_tokens]\n",
        "\n",
        "    accuracy = accuracy_score(expected_vector, generated_vector)\n",
        "    f1 = f1_score(expected_vector, generated_vector, zero_division=1)\n",
        "    return accuracy, f1\n",
        "\n",
        "# Evaluate metrics\n",
        "exact_match = calculate_exact_match(expected_answer, generated_answer)\n",
        "bleu_score = calculate_bleu(expected_answer, generated_answer)\n",
        "semantic_similarity = calculate_semantic_similarity(expected_answer, generated_answer)\n",
        "cosine_similarity_score = calculate_cosine_similarity(expected_answer, generated_answer)\n",
        "token_level_accuracy = calculate_token_level_accuracy(expected_answer, generated_answer)\n",
        "\n",
        "# Accuracy and F1 Score\n",
        "accuracy, f1 = calculate_accuracy_f1(expected_answer, generated_answer)\n",
        "\n",
        "# Print results\n",
        "print(f\"Query: {query}\")\n",
        "print(f\"Exact Match Accuracy: {exact_match}\")\n",
        "print(f\"BLEU Score: {bleu_score:.2f}\")\n",
        "print(f\"Semantic Similarity: {semantic_similarity:.2f}\")\n",
        "print(f\"Cosine Similarity: {cosine_similarity_score:.2f}\")\n",
        "print(f\"Token-Level Accuracy: {token_level_accuracy:.2f}\")\n",
        "print(f\"Accuracy: {accuracy:.2f}\")\n",
        "print(f\"F1 Score: {f1:.2f}\")\n",
        "\n"
      ]
    },
    {
      "cell_type": "markdown",
      "metadata": {
        "id": "UTElar5DgwcR"
      },
      "source": [
        "**Test : Different system prompt, same question**"
      ]
    },
    {
      "cell_type": "code",
      "execution_count": 64,
      "metadata": {
        "colab": {
          "base_uri": "https://localhost:8080/"
        },
        "id": "4gx3OkPdgPHA",
        "outputId": "70203814-dbc9-407a-be2c-43af1fe01d2c"
      },
      "outputs": [
        {
          "name": "stdout",
          "output_type": "stream",
          "text": [
            "Yersiniosis is an infection caused by the bacterium Yersinia enterocolitica, typically associated with consuming contaminated food or water. Symptoms often include diarrhea (which can be bloody), abdominal pain, fever, and can mimic appendicitis. In some cases, it may lead to more severe complications, especially in individuals with weakened immune systems. Most infections resolve on their own, but severe cases may require antibiotics. If you suspect you have yersiniosis, it’s important to consult a healthcare provider.\n"
          ]
        }
      ],
      "source": [
        "# Few-shot prompt with multiple examples\n",
        "prompt = \"You are a knowledgeable and empathetic virtual medical assistant trained to provide accurate, concise, and evidence-based responses to medical queries. Your primary goal is to assist users with their health-related questions, guide them toward better understanding of medical conditions, and suggest actions they may take based on their concerns. Always advise the user that the information is not a substitute for professional medical advice. Avoid providing definitive diagnoses or treatment plans and encourage users to consult a licensed healthcare provider for personalized care.\"\n",
        "\n",
        "# Examples\n",
        "examples = [\n",
        "    {\"question\": \"What are the treatments for High Blood Pressure?\", \"answer\": \"Treatment includes lifestyle changes such as a healthy diet, regular exercise, and medications like ACE inhibitors, beta-blockers, or diuretics.\"},\n",
        "    {\"question\": \"What are the treatments for 21-hydroxylase deficiency?\", \"answer\": \"The objectives for treating 21-hydroxylase deficiency differ with age. In childhood, the goal is to replace cortisol, monitor growth, and balance hormones. In adulthood, multidisciplinary care and counseling are critical for addressing fertility, psychological, and hormonal concerns.\"},\n",
        "    {\"question\": \"How many people are affected by glutaric acidemia type I?\", \"answer\": \"Glutaric acidemia type I occurs in approximately 1 in every 30,000 to 40,000 individuals. It is more common in specific populations, such as the Amish and Ojibwa communities.\"},\n",
        "    {\"question\": \"How is HPS diagnosed and treated for Hantavirus?\", \"answer\": \"Diagnosing HPS involves evaluating symptoms like fever, fatigue, and respiratory issues, often linked to rodent exposure. Treatment includes intensive care with oxygen therapy to manage respiratory distress.\"},\n",
        "    {\"question\": \"What is the prevalence of diabetes in the United States?\", \"answer\": \"Approximately 37 million Americans have diabetes.\"},\n",
        "    {\"question\": \"What are the symptoms of Microscopic Colitis?\", \"answer\": \"Symptoms include chronic, watery, nonbloody diarrhea, abdominal pain, urgency, and weight loss. Symptoms may come and go and often improve without treatment.\"}\n",
        "]\n",
        "\n",
        "# Query to test\n",
        "query = \"what is yersiniosis for Yersinia ?\"\n",
        "\n",
        "messages = [{\"role\": \"system\", \"content\": prompt}]\n",
        "for example in examples:\n",
        "    messages.append({\"role\": \"user\", \"content\": example[\"question\"]})\n",
        "    messages.append({\"role\": \"assistant\", \"content\": example[\"answer\"]})\n",
        "messages.append({\"role\": \"user\", \"content\": query})\n",
        "\n",
        "\n",
        "client = openai.OpenAI()\n",
        "response = client.chat.completions.create(\n",
        "    model=\"gpt-4o-mini\",\n",
        "    messages=messages\n",
        ")\n",
        "\n",
        "print(response.choices[0].message.content.strip())"
      ]
    },
    {
      "cell_type": "code",
      "execution_count": 65,
      "metadata": {
        "colab": {
          "base_uri": "https://localhost:8080/"
        },
        "id": "jKYKce5Mg46G",
        "outputId": "697b068d-37d3-4acf-f1a2-9b5b473feb98"
      },
      "outputs": [
        {
          "name": "stdout",
          "output_type": "stream",
          "text": [
            "Query: what is yersiniosis for Yersinia ?\n",
            "Exact Match Accuracy: 0\n",
            "BLEU Score: 0.01\n",
            "Semantic Similarity: 0.89\n",
            "Cosine Similarity: 0.89\n",
            "Token-Level Accuracy: 0.29\n",
            "Accuracy: 0.20\n",
            "F1 Score: 0.33\n"
          ]
        }
      ],
      "source": [
        "\n",
        "\n",
        "\n",
        "# Few-shot prompt example\n",
        "query = \"what is yersiniosis for Yersinia ?\"\n",
        "\n",
        "expected_answer = (\"Yersiniosis is an infectious disease caused by a bacterium of the genus Yersinia. In the United States, most human illness is caused by one species, Y. enterocolitica. Infection with Y. enterocolitica can cause a variety of symptoms depending on the age of the person infected. Infection with Y. enterocolitica occurs most often in young children. Common symptoms in children are fever, abdominal pain, and diarrhea, which is often bloody. Symptoms typically develop 4 to 7 days after exposure and may last 1 to 3 weeks or longer. In older children and adults, right-sided abdominal pain and fever may be the predominant symptoms, and may be confused with appendicitis. In a small proportion of cases, complications such as skin rash, joint pains, or spread of bacteria to the bloodstream can occur.\")\n",
        "generated_answer = (\"Yersiniosis is an infection caused by the bacterium Yersinia enterocolitica, typically associated with consuming contaminated food or water. Symptoms often include diarrhea (which can be bloody), abdominal pain, fever, and can mimic appendicitis. In some cases, it may lead to more severe complications, especially in individuals with weakened immune systems. Most infections resolve on their own, but severe cases may require antibiotics. If you suspect you have yersiniosis, it’s important to consult a healthcare provider.\")\n",
        "# Initialize Sentence Transformer model for embeddings\n",
        "model = SentenceTransformer('all-MiniLM-L6-v2')\n",
        "\n",
        "# Define evaluation functions\n",
        "def calculate_exact_match(expected, generated):\n",
        "    return int(expected.strip().lower() == generated.strip().lower())\n",
        "\n",
        "def calculate_bleu(expected, generated):\n",
        "    expected_tokens = expected.split()\n",
        "    generated_tokens = generated.split()\n",
        "    smoothing_function = SmoothingFunction().method1\n",
        "    return sentence_bleu([expected_tokens], generated_tokens, smoothing_function=smoothing_function)\n",
        "\n",
        "def calculate_semantic_similarity(expected, generated):\n",
        "    embeddings = model.encode([expected, generated])\n",
        "    return cosine_similarity([embeddings[0]], [embeddings[1]])[0][0]\n",
        "\n",
        "def calculate_cosine_similarity(expected, generated):\n",
        "    # Similar to semantic similarity but added explicitly for clarification\n",
        "    embeddings = model.encode([expected, generated])\n",
        "    return cosine_similarity([embeddings[0]], [embeddings[1]])[0][0]\n",
        "\n",
        "def calculate_token_level_accuracy(expected, generated):\n",
        "    expected_tokens = set(expected.split())\n",
        "    generated_tokens = set(generated.split())\n",
        "    overlap = expected_tokens & generated_tokens\n",
        "    return len(overlap) / len(expected_tokens)\n",
        "\n",
        "def calculate_accuracy_f1(expected, generated):\n",
        "    # Create sets for expected and generated tokens\n",
        "    expected_tokens = set(expected.split())\n",
        "    generated_tokens = set(generated.split())\n",
        "\n",
        "    # Create binary vectors for accuracy and F1 score calculation\n",
        "    all_tokens = expected_tokens | generated_tokens\n",
        "    expected_vector = [1 if token in expected_tokens else 0 for token in all_tokens]\n",
        "    generated_vector = [1 if token in generated_tokens else 0 for token in all_tokens]\n",
        "\n",
        "    accuracy = accuracy_score(expected_vector, generated_vector)\n",
        "    f1 = f1_score(expected_vector, generated_vector, zero_division=1)\n",
        "    return accuracy, f1\n",
        "\n",
        "# Evaluate metrics\n",
        "exact_match = calculate_exact_match(expected_answer, generated_answer)\n",
        "bleu_score = calculate_bleu(expected_answer, generated_answer)\n",
        "semantic_similarity = calculate_semantic_similarity(expected_answer, generated_answer)\n",
        "cosine_similarity_score = calculate_cosine_similarity(expected_answer, generated_answer)\n",
        "token_level_accuracy = calculate_token_level_accuracy(expected_answer, generated_answer)\n",
        "\n",
        "# Accuracy and F1 Score\n",
        "accuracy, f1 = calculate_accuracy_f1(expected_answer, generated_answer)\n",
        "\n",
        "# Print results\n",
        "print(f\"Query: {query}\")\n",
        "print(f\"Exact Match Accuracy: {exact_match}\")\n",
        "print(f\"BLEU Score: {bleu_score:.2f}\")\n",
        "print(f\"Semantic Similarity: {semantic_similarity:.2f}\")\n",
        "print(f\"Cosine Similarity: {cosine_similarity_score:.2f}\")\n",
        "print(f\"Token-Level Accuracy: {token_level_accuracy:.2f}\")\n",
        "print(f\"Accuracy: {accuracy:.2f}\")\n",
        "print(f\"F1 Score: {f1:.2f}\")\n",
        "\n"
      ]
    },
    {
      "cell_type": "markdown",
      "metadata": {
        "id": "Pp5Go4pKhIYm"
      },
      "source": [
        "**We see that by changing syatem prompt, the model is able to generate better response to the same question, evident from the scores**"
      ]
    },
    {
      "cell_type": "markdown",
      "metadata": {
        "id": "Tcse98283awM"
      },
      "source": [
        "# **4. FINE TUNING**"
      ]
    },
    {
      "cell_type": "markdown",
      "metadata": {
        "id": "Id4OtG3W4DyZ"
      },
      "source": [
        "### >> **1. Uploading Training and Validation Files**\n",
        "\n",
        "\n",
        "\n"
      ]
    },
    {
      "cell_type": "code",
      "execution_count": 38,
      "metadata": {
        "colab": {
          "base_uri": "https://localhost:8080/"
        },
        "id": "80pEVzsG38vS",
        "outputId": "41ac3272-2368-4d3e-8866-17cc499c71f0"
      },
      "outputs": [
        {
          "name": "stdout",
          "output_type": "stream",
          "text": [
            "Training file Info: FileObject(id='file-Tahhf3TtrR71ML6a96Jniu', bytes=1657237, created_at=1734325982, filename='train_data.jsonl', object='file', purpose='fine-tune', status='processed', status_details=None)\n",
            "Validation file Info: FileObject(id='file-PNkGFYmHEkYUjdRap95EKX', bytes=228176, created_at=1734325983, filename='validation_data.jsonl', object='file', purpose='fine-tune', status='processed', status_details=None)\n"
          ]
        }
      ],
      "source": [
        "train_file = client.files.create(\n",
        "  file=open(\"train_data.jsonl\", \"rb\"),  # Path to training file\n",
        "  purpose=\"fine-tune\"\n",
        ")\n",
        "\n",
        "valid_file = client.files.create(\n",
        "  file=open(\"validation_data.jsonl\", \"rb\"),  # Path to validation file\n",
        "  purpose=\"fine-tune\"\n",
        ")\n",
        "\n",
        "print(f\"Training file Info: {train_file}\")\n",
        "print(f\"Validation file Info: {valid_file}\")"
      ]
    },
    {
      "cell_type": "markdown",
      "metadata": {
        "id": "mUb7rG6O4qoL"
      },
      "source": [
        "### >> **2. Starting the fine-tuning job**"
      ]
    },
    {
      "cell_type": "code",
      "execution_count": 39,
      "metadata": {
        "colab": {
          "base_uri": "https://localhost:8080/"
        },
        "id": "7p2ldD7V4wPx",
        "outputId": "c660cda1-9bdb-4d7d-ab81-9aa4931b2a58"
      },
      "outputs": [
        {
          "name": "stdout",
          "output_type": "stream",
          "text": [
            "Fine-tuning job created with ID: ftjob-vFBj6htF6bDMzxHzpu33EsS5\n",
            "Fine-tuning job details: FineTuningJob(id='ftjob-vFBj6htF6bDMzxHzpu33EsS5', created_at=1734326327, error=Error(code=None, message=None, param=None), fine_tuned_model=None, finished_at=None, hyperparameters=Hyperparameters(n_epochs=3, batch_size=8, learning_rate_multiplier=0.1), model='gpt-4o-mini-2024-07-18', object='fine_tuning.job', organization_id='org-MpPFT9E8Ldg7PXAH8rdeEL75', result_files=[], seed=1536051044, status='validating_files', trained_tokens=None, training_file='file-Tahhf3TtrR71ML6a96Jniu', validation_file='file-PNkGFYmHEkYUjdRap95EKX', estimated_finish=None, integrations=[], user_provided_suffix=None)\n",
            "Fine-tuning job status: validating_files\n"
          ]
        }
      ],
      "source": [
        "# Create the fine-tuning job\n",
        "fine_tuning_job = client.fine_tuning.jobs.create(\n",
        "  training_file=train_file.id,\n",
        "  validation_file=valid_file.id,\n",
        "  model=\"gpt-4o-mini-2024-07-18\",  # The model to be used\n",
        "  hyperparameters={\n",
        "    \"n_epochs\": 3,\n",
        "    \"batch_size\": 8,\n",
        "    \"learning_rate_multiplier\": 0.1\n",
        "  }\n",
        ")\n",
        "\n",
        "# Get the job ID and status\n",
        "job_id = fine_tuning_job.id\n",
        "status = fine_tuning_job.status\n",
        "\n",
        "# Print details\n",
        "print(f'Fine-tuning job created with ID: {job_id}')\n",
        "print(f\"Fine-tuning job details: {fine_tuning_job}\")\n",
        "print(f\"Fine-tuning job status: {status}\")"
      ]
    },
    {
      "cell_type": "markdown",
      "metadata": {
        "id": "xF1wWdO9Tl_S"
      },
      "source": [
        "## >> **3. Monitor the job**"
      ]
    },
    {
      "cell_type": "code",
      "execution_count": 40,
      "metadata": {
        "colab": {
          "base_uri": "https://localhost:8080/"
        },
        "id": "eobOkBV55_9k",
        "outputId": "2737b892-5c58-4cdd-d272-b14759fef7f2"
      },
      "outputs": [
        {
          "name": "stdout",
          "output_type": "stream",
          "text": [
            "Job ID: ftjob-vFBj6htF6bDMzxHzpu33EsS5, Status: running\n",
            "  Event: Fine-tuning job started\n",
            "  Event: Files validated, moving job to queued state\n",
            "  Event: Validating training file: file-Tahhf3TtrR71ML6a96Jniu and validation file: file-PNkGFYmHEkYUjdRap95EKX\n",
            "  Event: Created fine-tuning job: ftjob-vFBj6htF6bDMzxHzpu33EsS5\n",
            "Job ID: ftjob-vFBj6htF6bDMzxHzpu33EsS5, Status: running\n",
            "  Event: Fine-tuning job started\n",
            "  Event: Files validated, moving job to queued state\n",
            "  Event: Validating training file: file-Tahhf3TtrR71ML6a96Jniu and validation file: file-PNkGFYmHEkYUjdRap95EKX\n",
            "  Event: Created fine-tuning job: ftjob-vFBj6htF6bDMzxHzpu33EsS5\n",
            "Job ID: ftjob-vFBj6htF6bDMzxHzpu33EsS5, Status: running\n",
            "  Event: Fine-tuning job started\n",
            "  Event: Files validated, moving job to queued state\n",
            "  Event: Validating training file: file-Tahhf3TtrR71ML6a96Jniu and validation file: file-PNkGFYmHEkYUjdRap95EKX\n",
            "  Event: Created fine-tuning job: ftjob-vFBj6htF6bDMzxHzpu33EsS5\n",
            "Job ID: ftjob-vFBj6htF6bDMzxHzpu33EsS5, Status: running\n",
            "  Event: Step 6/300: training loss=1.51\n",
            "  Event: Step 5/300: training loss=2.00\n",
            "  Event: Step 4/300: training loss=2.00\n",
            "  Event: Step 3/300: training loss=1.63\n",
            "  Event: Step 2/300: training loss=1.25\n",
            "Job ID: ftjob-vFBj6htF6bDMzxHzpu33EsS5, Status: running\n",
            "  Event: Step 6/300: training loss=1.51\n",
            "  Event: Step 5/300: training loss=2.00\n",
            "  Event: Step 4/300: training loss=2.00\n",
            "  Event: Step 3/300: training loss=1.63\n",
            "  Event: Step 2/300: training loss=1.25\n",
            "Job ID: ftjob-vFBj6htF6bDMzxHzpu33EsS5, Status: running\n",
            "  Event: Step 6/300: training loss=1.51\n",
            "  Event: Step 5/300: training loss=2.00\n",
            "  Event: Step 4/300: training loss=2.00\n",
            "  Event: Step 3/300: training loss=1.63\n",
            "  Event: Step 2/300: training loss=1.25\n",
            "Job ID: ftjob-vFBj6htF6bDMzxHzpu33EsS5, Status: running\n",
            "  Event: Step 6/300: training loss=1.51\n",
            "  Event: Step 5/300: training loss=2.00\n",
            "  Event: Step 4/300: training loss=2.00\n",
            "  Event: Step 3/300: training loss=1.63\n",
            "  Event: Step 2/300: training loss=1.25\n",
            "Job ID: ftjob-vFBj6htF6bDMzxHzpu33EsS5, Status: running\n",
            "  Event: Step 6/300: training loss=1.51\n",
            "  Event: Step 5/300: training loss=2.00\n",
            "  Event: Step 4/300: training loss=2.00\n",
            "  Event: Step 3/300: training loss=1.63\n",
            "  Event: Step 2/300: training loss=1.25\n",
            "Job ID: ftjob-vFBj6htF6bDMzxHzpu33EsS5, Status: running\n",
            "  Event: Step 6/300: training loss=1.51\n",
            "  Event: Step 5/300: training loss=2.00\n",
            "  Event: Step 4/300: training loss=2.00\n",
            "  Event: Step 3/300: training loss=1.63\n",
            "  Event: Step 2/300: training loss=1.25\n",
            "Job ID: ftjob-vFBj6htF6bDMzxHzpu33EsS5, Status: running\n",
            "  Event: Step 6/300: training loss=1.51\n",
            "  Event: Step 5/300: training loss=2.00\n",
            "  Event: Step 4/300: training loss=2.00\n",
            "  Event: Step 3/300: training loss=1.63\n",
            "  Event: Step 2/300: training loss=1.25\n",
            "Job ID: ftjob-vFBj6htF6bDMzxHzpu33EsS5, Status: running\n",
            "  Event: Step 6/300: training loss=1.51\n",
            "  Event: Step 5/300: training loss=2.00\n",
            "  Event: Step 4/300: training loss=2.00\n",
            "  Event: Step 3/300: training loss=1.63\n",
            "  Event: Step 2/300: training loss=1.25\n",
            "Job ID: ftjob-vFBj6htF6bDMzxHzpu33EsS5, Status: running\n",
            "  Event: Step 6/300: training loss=1.51\n",
            "  Event: Step 5/300: training loss=2.00\n",
            "  Event: Step 4/300: training loss=2.00\n",
            "  Event: Step 3/300: training loss=1.63\n",
            "  Event: Step 2/300: training loss=1.25\n",
            "Job ID: ftjob-vFBj6htF6bDMzxHzpu33EsS5, Status: running\n",
            "  Event: Step 6/300: training loss=1.51\n",
            "  Event: Step 5/300: training loss=2.00\n",
            "  Event: Step 4/300: training loss=2.00\n",
            "  Event: Step 3/300: training loss=1.63\n",
            "  Event: Step 2/300: training loss=1.25\n",
            "Job ID: ftjob-vFBj6htF6bDMzxHzpu33EsS5, Status: running\n",
            "  Event: Step 6/300: training loss=1.51\n",
            "  Event: Step 5/300: training loss=2.00\n",
            "  Event: Step 4/300: training loss=2.00\n",
            "  Event: Step 3/300: training loss=1.63\n",
            "  Event: Step 2/300: training loss=1.25\n",
            "Job ID: ftjob-vFBj6htF6bDMzxHzpu33EsS5, Status: running\n",
            "  Event: Step 6/300: training loss=1.51\n",
            "  Event: Step 5/300: training loss=2.00\n",
            "  Event: Step 4/300: training loss=2.00\n",
            "  Event: Step 3/300: training loss=1.63\n",
            "  Event: Step 2/300: training loss=1.25\n",
            "Job ID: ftjob-vFBj6htF6bDMzxHzpu33EsS5, Status: running\n",
            "  Event: Step 6/300: training loss=1.51\n",
            "  Event: Step 5/300: training loss=2.00\n",
            "  Event: Step 4/300: training loss=2.00\n",
            "  Event: Step 3/300: training loss=1.63\n",
            "  Event: Step 2/300: training loss=1.25\n",
            "Job ID: ftjob-vFBj6htF6bDMzxHzpu33EsS5, Status: running\n",
            "  Event: Step 6/300: training loss=1.51\n",
            "  Event: Step 5/300: training loss=2.00\n",
            "  Event: Step 4/300: training loss=2.00\n",
            "  Event: Step 3/300: training loss=1.63\n",
            "  Event: Step 2/300: training loss=1.25\n",
            "Job ID: ftjob-vFBj6htF6bDMzxHzpu33EsS5, Status: running\n",
            "  Event: Step 6/300: training loss=1.51\n",
            "  Event: Step 5/300: training loss=2.00\n",
            "  Event: Step 4/300: training loss=2.00\n",
            "  Event: Step 3/300: training loss=1.63\n",
            "  Event: Step 2/300: training loss=1.25\n",
            "Job ID: ftjob-vFBj6htF6bDMzxHzpu33EsS5, Status: running\n",
            "  Event: Step 6/300: training loss=1.51\n",
            "  Event: Step 5/300: training loss=2.00\n",
            "  Event: Step 4/300: training loss=2.00\n",
            "  Event: Step 3/300: training loss=1.63\n",
            "  Event: Step 2/300: training loss=1.25\n",
            "Job ID: ftjob-vFBj6htF6bDMzxHzpu33EsS5, Status: running\n",
            "  Event: Step 6/300: training loss=1.51\n",
            "  Event: Step 5/300: training loss=2.00\n",
            "  Event: Step 4/300: training loss=2.00\n",
            "  Event: Step 3/300: training loss=1.63\n",
            "  Event: Step 2/300: training loss=1.25\n",
            "Job ID: ftjob-vFBj6htF6bDMzxHzpu33EsS5, Status: running\n",
            "  Event: Step 6/300: training loss=1.51\n",
            "  Event: Step 5/300: training loss=2.00\n",
            "  Event: Step 4/300: training loss=2.00\n",
            "  Event: Step 3/300: training loss=1.63\n",
            "  Event: Step 2/300: training loss=1.25\n",
            "Job ID: ftjob-vFBj6htF6bDMzxHzpu33EsS5, Status: running\n",
            "  Event: Step 6/300: training loss=1.51\n",
            "  Event: Step 5/300: training loss=2.00\n",
            "  Event: Step 4/300: training loss=2.00\n",
            "  Event: Step 3/300: training loss=1.63\n",
            "  Event: Step 2/300: training loss=1.25\n",
            "Job ID: ftjob-vFBj6htF6bDMzxHzpu33EsS5, Status: running\n",
            "  Event: Step 6/300: training loss=1.51\n",
            "  Event: Step 5/300: training loss=2.00\n",
            "  Event: Step 4/300: training loss=2.00\n",
            "  Event: Step 3/300: training loss=1.63\n",
            "  Event: Step 2/300: training loss=1.25\n",
            "Job ID: ftjob-vFBj6htF6bDMzxHzpu33EsS5, Status: running\n",
            "  Event: Step 6/300: training loss=1.51\n",
            "  Event: Step 5/300: training loss=2.00\n",
            "  Event: Step 4/300: training loss=2.00\n",
            "  Event: Step 3/300: training loss=1.63\n",
            "  Event: Step 2/300: training loss=1.25\n",
            "Job ID: ftjob-vFBj6htF6bDMzxHzpu33EsS5, Status: running\n",
            "  Event: Step 6/300: training loss=1.51\n",
            "  Event: Step 5/300: training loss=2.00\n",
            "  Event: Step 4/300: training loss=2.00\n",
            "  Event: Step 3/300: training loss=1.63\n",
            "  Event: Step 2/300: training loss=1.25\n",
            "Job ID: ftjob-vFBj6htF6bDMzxHzpu33EsS5, Status: running\n",
            "  Event: Step 6/300: training loss=1.51\n",
            "  Event: Step 5/300: training loss=2.00\n",
            "  Event: Step 4/300: training loss=2.00\n",
            "  Event: Step 3/300: training loss=1.63\n",
            "  Event: Step 2/300: training loss=1.25\n",
            "Job ID: ftjob-vFBj6htF6bDMzxHzpu33EsS5, Status: running\n",
            "  Event: Step 6/300: training loss=1.51\n",
            "  Event: Step 5/300: training loss=2.00\n",
            "  Event: Step 4/300: training loss=2.00\n",
            "  Event: Step 3/300: training loss=1.63\n",
            "  Event: Step 2/300: training loss=1.25\n",
            "Job ID: ftjob-vFBj6htF6bDMzxHzpu33EsS5, Status: running\n",
            "  Event: Step 6/300: training loss=1.51\n",
            "  Event: Step 5/300: training loss=2.00\n",
            "  Event: Step 4/300: training loss=2.00\n",
            "  Event: Step 3/300: training loss=1.63\n",
            "  Event: Step 2/300: training loss=1.25\n",
            "Job ID: ftjob-vFBj6htF6bDMzxHzpu33EsS5, Status: running\n",
            "  Event: Step 6/300: training loss=1.51\n",
            "  Event: Step 5/300: training loss=2.00\n",
            "  Event: Step 4/300: training loss=2.00\n",
            "  Event: Step 3/300: training loss=1.63\n",
            "  Event: Step 2/300: training loss=1.25\n",
            "Job ID: ftjob-vFBj6htF6bDMzxHzpu33EsS5, Status: running\n",
            "  Event: Step 6/300: training loss=1.51\n",
            "  Event: Step 5/300: training loss=2.00\n",
            "  Event: Step 4/300: training loss=2.00\n",
            "  Event: Step 3/300: training loss=1.63\n",
            "  Event: Step 2/300: training loss=1.25\n",
            "Job ID: ftjob-vFBj6htF6bDMzxHzpu33EsS5, Status: running\n",
            "  Event: Step 6/300: training loss=1.51\n",
            "  Event: Step 5/300: training loss=2.00\n",
            "  Event: Step 4/300: training loss=2.00\n",
            "  Event: Step 3/300: training loss=1.63\n",
            "  Event: Step 2/300: training loss=1.25\n",
            "Job ID: ftjob-vFBj6htF6bDMzxHzpu33EsS5, Status: running\n",
            "  Event: Step 6/300: training loss=1.51\n",
            "  Event: Step 5/300: training loss=2.00\n",
            "  Event: Step 4/300: training loss=2.00\n",
            "  Event: Step 3/300: training loss=1.63\n",
            "  Event: Step 2/300: training loss=1.25\n",
            "Job ID: ftjob-vFBj6htF6bDMzxHzpu33EsS5, Status: running\n",
            "  Event: Step 6/300: training loss=1.51\n",
            "  Event: Step 5/300: training loss=2.00\n",
            "  Event: Step 4/300: training loss=2.00\n",
            "  Event: Step 3/300: training loss=1.63\n",
            "  Event: Step 2/300: training loss=1.25\n",
            "Job ID: ftjob-vFBj6htF6bDMzxHzpu33EsS5, Status: running\n",
            "  Event: Step 6/300: training loss=1.51\n",
            "  Event: Step 5/300: training loss=2.00\n",
            "  Event: Step 4/300: training loss=2.00\n",
            "  Event: Step 3/300: training loss=1.63\n",
            "  Event: Step 2/300: training loss=1.25\n",
            "Job ID: ftjob-vFBj6htF6bDMzxHzpu33EsS5, Status: running\n",
            "  Event: Step 6/300: training loss=1.51\n",
            "  Event: Step 5/300: training loss=2.00\n",
            "  Event: Step 4/300: training loss=2.00\n",
            "  Event: Step 3/300: training loss=1.63\n",
            "  Event: Step 2/300: training loss=1.25\n",
            "Job ID: ftjob-vFBj6htF6bDMzxHzpu33EsS5, Status: running\n",
            "  Event: Step 6/300: training loss=1.51\n",
            "  Event: Step 5/300: training loss=2.00\n",
            "  Event: Step 4/300: training loss=2.00\n",
            "  Event: Step 3/300: training loss=1.63\n",
            "  Event: Step 2/300: training loss=1.25\n",
            "Job ID: ftjob-vFBj6htF6bDMzxHzpu33EsS5, Status: running\n",
            "  Event: Step 6/300: training loss=1.51\n",
            "  Event: Step 5/300: training loss=2.00\n",
            "  Event: Step 4/300: training loss=2.00\n",
            "  Event: Step 3/300: training loss=1.63\n",
            "  Event: Step 2/300: training loss=1.25\n",
            "Job ID: ftjob-vFBj6htF6bDMzxHzpu33EsS5, Status: running\n",
            "  Event: Step 6/300: training loss=1.51\n",
            "  Event: Step 5/300: training loss=2.00\n",
            "  Event: Step 4/300: training loss=2.00\n",
            "  Event: Step 3/300: training loss=1.63\n",
            "  Event: Step 2/300: training loss=1.25\n",
            "Job ID: ftjob-vFBj6htF6bDMzxHzpu33EsS5, Status: running\n",
            "  Event: Step 6/300: training loss=1.51\n",
            "  Event: Step 5/300: training loss=2.00\n",
            "  Event: Step 4/300: training loss=2.00\n",
            "  Event: Step 3/300: training loss=1.63\n",
            "  Event: Step 2/300: training loss=1.25\n",
            "Job ID: ftjob-vFBj6htF6bDMzxHzpu33EsS5, Status: running\n",
            "  Event: Step 6/300: training loss=1.51\n",
            "  Event: Step 5/300: training loss=2.00\n",
            "  Event: Step 4/300: training loss=2.00\n",
            "  Event: Step 3/300: training loss=1.63\n",
            "  Event: Step 2/300: training loss=1.25\n",
            "Job ID: ftjob-vFBj6htF6bDMzxHzpu33EsS5, Status: running\n",
            "  Event: Step 6/300: training loss=1.51\n",
            "  Event: Step 5/300: training loss=2.00\n",
            "  Event: Step 4/300: training loss=2.00\n",
            "  Event: Step 3/300: training loss=1.63\n",
            "  Event: Step 2/300: training loss=1.25\n",
            "Job ID: ftjob-vFBj6htF6bDMzxHzpu33EsS5, Status: running\n",
            "  Event: Step 6/300: training loss=1.51\n",
            "  Event: Step 5/300: training loss=2.00\n",
            "  Event: Step 4/300: training loss=2.00\n",
            "  Event: Step 3/300: training loss=1.63\n",
            "  Event: Step 2/300: training loss=1.25\n",
            "Job ID: ftjob-vFBj6htF6bDMzxHzpu33EsS5, Status: running\n",
            "  Event: Fine-tuning job started\n",
            "  Event: The job experienced an error while training and failed, it has been re-enqueued for retry.\n",
            "  Event: Step 8/300: training loss=1.72\n",
            "  Event: Step 7/300: training loss=1.87\n",
            "  Event: Step 6/300: training loss=1.51\n",
            "Job ID: ftjob-vFBj6htF6bDMzxHzpu33EsS5, Status: running\n",
            "  Event: Fine-tuning job started\n",
            "  Event: The job experienced an error while training and failed, it has been re-enqueued for retry.\n",
            "  Event: Step 8/300: training loss=1.72\n",
            "  Event: Step 7/300: training loss=1.87\n",
            "  Event: Step 6/300: training loss=1.51\n",
            "Job ID: ftjob-vFBj6htF6bDMzxHzpu33EsS5, Status: running\n",
            "  Event: Fine-tuning job started\n",
            "  Event: The job experienced an error while training and failed, it has been re-enqueued for retry.\n",
            "  Event: Step 8/300: training loss=1.72\n",
            "  Event: Step 7/300: training loss=1.87\n",
            "  Event: Step 6/300: training loss=1.51\n",
            "Job ID: ftjob-vFBj6htF6bDMzxHzpu33EsS5, Status: running\n",
            "  Event: Step 26/300: training loss=0.95\n",
            "  Event: Step 25/300: training loss=1.31\n",
            "  Event: Step 24/300: training loss=1.21\n",
            "  Event: Step 23/300: training loss=1.37\n",
            "  Event: Step 22/300: training loss=1.52\n",
            "Job ID: ftjob-vFBj6htF6bDMzxHzpu33EsS5, Status: running\n",
            "  Event: Step 55/300: training loss=1.08\n",
            "  Event: Step 54/300: training loss=1.14\n",
            "  Event: Step 53/300: training loss=0.94\n",
            "  Event: Step 52/300: training loss=1.17\n",
            "  Event: Step 51/300: training loss=1.26\n",
            "Job ID: ftjob-vFBj6htF6bDMzxHzpu33EsS5, Status: running\n",
            "  Event: Step 96/300: training loss=1.09\n",
            "  Event: Step 95/300: training loss=1.23\n",
            "  Event: Step 94/300: training loss=1.14\n",
            "  Event: Step 93/300: training loss=1.17\n",
            "  Event: Step 92/300: training loss=1.24\n",
            "Job ID: ftjob-vFBj6htF6bDMzxHzpu33EsS5, Status: running\n",
            "  Event: Step 119/300: training loss=1.17\n",
            "  Event: Step 118/300: training loss=0.94\n",
            "  Event: Step 117/300: training loss=1.05\n",
            "  Event: Step 116/300: training loss=1.07\n",
            "  Event: Step 115/300: training loss=1.05\n",
            "Job ID: ftjob-vFBj6htF6bDMzxHzpu33EsS5, Status: running\n",
            "  Event: Step 147/300: training loss=0.68\n",
            "  Event: Step 146/300: training loss=1.03\n",
            "  Event: Step 145/300: training loss=0.97\n",
            "  Event: Step 144/300: training loss=1.07\n",
            "  Event: Step 143/300: training loss=0.88\n",
            "Job ID: ftjob-vFBj6htF6bDMzxHzpu33EsS5, Status: running\n",
            "  Event: Step 185/300: training loss=1.25\n",
            "  Event: Step 184/300: training loss=0.93\n",
            "  Event: Step 183/300: training loss=0.83\n",
            "  Event: Step 182/300: training loss=0.88\n",
            "  Event: Step 181/300: training loss=0.74\n",
            "Job ID: ftjob-vFBj6htF6bDMzxHzpu33EsS5, Status: running\n",
            "  Event: Step 217/300: training loss=0.82\n",
            "  Event: Step 216/300: training loss=0.74\n",
            "  Event: Step 215/300: training loss=0.76\n",
            "  Event: Step 214/300: training loss=0.80\n",
            "  Event: Step 213/300: training loss=0.94\n",
            "Job ID: ftjob-vFBj6htF6bDMzxHzpu33EsS5, Status: running\n",
            "  Event: Step 249/300: training loss=1.37\n",
            "  Event: Step 248/300: training loss=0.78\n",
            "  Event: Step 247/300: training loss=0.86\n",
            "  Event: Step 246/300: training loss=0.82\n",
            "  Event: Step 245/300: training loss=0.90\n",
            "Job ID: ftjob-vFBj6htF6bDMzxHzpu33EsS5, Status: running\n",
            "  Event: Step 298/300: training loss=1.01\n",
            "  Event: Step 297/300: training loss=1.00\n",
            "  Event: Step 296/300: training loss=1.16\n",
            "  Event: Step 295/300: training loss=0.89\n",
            "  Event: Step 294/300: training loss=0.72\n",
            "Job ID: ftjob-vFBj6htF6bDMzxHzpu33EsS5, Status: succeeded\n",
            "Fine-tuned model ID: ft:gpt-4o-mini-2024-07-18:personal::AeyfWX7m\n"
          ]
        }
      ],
      "source": [
        "import time\n",
        "\n",
        "def monitor_job(job_id):\n",
        "    \"\"\"Monitor fine-tuning job progress\"\"\"\n",
        "    while True:\n",
        "        job = client.fine_tuning.jobs.retrieve(job_id)\n",
        "        status = job.status\n",
        "\n",
        "        # Print the status\n",
        "        print(f\"Job ID: {job_id}, Status: {status}\")\n",
        "\n",
        "        # Check if the job is finished\n",
        "        if status in [\"succeeded\", \"failed\", \"cancelled\"]:\n",
        "            break  # Exit the loop if the job is done\n",
        "\n",
        "        # Print events, if any (adjust limit as needed)\n",
        "        events = client.fine_tuning.jobs.list_events(\n",
        "            fine_tuning_job_id=job_id,\n",
        "            limit=5\n",
        "        )\n",
        "        for event in events.data:\n",
        "            print(f\"  Event: {event.message}\")\n",
        "\n",
        "        # Wait before checking again (adjust interval as needed)\n",
        "        time.sleep(60)  # Check every 60 seconds\n",
        "\n",
        "    # Get the fine-tuned model if successful\n",
        "    if status == \"succeeded\":\n",
        "        fine_tuned_model = job.fine_tuned_model\n",
        "        print(f\"Fine-tuned model ID: {fine_tuned_model}\")\n",
        "    else:\n",
        "        print(f\"Fine-tuning job {job_id} finished with status: {status}\")\n",
        "\n",
        "# Call the function to monitor the job\n",
        "monitor_job(job_id)"
      ]
    },
    {
      "cell_type": "markdown",
      "metadata": {
        "id": "yNYhV3XcI8oV"
      },
      "source": [
        "## **Accessing the Fine-tuned Model using the API**"
      ]
    },
    {
      "cell_type": "code",
      "execution_count": 41,
      "metadata": {
        "colab": {
          "base_uri": "https://localhost:8080/"
        },
        "id": "-UN_56MmI_KV",
        "outputId": "850309cf-4943-44eb-c3bf-067f6421d8d6"
      },
      "outputs": [
        {
          "name": "stdout",
          "output_type": "stream",
          "text": [
            "ft:gpt-4o-mini-2024-07-18:personal::AeyfWX7m\n"
          ]
        }
      ],
      "source": [
        "result = client.fine_tuning.jobs.list()\n",
        "\n",
        "# Retrieve the fine tuned model\n",
        "fine_tuned_model = result.data[0].fine_tuned_model\n",
        "print(fine_tuned_model)"
      ]
    },
    {
      "cell_type": "markdown",
      "metadata": {
        "id": "vuKf4pDoUIUe"
      },
      "source": [
        "# **Testing the fine tuned model on unseen/real world query**"
      ]
    },
    {
      "cell_type": "code",
      "execution_count": 50,
      "metadata": {
        "colab": {
          "base_uri": "https://localhost:8080/"
        },
        "id": "RIU1cJ2ERcdX",
        "outputId": "7a401c56-b527-44d7-c8ed-e2d4a33bf747"
      },
      "outputs": [
        {
          "name": "stdout",
          "output_type": "stream",
          "text": [
            "Treatment for gastrointestinal stromal tumor (GIST) may involve surgery, medications, or both, depending on the tumor's size and location, among other factors.  For example, the cancer may spread, affecting other organs, bone, and the lungs. In addition, the treatment may include careful monitoring or drug therapy, such as an oral or injectable medication, genetic therapy targeting cancer genes, or radiation therapy alone. You may also want to learn about clinical trials, generic drugs, palliative care, and complementary and alternative medicine.\n"
          ]
        }
      ],
      "source": [
        "response = client.chat.completions.create(\n",
        "    model=\"ft:gpt-4o-mini-2024-07-18:personal::AeyfWX7m\",\n",
        "    messages=[\n",
        "        {\"role\": \"system\", \"content\": \"Given a medical question, provide informative answer in a paragraph style. If the question is ambiguous, ask clarifying questions. Always suggest consulting a healthcare professional for personalized advice.\"},\n",
        "        {\"role\": \"user\", \"content\":\"What are the treatments for gastrointestinal stromal tumor?\"}\n",
        "    ]\n",
        ")\n",
        "print(response.choices[0].message.content.strip())"
      ]
    },
    {
      "cell_type": "markdown",
      "metadata": {
        "id": "VL5jIm2vT27r"
      },
      "source": [
        "# **Fine Tuned gpt-4o-mini Model response Evaluation Metrics**\n",
        "\n",
        "**1. Exact Match Accuracy**\n",
        "\n",
        "**2. BLEU Score**\n",
        "\n",
        "**3. Semantic Similarity**\n",
        "\n",
        "**4. Cosine Similarity**\n",
        "\n",
        "**5. Token-Level Accuracy**\n",
        "\n",
        "**6. Accuracy**\n",
        "\n",
        "**7. F1 Score**"
      ]
    },
    {
      "cell_type": "code",
      "execution_count": 51,
      "metadata": {
        "colab": {
          "base_uri": "https://localhost:8080/"
        },
        "id": "dmj3W5GyR4id",
        "outputId": "8ae4787c-10ff-4397-8289-acb08b302eff"
      },
      "outputs": [
        {
          "name": "stdout",
          "output_type": "stream",
          "text": [
            "Query: What are the treatments for gastrointestinal stromal tumor?\n",
            "Exact Match Accuracy: 0\n",
            "BLEU Score: 0.01\n",
            "Semantic Similarity: 0.72\n",
            "Cosine Similarity: 0.72\n",
            "Token-Level Accuracy: 0.18\n",
            "Accuracy: 0.08\n",
            "F1 Score: 0.15\n"
          ]
        }
      ],
      "source": [
        "\n",
        "\n",
        "# Few-shot prompt example\n",
        "query = \"What are the treatments for gastrointestinal stromal tumor?\"\n",
        "\n",
        "expected_answer = (\"These resources address the diagnosis or management of gastrointestinal stromal tumor: - American Cancer Society: Treating Gastrointestinal Stromal Tumor (GIST) - Cancer.Net: Gastrointestinal Stromal Tumor--Diagnosis - Genetic Testing Registry: Gastrointestinal stromal tumor These resources from MedlinePlus offer information about the diagnosis and management of various health conditions: - Diagnostic Tests - Drug Therapy - Surgery and Rehabilitation - Genetic Counseling - Palliative Care.\")\n",
        "\n",
        "\n",
        "generated_answer = (\"Treatment for gastrointestinal stromal tumor (GIST) may involve surgery, medications, or both, depending on the tumor's size and location, among other factors.  For example, the cancer may spread, affecting other organs, bone, and the lungs. In addition, the treatment may include careful monitoring or drug therapy, such as an oral or injectable medication, genetic therapy targeting cancer genes, or radiation therapy alone. You may also want to learn about clinical trials, generic drugs, palliative care, and complementary and alternative medicine.\")\n",
        "\n",
        "# Initialize Sentence Transformer model for embeddings\n",
        "model = SentenceTransformer('all-MiniLM-L6-v2')\n",
        "\n",
        "# Define evaluation functions\n",
        "def calculate_exact_match(expected, generated):\n",
        "    return int(expected.strip().lower() == generated.strip().lower())\n",
        "\n",
        "def calculate_bleu(expected, generated):\n",
        "    expected_tokens = expected.split()\n",
        "    generated_tokens = generated.split()\n",
        "    smoothing_function = SmoothingFunction().method1\n",
        "    return sentence_bleu([expected_tokens], generated_tokens, smoothing_function=smoothing_function)\n",
        "\n",
        "def calculate_semantic_similarity(expected, generated):\n",
        "    embeddings = model.encode([expected, generated])\n",
        "    return cosine_similarity([embeddings[0]], [embeddings[1]])[0][0]\n",
        "\n",
        "def calculate_cosine_similarity(expected, generated):\n",
        "    # Similar to semantic similarity but added explicitly for clarification\n",
        "    embeddings = model.encode([expected, generated])\n",
        "    return cosine_similarity([embeddings[0]], [embeddings[1]])[0][0]\n",
        "\n",
        "def calculate_token_level_accuracy(expected, generated):\n",
        "    expected_tokens = set(expected.split())\n",
        "    generated_tokens = set(generated.split())\n",
        "    overlap = expected_tokens & generated_tokens\n",
        "    return len(overlap) / len(expected_tokens)\n",
        "\n",
        "def calculate_accuracy_f1(expected, generated):\n",
        "    # Create sets for expected and generated tokens\n",
        "    expected_tokens = set(expected.split())\n",
        "    generated_tokens = set(generated.split())\n",
        "\n",
        "    # Create binary vectors for accuracy and F1 score calculation\n",
        "    all_tokens = expected_tokens | generated_tokens\n",
        "    expected_vector = [1 if token in expected_tokens else 0 for token in all_tokens]\n",
        "    generated_vector = [1 if token in generated_tokens else 0 for token in all_tokens]\n",
        "\n",
        "    accuracy = accuracy_score(expected_vector, generated_vector)\n",
        "    f1 = f1_score(expected_vector, generated_vector, zero_division=1)\n",
        "    return accuracy, f1\n",
        "\n",
        "# Evaluate metrics\n",
        "exact_match = calculate_exact_match(expected_answer, generated_answer)\n",
        "bleu_score = calculate_bleu(expected_answer, generated_answer)\n",
        "semantic_similarity = calculate_semantic_similarity(expected_answer, generated_answer)\n",
        "cosine_similarity_score = calculate_cosine_similarity(expected_answer, generated_answer)\n",
        "token_level_accuracy = calculate_token_level_accuracy(expected_answer, generated_answer)\n",
        "\n",
        "# Accuracy and F1 Score\n",
        "accuracy, f1 = calculate_accuracy_f1(expected_answer, generated_answer)\n",
        "\n",
        "# Print results\n",
        "print(f\"Query: {query}\")\n",
        "print(f\"Exact Match Accuracy: {exact_match}\")\n",
        "print(f\"BLEU Score: {bleu_score:.2f}\")\n",
        "print(f\"Semantic Similarity: {semantic_similarity:.2f}\")\n",
        "print(f\"Cosine Similarity: {cosine_similarity_score:.2f}\")\n",
        "print(f\"Token-Level Accuracy: {token_level_accuracy:.2f}\")\n",
        "print(f\"Accuracy: {accuracy:.2f}\")\n",
        "print(f\"F1 Score: {f1:.2f}\")\n",
        "\n"
      ]
    }
  ],
  "metadata": {
    "accelerator": "GPU",
    "colab": {
      "gpuType": "T4",
      "provenance": []
    },
    "kernelspec": {
      "display_name": "Python 3",
      "name": "python3"
    },
    "language_info": {
      "name": "python"
    },
    "widgets": {
      "application/vnd.jupyter.widget-state+json": {
        "01f1445f03d04e2a90a147e073921dea": {
          "model_module": "@jupyter-widgets/base",
          "model_module_version": "1.2.0",
          "model_name": "LayoutModel",
          "state": {
            "_model_module": "@jupyter-widgets/base",
            "_model_module_version": "1.2.0",
            "_model_name": "LayoutModel",
            "_view_count": null,
            "_view_module": "@jupyter-widgets/base",
            "_view_module_version": "1.2.0",
            "_view_name": "LayoutView",
            "align_content": null,
            "align_items": null,
            "align_self": null,
            "border": null,
            "bottom": null,
            "display": null,
            "flex": null,
            "flex_flow": null,
            "grid_area": null,
            "grid_auto_columns": null,
            "grid_auto_flow": null,
            "grid_auto_rows": null,
            "grid_column": null,
            "grid_gap": null,
            "grid_row": null,
            "grid_template_areas": null,
            "grid_template_columns": null,
            "grid_template_rows": null,
            "height": null,
            "justify_content": null,
            "justify_items": null,
            "left": null,
            "margin": null,
            "max_height": null,
            "max_width": null,
            "min_height": null,
            "min_width": null,
            "object_fit": null,
            "object_position": null,
            "order": null,
            "overflow": null,
            "overflow_x": null,
            "overflow_y": null,
            "padding": null,
            "right": null,
            "top": null,
            "visibility": null,
            "width": null
          }
        },
        "02d948c0e01d4de6b5f3c17212d7782b": {
          "model_module": "@jupyter-widgets/controls",
          "model_module_version": "1.5.0",
          "model_name": "HTMLModel",
          "state": {
            "_dom_classes": [],
            "_model_module": "@jupyter-widgets/controls",
            "_model_module_version": "1.5.0",
            "_model_name": "HTMLModel",
            "_view_count": null,
            "_view_module": "@jupyter-widgets/controls",
            "_view_module_version": "1.5.0",
            "_view_name": "HTMLView",
            "description": "",
            "description_tooltip": null,
            "layout": "IPY_MODEL_d0339a8a65024fcdab22d00c725d8cbe",
            "placeholder": "​",
            "style": "IPY_MODEL_c4f77c3817da4962aab560f80efc66b6",
            "value": " 22.5M/22.5M [00:00&lt;00:00, 30.4MB/s]"
          }
        },
        "1f6dabdccc2748c5b0252a5ec0114486": {
          "model_module": "@jupyter-widgets/controls",
          "model_module_version": "1.5.0",
          "model_name": "HBoxModel",
          "state": {
            "_dom_classes": [],
            "_model_module": "@jupyter-widgets/controls",
            "_model_module_version": "1.5.0",
            "_model_name": "HBoxModel",
            "_view_count": null,
            "_view_module": "@jupyter-widgets/controls",
            "_view_module_version": "1.5.0",
            "_view_name": "HBoxView",
            "box_style": "",
            "children": [
              "IPY_MODEL_a5d19954f29d4be6a5b97fc33c6b2189",
              "IPY_MODEL_7753ff89f8004af093212a278d350f06",
              "IPY_MODEL_f92ecbfb6a21426690820b0322ae4b4d"
            ],
            "layout": "IPY_MODEL_61bb9ce8b3ca4df7974ccd51ce9db512"
          }
        },
        "2dec30fc69de421f838251752653adbf": {
          "model_module": "@jupyter-widgets/controls",
          "model_module_version": "1.5.0",
          "model_name": "DescriptionStyleModel",
          "state": {
            "_model_module": "@jupyter-widgets/controls",
            "_model_module_version": "1.5.0",
            "_model_name": "DescriptionStyleModel",
            "_view_count": null,
            "_view_module": "@jupyter-widgets/base",
            "_view_module_version": "1.2.0",
            "_view_name": "StyleView",
            "description_width": ""
          }
        },
        "347429d7ec6b4e48bd301061d03aaf90": {
          "model_module": "@jupyter-widgets/controls",
          "model_module_version": "1.5.0",
          "model_name": "HBoxModel",
          "state": {
            "_dom_classes": [],
            "_model_module": "@jupyter-widgets/controls",
            "_model_module_version": "1.5.0",
            "_model_name": "HBoxModel",
            "_view_count": null,
            "_view_module": "@jupyter-widgets/controls",
            "_view_module_version": "1.5.0",
            "_view_name": "HBoxView",
            "box_style": "",
            "children": [
              "IPY_MODEL_e00e44a7448f44e6aa4a2d8183bd2b53",
              "IPY_MODEL_94c12c8cb83940419e509597bc4310cd",
              "IPY_MODEL_aaa2d914b9ae4a889d59a491e04e843d"
            ],
            "layout": "IPY_MODEL_efbc61df6dc74841ab2d967cdf4bbd71"
          }
        },
        "3befe0ff4a3147a29df1ffe2eb04549c": {
          "model_module": "@jupyter-widgets/base",
          "model_module_version": "1.2.0",
          "model_name": "LayoutModel",
          "state": {
            "_model_module": "@jupyter-widgets/base",
            "_model_module_version": "1.2.0",
            "_model_name": "LayoutModel",
            "_view_count": null,
            "_view_module": "@jupyter-widgets/base",
            "_view_module_version": "1.2.0",
            "_view_name": "LayoutView",
            "align_content": null,
            "align_items": null,
            "align_self": null,
            "border": null,
            "bottom": null,
            "display": null,
            "flex": null,
            "flex_flow": null,
            "grid_area": null,
            "grid_auto_columns": null,
            "grid_auto_flow": null,
            "grid_auto_rows": null,
            "grid_column": null,
            "grid_gap": null,
            "grid_row": null,
            "grid_template_areas": null,
            "grid_template_columns": null,
            "grid_template_rows": null,
            "height": null,
            "justify_content": null,
            "justify_items": null,
            "left": null,
            "margin": null,
            "max_height": null,
            "max_width": null,
            "min_height": null,
            "min_width": null,
            "object_fit": null,
            "object_position": null,
            "order": null,
            "overflow": null,
            "overflow_x": null,
            "overflow_y": null,
            "padding": null,
            "right": null,
            "top": null,
            "visibility": null,
            "width": null
          }
        },
        "434c8f93d3cd45a68ca634d828c636d9": {
          "model_module": "@jupyter-widgets/controls",
          "model_module_version": "1.5.0",
          "model_name": "DescriptionStyleModel",
          "state": {
            "_model_module": "@jupyter-widgets/controls",
            "_model_module_version": "1.5.0",
            "_model_name": "DescriptionStyleModel",
            "_view_count": null,
            "_view_module": "@jupyter-widgets/base",
            "_view_module_version": "1.2.0",
            "_view_name": "StyleView",
            "description_width": ""
          }
        },
        "4df9acda3f82444a95b616b39cf0ba8e": {
          "model_module": "@jupyter-widgets/base",
          "model_module_version": "1.2.0",
          "model_name": "LayoutModel",
          "state": {
            "_model_module": "@jupyter-widgets/base",
            "_model_module_version": "1.2.0",
            "_model_name": "LayoutModel",
            "_view_count": null,
            "_view_module": "@jupyter-widgets/base",
            "_view_module_version": "1.2.0",
            "_view_name": "LayoutView",
            "align_content": null,
            "align_items": null,
            "align_self": null,
            "border": null,
            "bottom": null,
            "display": null,
            "flex": null,
            "flex_flow": null,
            "grid_area": null,
            "grid_auto_columns": null,
            "grid_auto_flow": null,
            "grid_auto_rows": null,
            "grid_column": null,
            "grid_gap": null,
            "grid_row": null,
            "grid_template_areas": null,
            "grid_template_columns": null,
            "grid_template_rows": null,
            "height": null,
            "justify_content": null,
            "justify_items": null,
            "left": null,
            "margin": null,
            "max_height": null,
            "max_width": null,
            "min_height": null,
            "min_width": null,
            "object_fit": null,
            "object_position": null,
            "order": null,
            "overflow": null,
            "overflow_x": null,
            "overflow_y": null,
            "padding": null,
            "right": null,
            "top": null,
            "visibility": null,
            "width": null
          }
        },
        "525ba31e734a4667954b9d0c1d8bf2ec": {
          "model_module": "@jupyter-widgets/base",
          "model_module_version": "1.2.0",
          "model_name": "LayoutModel",
          "state": {
            "_model_module": "@jupyter-widgets/base",
            "_model_module_version": "1.2.0",
            "_model_name": "LayoutModel",
            "_view_count": null,
            "_view_module": "@jupyter-widgets/base",
            "_view_module_version": "1.2.0",
            "_view_name": "LayoutView",
            "align_content": null,
            "align_items": null,
            "align_self": null,
            "border": null,
            "bottom": null,
            "display": null,
            "flex": null,
            "flex_flow": null,
            "grid_area": null,
            "grid_auto_columns": null,
            "grid_auto_flow": null,
            "grid_auto_rows": null,
            "grid_column": null,
            "grid_gap": null,
            "grid_row": null,
            "grid_template_areas": null,
            "grid_template_columns": null,
            "grid_template_rows": null,
            "height": null,
            "justify_content": null,
            "justify_items": null,
            "left": null,
            "margin": null,
            "max_height": null,
            "max_width": null,
            "min_height": null,
            "min_width": null,
            "object_fit": null,
            "object_position": null,
            "order": null,
            "overflow": null,
            "overflow_x": null,
            "overflow_y": null,
            "padding": null,
            "right": null,
            "top": null,
            "visibility": null,
            "width": null
          }
        },
        "5888542bd0584ed781581603b8e2d307": {
          "model_module": "@jupyter-widgets/controls",
          "model_module_version": "1.5.0",
          "model_name": "ProgressStyleModel",
          "state": {
            "_model_module": "@jupyter-widgets/controls",
            "_model_module_version": "1.5.0",
            "_model_name": "ProgressStyleModel",
            "_view_count": null,
            "_view_module": "@jupyter-widgets/base",
            "_view_module_version": "1.2.0",
            "_view_name": "StyleView",
            "bar_color": null,
            "description_width": ""
          }
        },
        "5b584e3319844eb1b76d480f73510127": {
          "model_module": "@jupyter-widgets/base",
          "model_module_version": "1.2.0",
          "model_name": "LayoutModel",
          "state": {
            "_model_module": "@jupyter-widgets/base",
            "_model_module_version": "1.2.0",
            "_model_name": "LayoutModel",
            "_view_count": null,
            "_view_module": "@jupyter-widgets/base",
            "_view_module_version": "1.2.0",
            "_view_name": "LayoutView",
            "align_content": null,
            "align_items": null,
            "align_self": null,
            "border": null,
            "bottom": null,
            "display": null,
            "flex": null,
            "flex_flow": null,
            "grid_area": null,
            "grid_auto_columns": null,
            "grid_auto_flow": null,
            "grid_auto_rows": null,
            "grid_column": null,
            "grid_gap": null,
            "grid_row": null,
            "grid_template_areas": null,
            "grid_template_columns": null,
            "grid_template_rows": null,
            "height": null,
            "justify_content": null,
            "justify_items": null,
            "left": null,
            "margin": null,
            "max_height": null,
            "max_width": null,
            "min_height": null,
            "min_width": null,
            "object_fit": null,
            "object_position": null,
            "order": null,
            "overflow": null,
            "overflow_x": null,
            "overflow_y": null,
            "padding": null,
            "right": null,
            "top": null,
            "visibility": null,
            "width": null
          }
        },
        "5f19ae566520419aafa7151c633fe5f8": {
          "model_module": "@jupyter-widgets/controls",
          "model_module_version": "1.5.0",
          "model_name": "HTMLModel",
          "state": {
            "_dom_classes": [],
            "_model_module": "@jupyter-widgets/controls",
            "_model_module_version": "1.5.0",
            "_model_name": "HTMLModel",
            "_view_count": null,
            "_view_module": "@jupyter-widgets/controls",
            "_view_module_version": "1.5.0",
            "_view_name": "HTMLView",
            "description": "",
            "description_tooltip": null,
            "layout": "IPY_MODEL_525ba31e734a4667954b9d0c1d8bf2ec",
            "placeholder": "​",
            "style": "IPY_MODEL_94a7ceb9c1ed4461b1cd88fe8ad4bb27",
            "value": "medDataset_processed.csv: 100%"
          }
        },
        "61bb9ce8b3ca4df7974ccd51ce9db512": {
          "model_module": "@jupyter-widgets/base",
          "model_module_version": "1.2.0",
          "model_name": "LayoutModel",
          "state": {
            "_model_module": "@jupyter-widgets/base",
            "_model_module_version": "1.2.0",
            "_model_name": "LayoutModel",
            "_view_count": null,
            "_view_module": "@jupyter-widgets/base",
            "_view_module_version": "1.2.0",
            "_view_name": "LayoutView",
            "align_content": null,
            "align_items": null,
            "align_self": null,
            "border": null,
            "bottom": null,
            "display": null,
            "flex": null,
            "flex_flow": null,
            "grid_area": null,
            "grid_auto_columns": null,
            "grid_auto_flow": null,
            "grid_auto_rows": null,
            "grid_column": null,
            "grid_gap": null,
            "grid_row": null,
            "grid_template_areas": null,
            "grid_template_columns": null,
            "grid_template_rows": null,
            "height": null,
            "justify_content": null,
            "justify_items": null,
            "left": null,
            "margin": null,
            "max_height": null,
            "max_width": null,
            "min_height": null,
            "min_width": null,
            "object_fit": null,
            "object_position": null,
            "order": null,
            "overflow": null,
            "overflow_x": null,
            "overflow_y": null,
            "padding": null,
            "right": null,
            "top": null,
            "visibility": null,
            "width": null
          }
        },
        "645117a3c5bd4efbb3c4d0cfd78cbf95": {
          "model_module": "@jupyter-widgets/base",
          "model_module_version": "1.2.0",
          "model_name": "LayoutModel",
          "state": {
            "_model_module": "@jupyter-widgets/base",
            "_model_module_version": "1.2.0",
            "_model_name": "LayoutModel",
            "_view_count": null,
            "_view_module": "@jupyter-widgets/base",
            "_view_module_version": "1.2.0",
            "_view_name": "LayoutView",
            "align_content": null,
            "align_items": null,
            "align_self": null,
            "border": null,
            "bottom": null,
            "display": null,
            "flex": null,
            "flex_flow": null,
            "grid_area": null,
            "grid_auto_columns": null,
            "grid_auto_flow": null,
            "grid_auto_rows": null,
            "grid_column": null,
            "grid_gap": null,
            "grid_row": null,
            "grid_template_areas": null,
            "grid_template_columns": null,
            "grid_template_rows": null,
            "height": null,
            "justify_content": null,
            "justify_items": null,
            "left": null,
            "margin": null,
            "max_height": null,
            "max_width": null,
            "min_height": null,
            "min_width": null,
            "object_fit": null,
            "object_position": null,
            "order": null,
            "overflow": null,
            "overflow_x": null,
            "overflow_y": null,
            "padding": null,
            "right": null,
            "top": null,
            "visibility": null,
            "width": null
          }
        },
        "7753ff89f8004af093212a278d350f06": {
          "model_module": "@jupyter-widgets/controls",
          "model_module_version": "1.5.0",
          "model_name": "FloatProgressModel",
          "state": {
            "_dom_classes": [],
            "_model_module": "@jupyter-widgets/controls",
            "_model_module_version": "1.5.0",
            "_model_name": "FloatProgressModel",
            "_view_count": null,
            "_view_module": "@jupyter-widgets/controls",
            "_view_module_version": "1.5.0",
            "_view_name": "ProgressView",
            "bar_style": "success",
            "description": "",
            "description_tooltip": null,
            "layout": "IPY_MODEL_bfa6aa83e6b841eeb0738fec610dfc1c",
            "max": 16407,
            "min": 0,
            "orientation": "horizontal",
            "style": "IPY_MODEL_e9d50fdd22754b67abe4999a3a1b91e3",
            "value": 16407
          }
        },
        "8933d1e8129e49878a852dc181925f3c": {
          "model_module": "@jupyter-widgets/controls",
          "model_module_version": "1.5.0",
          "model_name": "HBoxModel",
          "state": {
            "_dom_classes": [],
            "_model_module": "@jupyter-widgets/controls",
            "_model_module_version": "1.5.0",
            "_model_name": "HBoxModel",
            "_view_count": null,
            "_view_module": "@jupyter-widgets/controls",
            "_view_module_version": "1.5.0",
            "_view_name": "HBoxView",
            "box_style": "",
            "children": [
              "IPY_MODEL_5f19ae566520419aafa7151c633fe5f8",
              "IPY_MODEL_d1f88b500bc7426baaae9ff68530228b",
              "IPY_MODEL_02d948c0e01d4de6b5f3c17212d7782b"
            ],
            "layout": "IPY_MODEL_bc02b3400bca4faca6a3884004734dca"
          }
        },
        "94a7ceb9c1ed4461b1cd88fe8ad4bb27": {
          "model_module": "@jupyter-widgets/controls",
          "model_module_version": "1.5.0",
          "model_name": "DescriptionStyleModel",
          "state": {
            "_model_module": "@jupyter-widgets/controls",
            "_model_module_version": "1.5.0",
            "_model_name": "DescriptionStyleModel",
            "_view_count": null,
            "_view_module": "@jupyter-widgets/base",
            "_view_module_version": "1.2.0",
            "_view_name": "StyleView",
            "description_width": ""
          }
        },
        "94c12c8cb83940419e509597bc4310cd": {
          "model_module": "@jupyter-widgets/controls",
          "model_module_version": "1.5.0",
          "model_name": "FloatProgressModel",
          "state": {
            "_dom_classes": [],
            "_model_module": "@jupyter-widgets/controls",
            "_model_module_version": "1.5.0",
            "_model_name": "FloatProgressModel",
            "_view_count": null,
            "_view_module": "@jupyter-widgets/controls",
            "_view_module_version": "1.5.0",
            "_view_name": "ProgressView",
            "bar_style": "success",
            "description": "",
            "description_tooltip": null,
            "layout": "IPY_MODEL_4df9acda3f82444a95b616b39cf0ba8e",
            "max": 233,
            "min": 0,
            "orientation": "horizontal",
            "style": "IPY_MODEL_5888542bd0584ed781581603b8e2d307",
            "value": 233
          }
        },
        "9db96c3e02284f5098d8d78fdf3ba9aa": {
          "model_module": "@jupyter-widgets/controls",
          "model_module_version": "1.5.0",
          "model_name": "ProgressStyleModel",
          "state": {
            "_model_module": "@jupyter-widgets/controls",
            "_model_module_version": "1.5.0",
            "_model_name": "ProgressStyleModel",
            "_view_count": null,
            "_view_module": "@jupyter-widgets/base",
            "_view_module_version": "1.2.0",
            "_view_name": "StyleView",
            "bar_color": null,
            "description_width": ""
          }
        },
        "a5d19954f29d4be6a5b97fc33c6b2189": {
          "model_module": "@jupyter-widgets/controls",
          "model_module_version": "1.5.0",
          "model_name": "HTMLModel",
          "state": {
            "_dom_classes": [],
            "_model_module": "@jupyter-widgets/controls",
            "_model_module_version": "1.5.0",
            "_model_name": "HTMLModel",
            "_view_count": null,
            "_view_module": "@jupyter-widgets/controls",
            "_view_module_version": "1.5.0",
            "_view_name": "HTMLView",
            "description": "",
            "description_tooltip": null,
            "layout": "IPY_MODEL_01f1445f03d04e2a90a147e073921dea",
            "placeholder": "​",
            "style": "IPY_MODEL_434c8f93d3cd45a68ca634d828c636d9",
            "value": "Generating train split: 100%"
          }
        },
        "a8cd998d26ab4eabbde2c6d28a797757": {
          "model_module": "@jupyter-widgets/controls",
          "model_module_version": "1.5.0",
          "model_name": "DescriptionStyleModel",
          "state": {
            "_model_module": "@jupyter-widgets/controls",
            "_model_module_version": "1.5.0",
            "_model_name": "DescriptionStyleModel",
            "_view_count": null,
            "_view_module": "@jupyter-widgets/base",
            "_view_module_version": "1.2.0",
            "_view_name": "StyleView",
            "description_width": ""
          }
        },
        "aaa2d914b9ae4a889d59a491e04e843d": {
          "model_module": "@jupyter-widgets/controls",
          "model_module_version": "1.5.0",
          "model_name": "HTMLModel",
          "state": {
            "_dom_classes": [],
            "_model_module": "@jupyter-widgets/controls",
            "_model_module_version": "1.5.0",
            "_model_name": "HTMLModel",
            "_view_count": null,
            "_view_module": "@jupyter-widgets/controls",
            "_view_module_version": "1.5.0",
            "_view_name": "HTMLView",
            "description": "",
            "description_tooltip": null,
            "layout": "IPY_MODEL_645117a3c5bd4efbb3c4d0cfd78cbf95",
            "placeholder": "​",
            "style": "IPY_MODEL_f1288703a8654f0da66c0d66ee94688c",
            "value": " 233/233 [00:00&lt;00:00, 11.0kB/s]"
          }
        },
        "bc02b3400bca4faca6a3884004734dca": {
          "model_module": "@jupyter-widgets/base",
          "model_module_version": "1.2.0",
          "model_name": "LayoutModel",
          "state": {
            "_model_module": "@jupyter-widgets/base",
            "_model_module_version": "1.2.0",
            "_model_name": "LayoutModel",
            "_view_count": null,
            "_view_module": "@jupyter-widgets/base",
            "_view_module_version": "1.2.0",
            "_view_name": "LayoutView",
            "align_content": null,
            "align_items": null,
            "align_self": null,
            "border": null,
            "bottom": null,
            "display": null,
            "flex": null,
            "flex_flow": null,
            "grid_area": null,
            "grid_auto_columns": null,
            "grid_auto_flow": null,
            "grid_auto_rows": null,
            "grid_column": null,
            "grid_gap": null,
            "grid_row": null,
            "grid_template_areas": null,
            "grid_template_columns": null,
            "grid_template_rows": null,
            "height": null,
            "justify_content": null,
            "justify_items": null,
            "left": null,
            "margin": null,
            "max_height": null,
            "max_width": null,
            "min_height": null,
            "min_width": null,
            "object_fit": null,
            "object_position": null,
            "order": null,
            "overflow": null,
            "overflow_x": null,
            "overflow_y": null,
            "padding": null,
            "right": null,
            "top": null,
            "visibility": null,
            "width": null
          }
        },
        "bfa6aa83e6b841eeb0738fec610dfc1c": {
          "model_module": "@jupyter-widgets/base",
          "model_module_version": "1.2.0",
          "model_name": "LayoutModel",
          "state": {
            "_model_module": "@jupyter-widgets/base",
            "_model_module_version": "1.2.0",
            "_model_name": "LayoutModel",
            "_view_count": null,
            "_view_module": "@jupyter-widgets/base",
            "_view_module_version": "1.2.0",
            "_view_name": "LayoutView",
            "align_content": null,
            "align_items": null,
            "align_self": null,
            "border": null,
            "bottom": null,
            "display": null,
            "flex": null,
            "flex_flow": null,
            "grid_area": null,
            "grid_auto_columns": null,
            "grid_auto_flow": null,
            "grid_auto_rows": null,
            "grid_column": null,
            "grid_gap": null,
            "grid_row": null,
            "grid_template_areas": null,
            "grid_template_columns": null,
            "grid_template_rows": null,
            "height": null,
            "justify_content": null,
            "justify_items": null,
            "left": null,
            "margin": null,
            "max_height": null,
            "max_width": null,
            "min_height": null,
            "min_width": null,
            "object_fit": null,
            "object_position": null,
            "order": null,
            "overflow": null,
            "overflow_x": null,
            "overflow_y": null,
            "padding": null,
            "right": null,
            "top": null,
            "visibility": null,
            "width": null
          }
        },
        "c4f77c3817da4962aab560f80efc66b6": {
          "model_module": "@jupyter-widgets/controls",
          "model_module_version": "1.5.0",
          "model_name": "DescriptionStyleModel",
          "state": {
            "_model_module": "@jupyter-widgets/controls",
            "_model_module_version": "1.5.0",
            "_model_name": "DescriptionStyleModel",
            "_view_count": null,
            "_view_module": "@jupyter-widgets/base",
            "_view_module_version": "1.2.0",
            "_view_name": "StyleView",
            "description_width": ""
          }
        },
        "d0339a8a65024fcdab22d00c725d8cbe": {
          "model_module": "@jupyter-widgets/base",
          "model_module_version": "1.2.0",
          "model_name": "LayoutModel",
          "state": {
            "_model_module": "@jupyter-widgets/base",
            "_model_module_version": "1.2.0",
            "_model_name": "LayoutModel",
            "_view_count": null,
            "_view_module": "@jupyter-widgets/base",
            "_view_module_version": "1.2.0",
            "_view_name": "LayoutView",
            "align_content": null,
            "align_items": null,
            "align_self": null,
            "border": null,
            "bottom": null,
            "display": null,
            "flex": null,
            "flex_flow": null,
            "grid_area": null,
            "grid_auto_columns": null,
            "grid_auto_flow": null,
            "grid_auto_rows": null,
            "grid_column": null,
            "grid_gap": null,
            "grid_row": null,
            "grid_template_areas": null,
            "grid_template_columns": null,
            "grid_template_rows": null,
            "height": null,
            "justify_content": null,
            "justify_items": null,
            "left": null,
            "margin": null,
            "max_height": null,
            "max_width": null,
            "min_height": null,
            "min_width": null,
            "object_fit": null,
            "object_position": null,
            "order": null,
            "overflow": null,
            "overflow_x": null,
            "overflow_y": null,
            "padding": null,
            "right": null,
            "top": null,
            "visibility": null,
            "width": null
          }
        },
        "d1f88b500bc7426baaae9ff68530228b": {
          "model_module": "@jupyter-widgets/controls",
          "model_module_version": "1.5.0",
          "model_name": "FloatProgressModel",
          "state": {
            "_dom_classes": [],
            "_model_module": "@jupyter-widgets/controls",
            "_model_module_version": "1.5.0",
            "_model_name": "FloatProgressModel",
            "_view_count": null,
            "_view_module": "@jupyter-widgets/controls",
            "_view_module_version": "1.5.0",
            "_view_name": "ProgressView",
            "bar_style": "success",
            "description": "",
            "description_tooltip": null,
            "layout": "IPY_MODEL_3befe0ff4a3147a29df1ffe2eb04549c",
            "max": 22466890,
            "min": 0,
            "orientation": "horizontal",
            "style": "IPY_MODEL_9db96c3e02284f5098d8d78fdf3ba9aa",
            "value": 22466890
          }
        },
        "d6b9f5fdcdc6427585118dbba44c2f71": {
          "model_module": "@jupyter-widgets/base",
          "model_module_version": "1.2.0",
          "model_name": "LayoutModel",
          "state": {
            "_model_module": "@jupyter-widgets/base",
            "_model_module_version": "1.2.0",
            "_model_name": "LayoutModel",
            "_view_count": null,
            "_view_module": "@jupyter-widgets/base",
            "_view_module_version": "1.2.0",
            "_view_name": "LayoutView",
            "align_content": null,
            "align_items": null,
            "align_self": null,
            "border": null,
            "bottom": null,
            "display": null,
            "flex": null,
            "flex_flow": null,
            "grid_area": null,
            "grid_auto_columns": null,
            "grid_auto_flow": null,
            "grid_auto_rows": null,
            "grid_column": null,
            "grid_gap": null,
            "grid_row": null,
            "grid_template_areas": null,
            "grid_template_columns": null,
            "grid_template_rows": null,
            "height": null,
            "justify_content": null,
            "justify_items": null,
            "left": null,
            "margin": null,
            "max_height": null,
            "max_width": null,
            "min_height": null,
            "min_width": null,
            "object_fit": null,
            "object_position": null,
            "order": null,
            "overflow": null,
            "overflow_x": null,
            "overflow_y": null,
            "padding": null,
            "right": null,
            "top": null,
            "visibility": null,
            "width": null
          }
        },
        "e00e44a7448f44e6aa4a2d8183bd2b53": {
          "model_module": "@jupyter-widgets/controls",
          "model_module_version": "1.5.0",
          "model_name": "HTMLModel",
          "state": {
            "_dom_classes": [],
            "_model_module": "@jupyter-widgets/controls",
            "_model_module_version": "1.5.0",
            "_model_name": "HTMLModel",
            "_view_count": null,
            "_view_module": "@jupyter-widgets/controls",
            "_view_module_version": "1.5.0",
            "_view_name": "HTMLView",
            "description": "",
            "description_tooltip": null,
            "layout": "IPY_MODEL_5b584e3319844eb1b76d480f73510127",
            "placeholder": "​",
            "style": "IPY_MODEL_a8cd998d26ab4eabbde2c6d28a797757",
            "value": "README.md: 100%"
          }
        },
        "e9d50fdd22754b67abe4999a3a1b91e3": {
          "model_module": "@jupyter-widgets/controls",
          "model_module_version": "1.5.0",
          "model_name": "ProgressStyleModel",
          "state": {
            "_model_module": "@jupyter-widgets/controls",
            "_model_module_version": "1.5.0",
            "_model_name": "ProgressStyleModel",
            "_view_count": null,
            "_view_module": "@jupyter-widgets/base",
            "_view_module_version": "1.2.0",
            "_view_name": "StyleView",
            "bar_color": null,
            "description_width": ""
          }
        },
        "efbc61df6dc74841ab2d967cdf4bbd71": {
          "model_module": "@jupyter-widgets/base",
          "model_module_version": "1.2.0",
          "model_name": "LayoutModel",
          "state": {
            "_model_module": "@jupyter-widgets/base",
            "_model_module_version": "1.2.0",
            "_model_name": "LayoutModel",
            "_view_count": null,
            "_view_module": "@jupyter-widgets/base",
            "_view_module_version": "1.2.0",
            "_view_name": "LayoutView",
            "align_content": null,
            "align_items": null,
            "align_self": null,
            "border": null,
            "bottom": null,
            "display": null,
            "flex": null,
            "flex_flow": null,
            "grid_area": null,
            "grid_auto_columns": null,
            "grid_auto_flow": null,
            "grid_auto_rows": null,
            "grid_column": null,
            "grid_gap": null,
            "grid_row": null,
            "grid_template_areas": null,
            "grid_template_columns": null,
            "grid_template_rows": null,
            "height": null,
            "justify_content": null,
            "justify_items": null,
            "left": null,
            "margin": null,
            "max_height": null,
            "max_width": null,
            "min_height": null,
            "min_width": null,
            "object_fit": null,
            "object_position": null,
            "order": null,
            "overflow": null,
            "overflow_x": null,
            "overflow_y": null,
            "padding": null,
            "right": null,
            "top": null,
            "visibility": null,
            "width": null
          }
        },
        "f1288703a8654f0da66c0d66ee94688c": {
          "model_module": "@jupyter-widgets/controls",
          "model_module_version": "1.5.0",
          "model_name": "DescriptionStyleModel",
          "state": {
            "_model_module": "@jupyter-widgets/controls",
            "_model_module_version": "1.5.0",
            "_model_name": "DescriptionStyleModel",
            "_view_count": null,
            "_view_module": "@jupyter-widgets/base",
            "_view_module_version": "1.2.0",
            "_view_name": "StyleView",
            "description_width": ""
          }
        },
        "f92ecbfb6a21426690820b0322ae4b4d": {
          "model_module": "@jupyter-widgets/controls",
          "model_module_version": "1.5.0",
          "model_name": "HTMLModel",
          "state": {
            "_dom_classes": [],
            "_model_module": "@jupyter-widgets/controls",
            "_model_module_version": "1.5.0",
            "_model_name": "HTMLModel",
            "_view_count": null,
            "_view_module": "@jupyter-widgets/controls",
            "_view_module_version": "1.5.0",
            "_view_name": "HTMLView",
            "description": "",
            "description_tooltip": null,
            "layout": "IPY_MODEL_d6b9f5fdcdc6427585118dbba44c2f71",
            "placeholder": "​",
            "style": "IPY_MODEL_2dec30fc69de421f838251752653adbf",
            "value": " 16407/16407 [00:00&lt;00:00, 26835.64 examples/s]"
          }
        }
      }
    }
  },
  "nbformat": 4,
  "nbformat_minor": 0
}
